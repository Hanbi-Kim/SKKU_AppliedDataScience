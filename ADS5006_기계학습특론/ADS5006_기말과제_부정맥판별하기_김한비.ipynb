{
 "cells": [
  {
   "cell_type": "markdown",
   "metadata": {},
   "source": [
    "# ADS5006 기계학습특론 \n",
    "# 기말과제 : 부정맥 판별\n",
    "\n",
    "## 이름: 김한비\n",
    "## 소속: 데이터사이언스융합과\n",
    "## 학번: 2021712203"
   ]
  },
  {
   "cell_type": "markdown",
   "metadata": {},
   "source": [
    "# 라이브러리 로드"
   ]
  },
  {
   "cell_type": "code",
   "execution_count": 149,
   "metadata": {},
   "outputs": [],
   "source": [
    "from os import listdir\n",
    "from os.path import isfile, join\n",
    "import random\n",
    "from sklearn.model_selection import train_test_split\n",
    "from sklearn.ensemble import RandomForestRegressor\n",
    "from sklearn import metrics\n",
    "import xml.etree.ElementTree as ET\n",
    "import pandas as pd\n",
    "import numpy as np \n",
    "import matplotlib.pyplot as plt\n",
    "from collections import Counter\n",
    "from imblearn.over_sampling import SMOTE\n",
    "from sklearn.model_selection import cross_validate\n",
    "from sklearn.metrics import recall_score\n",
    "import warnings\n",
    "warnings.filterwarnings(\"ignore\")\n",
    "\n",
    "\n",
    "import tensorflow as tf\n",
    "from tensorflow import keras"
   ]
  },
  {
   "cell_type": "code",
   "execution_count": 2,
   "metadata": {},
   "outputs": [],
   "source": [
    "# train E/ train NoE/ Test T 가있는, 데이터셋 경로지정\n",
    "mypath = 'Dataset/'"
   ]
  },
  {
   "cell_type": "markdown",
   "metadata": {},
   "source": [
    "# 데이터 불러오기"
   ]
  },
  {
   "cell_type": "markdown",
   "metadata": {},
   "source": [
    "- XML 데이터를 불러오고 이를 DataFrame에 저장한다.\n",
    "- df = No VF/VT train 으로 저장한다.\n",
    "- df1 = VF/VT train 으로 저장한다.\n",
    "- 최종적으로 df에 df와 df1을 같이 저장한다."
   ]
  },
  {
   "cell_type": "code",
   "execution_count": 92,
   "metadata": {},
   "outputs": [
    {
     "data": {
      "text/html": [
       "<div>\n",
       "<style scoped>\n",
       "    .dataframe tbody tr th:only-of-type {\n",
       "        vertical-align: middle;\n",
       "    }\n",
       "\n",
       "    .dataframe tbody tr th {\n",
       "        vertical-align: top;\n",
       "    }\n",
       "\n",
       "    .dataframe thead th {\n",
       "        text-align: right;\n",
       "    }\n",
       "</style>\n",
       "<table border=\"1\" class=\"dataframe\">\n",
       "  <thead>\n",
       "    <tr style=\"text-align: right;\">\n",
       "      <th></th>\n",
       "      <th>patientID</th>\n",
       "      <th>Gender</th>\n",
       "      <th>Age</th>\n",
       "      <th>HeartRate</th>\n",
       "      <th>PRInterval</th>\n",
       "      <th>RRInterval</th>\n",
       "      <th>QRSDuration</th>\n",
       "      <th>QTInterval</th>\n",
       "      <th>QTCorrected</th>\n",
       "      <th>PAxis</th>\n",
       "      <th>RAxis</th>\n",
       "      <th>TAxis</th>\n",
       "      <th>labels</th>\n",
       "    </tr>\n",
       "  </thead>\n",
       "  <tbody>\n",
       "    <tr>\n",
       "      <th>0</th>\n",
       "      <td>1</td>\n",
       "      <td>0.0</td>\n",
       "      <td>68.0</td>\n",
       "      <td>50.0</td>\n",
       "      <td>220</td>\n",
       "      <td>None</td>\n",
       "      <td>100.0</td>\n",
       "      <td>469.0</td>\n",
       "      <td>428.0</td>\n",
       "      <td>30</td>\n",
       "      <td>63.0</td>\n",
       "      <td>106</td>\n",
       "      <td>0.0</td>\n",
       "    </tr>\n",
       "    <tr>\n",
       "      <th>1</th>\n",
       "      <td>10</td>\n",
       "      <td>0.0</td>\n",
       "      <td>59.0</td>\n",
       "      <td>62.0</td>\n",
       "      <td>191</td>\n",
       "      <td>968</td>\n",
       "      <td>97.0</td>\n",
       "      <td>433.0</td>\n",
       "      <td>440.0</td>\n",
       "      <td>54</td>\n",
       "      <td>-53.0</td>\n",
       "      <td>27</td>\n",
       "      <td>0.0</td>\n",
       "    </tr>\n",
       "    <tr>\n",
       "      <th>2</th>\n",
       "      <td>100</td>\n",
       "      <td>0.0</td>\n",
       "      <td>49.0</td>\n",
       "      <td>49.0</td>\n",
       "      <td>176</td>\n",
       "      <td>None</td>\n",
       "      <td>88.0</td>\n",
       "      <td>516.0</td>\n",
       "      <td>466.0</td>\n",
       "      <td>23</td>\n",
       "      <td>55.0</td>\n",
       "      <td>258</td>\n",
       "      <td>0.0</td>\n",
       "    </tr>\n",
       "    <tr>\n",
       "      <th>3</th>\n",
       "      <td>101</td>\n",
       "      <td>0.0</td>\n",
       "      <td>58.0</td>\n",
       "      <td>63.0</td>\n",
       "      <td>174</td>\n",
       "      <td>952</td>\n",
       "      <td>129.0</td>\n",
       "      <td>448.0</td>\n",
       "      <td>459.0</td>\n",
       "      <td>34</td>\n",
       "      <td>52.0</td>\n",
       "      <td>194</td>\n",
       "      <td>0.0</td>\n",
       "    </tr>\n",
       "    <tr>\n",
       "      <th>4</th>\n",
       "      <td>102</td>\n",
       "      <td>0.0</td>\n",
       "      <td>49.0</td>\n",
       "      <td>67.0</td>\n",
       "      <td>176</td>\n",
       "      <td>896</td>\n",
       "      <td>96.0</td>\n",
       "      <td>396.0</td>\n",
       "      <td>418.0</td>\n",
       "      <td>56</td>\n",
       "      <td>194.0</td>\n",
       "      <td>49</td>\n",
       "      <td>0.0</td>\n",
       "    </tr>\n",
       "  </tbody>\n",
       "</table>\n",
       "</div>"
      ],
      "text/plain": [
       "  patientID  Gender   Age  HeartRate PRInterval RRInterval  QRSDuration  \\\n",
       "0         1     0.0  68.0       50.0        220       None        100.0   \n",
       "1        10     0.0  59.0       62.0        191        968         97.0   \n",
       "2       100     0.0  49.0       49.0        176       None         88.0   \n",
       "3       101     0.0  58.0       63.0        174        952        129.0   \n",
       "4       102     0.0  49.0       67.0        176        896         96.0   \n",
       "\n",
       "   QTInterval  QTCorrected PAxis  RAxis TAxis  labels  \n",
       "0       469.0        428.0    30   63.0   106     0.0  \n",
       "1       433.0        440.0    54  -53.0    27     0.0  \n",
       "2       516.0        466.0    23   55.0   258     0.0  \n",
       "3       448.0        459.0    34   52.0   194     0.0  \n",
       "4       396.0        418.0    56  194.0    49     0.0  "
      ]
     },
     "execution_count": 92,
     "metadata": {},
     "output_type": "execute_result"
    }
   ],
   "source": [
    "df = pd.DataFrame({'patientID':[],'Gender':[],'Age':[],'HeartRate':[],\n",
    "                   'PRInterval':[],'RRInterval':[],'QRSDuration':[],'QTInterval'  : [],\n",
    "                   'QTCorrected' : [],'PAxis' : [],'RAxis' : [],'TAxis' : []})\n",
    "\n",
    "onlyfiles = [f for f in listdir(mypath+'Train_NoE/') if isfile(join(mypath+'Train_NoE/', f))]\n",
    "\n",
    "for i in onlyfiles:\n",
    "    tree = ET.parse(mypath +'Train_NoE/' + i)\n",
    "    root = tree.getroot()\n",
    "    patientID = (i.split('(')[1].split(')')[0])\n",
    "    for child in root[1]:\n",
    "        if child.tag == 'Gender':\n",
    "            if child.text == 'Male':\n",
    "                Gender = 0\n",
    "            elif child.text == \"Female\":\n",
    "                Gender = 1\n",
    "        elif child.tag == 'Age':\n",
    "            Age = int(child.text)\n",
    "    for child in root[4]:\n",
    "        if child.tag == 'HeartRate':\n",
    "            HeartRate = int(child.text)\n",
    "        elif child.tag == 'PRInterval':\n",
    "            PRInterval = child.text\n",
    "        elif child.tag == 'RRInterval':\n",
    "            RRInterval = child.text\n",
    "        elif child.tag == 'QRSDuration':\n",
    "            QRSDuration = int(child.text)\n",
    "        elif child.tag == 'QTInterval':\n",
    "            QTInterval = int(child.text)\n",
    "        elif child.tag == 'QTCorrected':\n",
    "            QTCorrected = int(child.text)\n",
    "        elif child.tag == 'PAxis':\n",
    "            PAxis = child.text\n",
    "        elif child.tag == 'RAxis':\n",
    "            RAxis = int(child.text)\n",
    "        elif child.tag == 'TAxis':\n",
    "            TAxis = child.text\n",
    "\n",
    "            \n",
    "    df = df.append({'patientID':patientID,'Gender': Gender,'Age': Age, 'HeartRate': HeartRate,\n",
    "                    'PRInterval':PRInterval ,'RRInterval':RRInterval,'QRSDuration':QRSDuration,'QTInterval'  : QTInterval,\n",
    "                   'QTCorrected' : QTCorrected,'PAxis' :PAxis,'RAxis' :RAxis,'TAxis' :TAxis}, ignore_index=True)\n",
    "        \n",
    "df['labels'] = np.zeros(len(df))\n",
    "df.head(5)"
   ]
  },
  {
   "cell_type": "code",
   "execution_count": 93,
   "metadata": {},
   "outputs": [
    {
     "data": {
      "text/html": [
       "<div>\n",
       "<style scoped>\n",
       "    .dataframe tbody tr th:only-of-type {\n",
       "        vertical-align: middle;\n",
       "    }\n",
       "\n",
       "    .dataframe tbody tr th {\n",
       "        vertical-align: top;\n",
       "    }\n",
       "\n",
       "    .dataframe thead th {\n",
       "        text-align: right;\n",
       "    }\n",
       "</style>\n",
       "<table border=\"1\" class=\"dataframe\">\n",
       "  <thead>\n",
       "    <tr style=\"text-align: right;\">\n",
       "      <th></th>\n",
       "      <th>patientID</th>\n",
       "      <th>Gender</th>\n",
       "      <th>Age</th>\n",
       "      <th>HeartRate</th>\n",
       "      <th>PRInterval</th>\n",
       "      <th>RRInterval</th>\n",
       "      <th>QRSDuration</th>\n",
       "      <th>QTInterval</th>\n",
       "      <th>QTCorrected</th>\n",
       "      <th>PAxis</th>\n",
       "      <th>RAxis</th>\n",
       "      <th>TAxis</th>\n",
       "      <th>labels</th>\n",
       "    </tr>\n",
       "  </thead>\n",
       "  <tbody>\n",
       "    <tr>\n",
       "      <th>0</th>\n",
       "      <td>1</td>\n",
       "      <td>0.0</td>\n",
       "      <td>61.0</td>\n",
       "      <td>61.0</td>\n",
       "      <td>196</td>\n",
       "      <td>None</td>\n",
       "      <td>91.0</td>\n",
       "      <td>476.0</td>\n",
       "      <td>479.0</td>\n",
       "      <td>28</td>\n",
       "      <td>62.0</td>\n",
       "      <td>178</td>\n",
       "      <td>1.0</td>\n",
       "    </tr>\n",
       "    <tr>\n",
       "      <th>1</th>\n",
       "      <td>10</td>\n",
       "      <td>0.0</td>\n",
       "      <td>47.0</td>\n",
       "      <td>61.0</td>\n",
       "      <td>208</td>\n",
       "      <td>984</td>\n",
       "      <td>95.0</td>\n",
       "      <td>444.0</td>\n",
       "      <td>447.0</td>\n",
       "      <td>50</td>\n",
       "      <td>31.0</td>\n",
       "      <td>None</td>\n",
       "      <td>1.0</td>\n",
       "    </tr>\n",
       "    <tr>\n",
       "      <th>2</th>\n",
       "      <td>11</td>\n",
       "      <td>0.0</td>\n",
       "      <td>47.0</td>\n",
       "      <td>52.0</td>\n",
       "      <td>220</td>\n",
       "      <td>1152</td>\n",
       "      <td>94.0</td>\n",
       "      <td>500.0</td>\n",
       "      <td>465.0</td>\n",
       "      <td>43</td>\n",
       "      <td>19.0</td>\n",
       "      <td>-75</td>\n",
       "      <td>1.0</td>\n",
       "    </tr>\n",
       "    <tr>\n",
       "      <th>3</th>\n",
       "      <td>12</td>\n",
       "      <td>0.0</td>\n",
       "      <td>47.0</td>\n",
       "      <td>53.0</td>\n",
       "      <td>224</td>\n",
       "      <td>1132</td>\n",
       "      <td>100.0</td>\n",
       "      <td>476.0</td>\n",
       "      <td>447.0</td>\n",
       "      <td>48</td>\n",
       "      <td>19.0</td>\n",
       "      <td>-67</td>\n",
       "      <td>1.0</td>\n",
       "    </tr>\n",
       "    <tr>\n",
       "      <th>4</th>\n",
       "      <td>13</td>\n",
       "      <td>0.0</td>\n",
       "      <td>49.0</td>\n",
       "      <td>53.0</td>\n",
       "      <td>None</td>\n",
       "      <td>1132</td>\n",
       "      <td>108.0</td>\n",
       "      <td>448.0</td>\n",
       "      <td>421.0</td>\n",
       "      <td>None</td>\n",
       "      <td>-1.0</td>\n",
       "      <td>-83</td>\n",
       "      <td>1.0</td>\n",
       "    </tr>\n",
       "  </tbody>\n",
       "</table>\n",
       "</div>"
      ],
      "text/plain": [
       "  patientID  Gender   Age  HeartRate PRInterval RRInterval  QRSDuration  \\\n",
       "0         1     0.0  61.0       61.0        196       None         91.0   \n",
       "1        10     0.0  47.0       61.0        208        984         95.0   \n",
       "2        11     0.0  47.0       52.0        220       1152         94.0   \n",
       "3        12     0.0  47.0       53.0        224       1132        100.0   \n",
       "4        13     0.0  49.0       53.0       None       1132        108.0   \n",
       "\n",
       "   QTInterval  QTCorrected PAxis  RAxis TAxis  labels  \n",
       "0       476.0        479.0    28   62.0   178     1.0  \n",
       "1       444.0        447.0    50   31.0  None     1.0  \n",
       "2       500.0        465.0    43   19.0   -75     1.0  \n",
       "3       476.0        447.0    48   19.0   -67     1.0  \n",
       "4       448.0        421.0  None   -1.0   -83     1.0  "
      ]
     },
     "execution_count": 93,
     "metadata": {},
     "output_type": "execute_result"
    }
   ],
   "source": [
    "df1 = pd.DataFrame({'patientID':[],'Gender':[],'Age':[],'HeartRate':[],\n",
    "                   'PRInterval':[],'RRInterval':[],'QRSDuration':[],'QTInterval'  : [],\n",
    "                   'QTCorrected' : [],'PAxis' : [],'RAxis' : [],'TAxis' : []})\n",
    "\n",
    "onlyfiles = [f for f in listdir(mypath+'Train_E/') if isfile(join(mypath+'Train_E/', f))]\n",
    "\n",
    "for i in onlyfiles:\n",
    "    tree = ET.parse(mypath+'Train_E/' + i)\n",
    "    root = tree.getroot()\n",
    "    patientID = (i.split('(')[1].split(')')[0])\n",
    "    for child in root[1]:\n",
    "        if child.tag == 'Gender':\n",
    "            if child.text == 'Male':\n",
    "                Gender = 0\n",
    "            elif child.text == \"Female\":\n",
    "                Gender = 1\n",
    "        elif child.tag == 'Age':\n",
    "            Age = int(child.text)\n",
    "    for child in root[4]:\n",
    "        if child.tag == 'HeartRate':\n",
    "            HeartRate = int(child.text)\n",
    "        elif child.tag == 'PRInterval':\n",
    "            PRInterval = child.text\n",
    "        elif child.tag == 'RRInterval':\n",
    "            RRInterval = child.text\n",
    "        elif child.tag == 'QRSDuration':\n",
    "            QRSDuration = int(child.text)\n",
    "        elif child.tag == 'QTInterval':\n",
    "            QTInterval = int(child.text)\n",
    "        elif child.tag == 'QTCorrected':\n",
    "            QTCorrected = int(child.text)\n",
    "        elif child.tag == 'PAxis':\n",
    "            PAxis = child.text\n",
    "        elif child.tag == 'RAxis':\n",
    "            RAxis = int(child.text)\n",
    "        elif child.tag == 'TAxis':\n",
    "            TAxis = child.text\n",
    "            \n",
    "    df1 = df1.append({'patientID':patientID,'Gender': Gender,'Age': Age, 'HeartRate': HeartRate,\n",
    "                    'PRInterval':PRInterval ,'RRInterval':RRInterval,'QRSDuration':QRSDuration,'QTInterval'  : QTInterval,\n",
    "                   'QTCorrected' : QTCorrected,'PAxis' :PAxis,'RAxis' :RAxis,'TAxis' :TAxis}, ignore_index=True)\n",
    "        \n",
    "df1['labels'] = np.ones(len(df1))\n",
    "df1.head(5)"
   ]
  },
  {
   "cell_type": "code",
   "execution_count": 94,
   "metadata": {},
   "outputs": [],
   "source": [
    "# 데이터를 합치고 인덱스 초기화\n",
    "df = [df,df1]\n",
    "df = pd.concat(df)\n",
    "df.reset_index(inplace=True,drop=True)"
   ]
  },
  {
   "cell_type": "code",
   "execution_count": 95,
   "metadata": {},
   "outputs": [
    {
     "data": {
      "text/html": [
       "<div>\n",
       "<style scoped>\n",
       "    .dataframe tbody tr th:only-of-type {\n",
       "        vertical-align: middle;\n",
       "    }\n",
       "\n",
       "    .dataframe tbody tr th {\n",
       "        vertical-align: top;\n",
       "    }\n",
       "\n",
       "    .dataframe thead th {\n",
       "        text-align: right;\n",
       "    }\n",
       "</style>\n",
       "<table border=\"1\" class=\"dataframe\">\n",
       "  <thead>\n",
       "    <tr style=\"text-align: right;\">\n",
       "      <th></th>\n",
       "      <th>patientID</th>\n",
       "      <th>Gender</th>\n",
       "      <th>Age</th>\n",
       "      <th>HeartRate</th>\n",
       "      <th>PRInterval</th>\n",
       "      <th>RRInterval</th>\n",
       "      <th>QRSDuration</th>\n",
       "      <th>QTInterval</th>\n",
       "      <th>QTCorrected</th>\n",
       "      <th>PAxis</th>\n",
       "      <th>RAxis</th>\n",
       "      <th>TAxis</th>\n",
       "      <th>labels</th>\n",
       "    </tr>\n",
       "  </thead>\n",
       "  <tbody>\n",
       "    <tr>\n",
       "      <th>0</th>\n",
       "      <td>1</td>\n",
       "      <td>0.0</td>\n",
       "      <td>68.0</td>\n",
       "      <td>50.0</td>\n",
       "      <td>220</td>\n",
       "      <td>None</td>\n",
       "      <td>100.0</td>\n",
       "      <td>469.0</td>\n",
       "      <td>428.0</td>\n",
       "      <td>30</td>\n",
       "      <td>63.0</td>\n",
       "      <td>106</td>\n",
       "      <td>0.0</td>\n",
       "    </tr>\n",
       "    <tr>\n",
       "      <th>1</th>\n",
       "      <td>10</td>\n",
       "      <td>0.0</td>\n",
       "      <td>59.0</td>\n",
       "      <td>62.0</td>\n",
       "      <td>191</td>\n",
       "      <td>968</td>\n",
       "      <td>97.0</td>\n",
       "      <td>433.0</td>\n",
       "      <td>440.0</td>\n",
       "      <td>54</td>\n",
       "      <td>-53.0</td>\n",
       "      <td>27</td>\n",
       "      <td>0.0</td>\n",
       "    </tr>\n",
       "    <tr>\n",
       "      <th>2</th>\n",
       "      <td>100</td>\n",
       "      <td>0.0</td>\n",
       "      <td>49.0</td>\n",
       "      <td>49.0</td>\n",
       "      <td>176</td>\n",
       "      <td>None</td>\n",
       "      <td>88.0</td>\n",
       "      <td>516.0</td>\n",
       "      <td>466.0</td>\n",
       "      <td>23</td>\n",
       "      <td>55.0</td>\n",
       "      <td>258</td>\n",
       "      <td>0.0</td>\n",
       "    </tr>\n",
       "    <tr>\n",
       "      <th>3</th>\n",
       "      <td>101</td>\n",
       "      <td>0.0</td>\n",
       "      <td>58.0</td>\n",
       "      <td>63.0</td>\n",
       "      <td>174</td>\n",
       "      <td>952</td>\n",
       "      <td>129.0</td>\n",
       "      <td>448.0</td>\n",
       "      <td>459.0</td>\n",
       "      <td>34</td>\n",
       "      <td>52.0</td>\n",
       "      <td>194</td>\n",
       "      <td>0.0</td>\n",
       "    </tr>\n",
       "    <tr>\n",
       "      <th>4</th>\n",
       "      <td>102</td>\n",
       "      <td>0.0</td>\n",
       "      <td>49.0</td>\n",
       "      <td>67.0</td>\n",
       "      <td>176</td>\n",
       "      <td>896</td>\n",
       "      <td>96.0</td>\n",
       "      <td>396.0</td>\n",
       "      <td>418.0</td>\n",
       "      <td>56</td>\n",
       "      <td>194.0</td>\n",
       "      <td>49</td>\n",
       "      <td>0.0</td>\n",
       "    </tr>\n",
       "  </tbody>\n",
       "</table>\n",
       "</div>"
      ],
      "text/plain": [
       "  patientID  Gender   Age  HeartRate PRInterval RRInterval  QRSDuration  \\\n",
       "0         1     0.0  68.0       50.0        220       None        100.0   \n",
       "1        10     0.0  59.0       62.0        191        968         97.0   \n",
       "2       100     0.0  49.0       49.0        176       None         88.0   \n",
       "3       101     0.0  58.0       63.0        174        952        129.0   \n",
       "4       102     0.0  49.0       67.0        176        896         96.0   \n",
       "\n",
       "   QTInterval  QTCorrected PAxis  RAxis TAxis  labels  \n",
       "0       469.0        428.0    30   63.0   106     0.0  \n",
       "1       433.0        440.0    54  -53.0    27     0.0  \n",
       "2       516.0        466.0    23   55.0   258     0.0  \n",
       "3       448.0        459.0    34   52.0   194     0.0  \n",
       "4       396.0        418.0    56  194.0    49     0.0  "
      ]
     },
     "execution_count": 95,
     "metadata": {},
     "output_type": "execute_result"
    }
   ],
   "source": [
    "# 최종 데이터셋 확인\n",
    "df.head(5)"
   ]
  },
  {
   "cell_type": "code",
   "execution_count": 96,
   "metadata": {},
   "outputs": [],
   "source": [
    "# 'PAxis','TAxis' 에 포함된 Indeterminate와 failed는 결측치 처리하여 후에 따로 처리\n",
    "for i in range(len(df)):\n",
    "    if df['PAxis'].loc[i] == 'Indeterminate':\n",
    "        df['PAxis'].loc[i] = None\n",
    "    elif df['PAxis'].loc[i] == 'Failed':\n",
    "        df['PAxis'].loc[i] = None\n",
    "    if df['TAxis'].loc[i] == 'Failed':\n",
    "        df['TAxis'].loc[i] = None      \n",
    "    if df['PRInterval'].loc[i] == 'Failed':\n",
    "        df['PRInterval'].loc[i] = None "
   ]
  },
  {
   "cell_type": "markdown",
   "metadata": {},
   "source": [
    "## Fig2. VF/VT가 있는 환자와 없는 환자의 12개 ECG leads wave 비교를 위한 시각화"
   ]
  },
  {
   "cell_type": "code",
   "execution_count": 281,
   "metadata": {},
   "outputs": [
    {
     "data": {
      "image/png": "[encoded data removed]",
      "text/plain": [
       "<Figure size 1080x720 with 12 Axes>"
      ]
     },
     "metadata": {
      "needs_background": "light"
     },
     "output_type": "display_data"
    }
   ],
   "source": [
    "fig, axs = plt.subplots(3, 4, figsize=(15,10))\n",
    "tree = ET.parse('Dataset/Train_E/Train_E (3).XML')\n",
    "root = tree.getroot()\n",
    "dfn = pd.DataFrame()\n",
    "\n",
    "for n in range(12):\n",
    "    data = root[5][n + 5][10].text\n",
    "    data = data.split(',')\n",
    "    for i in range(len(data)):\n",
    "        data[i] = int(data[i])\n",
    "        dfn[root[5][n + 5][0].text] = data\n",
    "\n",
    "\n",
    "for n in range(12):\n",
    "    axs[n//4, n%4].plot(dfn[dfn.columns[n]])\n",
    "    axs[n//4, n%4].set_title((dfn.columns[n]))\n",
    "\n",
    "# Hide x labels and tick labels for top plots and y ticks for right plots.\n",
    "for ax in axs.flat:\n",
    "    ax.label_outer()"
   ]
  },
  {
   "cell_type": "code",
   "execution_count": 282,
   "metadata": {},
   "outputs": [
    {
     "data": {
      "image/png": "[encoded data removed]",
      "text/plain": [
       "<Figure size 1080x720 with 12 Axes>"
      ]
     },
     "metadata": {
      "needs_background": "light"
     },
     "output_type": "display_data"
    }
   ],
   "source": [
    "fig, axs = plt.subplots(3, 4, figsize=(15,10))\n",
    "tree = ET.parse('Dataset/Train_NoE/Train_NoE (4).XML')\n",
    "root = tree.getroot()\n",
    "dfn = pd.DataFrame()\n",
    "\n",
    "for n in range(12):\n",
    "    data = root[5][n + 5][10].text\n",
    "    data = data.split(',')\n",
    "    for i in range(len(data)):\n",
    "        data[i] = int(data[i])\n",
    "        dfn[root[5][n + 5][0].text] = data\n",
    "\n",
    "\n",
    "for n in range(12):\n",
    "    axs[n//4, n%4].plot(dfn[dfn.columns[n]])\n",
    "    axs[n//4, n%4].set_title((dfn.columns[n]))\n",
    "\n",
    "# Hide x labels and tick labels for top plots and y ticks for right plots.\n",
    "for ax in axs.flat:\n",
    "    ax.label_outer()"
   ]
  },
  {
   "cell_type": "markdown",
   "metadata": {},
   "source": [
    "# 결측치 확인 및 처리"
   ]
  },
  {
   "cell_type": "code",
   "execution_count": 97,
   "metadata": {},
   "outputs": [
    {
     "name": "stdout",
     "output_type": "stream",
     "text": [
      "<class 'pandas.core.frame.DataFrame'>\n",
      "RangeIndex: 646 entries, 0 to 645\n",
      "Data columns (total 13 columns):\n",
      " #   Column       Non-Null Count  Dtype  \n",
      "---  ------       --------------  -----  \n",
      " 0   patientID    646 non-null    object \n",
      " 1   Gender       646 non-null    float64\n",
      " 2   Age          646 non-null    float64\n",
      " 3   HeartRate    646 non-null    float64\n",
      " 4   PRInterval   578 non-null    object \n",
      " 5   RRInterval   553 non-null    object \n",
      " 6   QRSDuration  646 non-null    float64\n",
      " 7   QTInterval   646 non-null    float64\n",
      " 8   QTCorrected  646 non-null    float64\n",
      " 9   PAxis        575 non-null    object \n",
      " 10  RAxis        646 non-null    float64\n",
      " 11  TAxis        633 non-null    object \n",
      " 12  labels       646 non-null    float64\n",
      "dtypes: float64(8), object(5)\n",
      "memory usage: 65.7+ KB\n"
     ]
    }
   ],
   "source": [
    "df.info()"
   ]
  },
  {
   "cell_type": "code",
   "execution_count": 98,
   "metadata": {},
   "outputs": [
    {
     "data": {
      "text/plain": [
       "Index(['PRInterval', 'RRInterval', 'PAxis', 'TAxis'], dtype='object')"
      ]
     },
     "execution_count": 98,
     "metadata": {},
     "output_type": "execute_result"
    }
   ],
   "source": [
    "# Null 값이 존재하는 컬럼 확인\n",
    "null_columns=df.columns[df.isnull().any()]\n",
    "null_columns"
   ]
  },
  {
   "cell_type": "code",
   "execution_count": 99,
   "metadata": {},
   "outputs": [
    {
     "data": {
      "text/html": [
       "<div>\n",
       "<style scoped>\n",
       "    .dataframe tbody tr th:only-of-type {\n",
       "        vertical-align: middle;\n",
       "    }\n",
       "\n",
       "    .dataframe tbody tr th {\n",
       "        vertical-align: top;\n",
       "    }\n",
       "\n",
       "    .dataframe thead th {\n",
       "        text-align: right;\n",
       "    }\n",
       "</style>\n",
       "<table border=\"1\" class=\"dataframe\">\n",
       "  <thead>\n",
       "    <tr style=\"text-align: right;\">\n",
       "      <th></th>\n",
       "      <th>Age</th>\n",
       "      <th>HeartRate</th>\n",
       "      <th>PRInterval</th>\n",
       "      <th>RRInterval</th>\n",
       "      <th>QRSDuration</th>\n",
       "      <th>QTInterval</th>\n",
       "      <th>QTCorrected</th>\n",
       "      <th>PAxis</th>\n",
       "      <th>RAxis</th>\n",
       "      <th>TAxis</th>\n",
       "      <th>labels</th>\n",
       "    </tr>\n",
       "  </thead>\n",
       "  <tbody>\n",
       "    <tr>\n",
       "      <th>639</th>\n",
       "      <td>73</td>\n",
       "      <td>59</td>\n",
       "      <td>224</td>\n",
       "      <td>1016</td>\n",
       "      <td>94</td>\n",
       "      <td>508</td>\n",
       "      <td>504</td>\n",
       "      <td>45</td>\n",
       "      <td>66</td>\n",
       "      <td>89</td>\n",
       "      <td>1</td>\n",
       "    </tr>\n",
       "    <tr>\n",
       "      <th>641</th>\n",
       "      <td>47</td>\n",
       "      <td>61</td>\n",
       "      <td>248</td>\n",
       "      <td>984</td>\n",
       "      <td>178</td>\n",
       "      <td>484</td>\n",
       "      <td>488</td>\n",
       "      <td>67</td>\n",
       "      <td>129</td>\n",
       "      <td>-34</td>\n",
       "      <td>1</td>\n",
       "    </tr>\n",
       "    <tr>\n",
       "      <th>643</th>\n",
       "      <td>72</td>\n",
       "      <td>58</td>\n",
       "      <td>138</td>\n",
       "      <td>1036</td>\n",
       "      <td>93</td>\n",
       "      <td>488</td>\n",
       "      <td>480</td>\n",
       "      <td>70</td>\n",
       "      <td>71</td>\n",
       "      <td>188</td>\n",
       "      <td>1</td>\n",
       "    </tr>\n",
       "    <tr>\n",
       "      <th>644</th>\n",
       "      <td>73</td>\n",
       "      <td>67</td>\n",
       "      <td>150</td>\n",
       "      <td>896</td>\n",
       "      <td>98</td>\n",
       "      <td>457</td>\n",
       "      <td>483</td>\n",
       "      <td>48</td>\n",
       "      <td>59</td>\n",
       "      <td>148</td>\n",
       "      <td>1</td>\n",
       "    </tr>\n",
       "    <tr>\n",
       "      <th>645</th>\n",
       "      <td>73</td>\n",
       "      <td>58</td>\n",
       "      <td>144</td>\n",
       "      <td>1036</td>\n",
       "      <td>98</td>\n",
       "      <td>484</td>\n",
       "      <td>476</td>\n",
       "      <td>62</td>\n",
       "      <td>70</td>\n",
       "      <td>187</td>\n",
       "      <td>1</td>\n",
       "    </tr>\n",
       "  </tbody>\n",
       "</table>\n",
       "</div>"
      ],
      "text/plain": [
       "     Age  HeartRate  PRInterval  RRInterval  QRSDuration  QTInterval  \\\n",
       "639   73         59         224        1016           94         508   \n",
       "641   47         61         248         984          178         484   \n",
       "643   72         58         138        1036           93         488   \n",
       "644   73         67         150         896           98         457   \n",
       "645   73         58         144        1036           98         484   \n",
       "\n",
       "     QTCorrected  PAxis  RAxis  TAxis  labels  \n",
       "639          504     45     66     89       1  \n",
       "641          488     67    129    -34       1  \n",
       "643          480     70     71    188       1  \n",
       "644          483     48     59    148       1  \n",
       "645          476     62     70    187       1  "
      ]
     },
     "execution_count": 99,
     "metadata": {},
     "output_type": "execute_result"
    }
   ],
   "source": [
    "# 결측치를 우선 제거 후 확인 \n",
    "df_dropna = df.dropna()\n",
    "df_dropna = df_dropna.iloc[:,2:].astype(int)\n",
    "df_dropna.tail(5)"
   ]
  },
  {
   "cell_type": "markdown",
   "metadata": {},
   "source": [
    "## Fig 3 상관관계 분석표"
   ]
  },
  {
   "cell_type": "code",
   "execution_count": 100,
   "metadata": {},
   "outputs": [
    {
     "data": {
      "text/html": [
       "<style  type=\"text/css\" >\n",
       "#T_28837ae9_f77e_11eb_8450_683e26367aadrow0_col0,#T_28837ae9_f77e_11eb_8450_683e26367aadrow1_col1,#T_28837ae9_f77e_11eb_8450_683e26367aadrow2_col2,#T_28837ae9_f77e_11eb_8450_683e26367aadrow3_col3,#T_28837ae9_f77e_11eb_8450_683e26367aadrow4_col4,#T_28837ae9_f77e_11eb_8450_683e26367aadrow5_col5,#T_28837ae9_f77e_11eb_8450_683e26367aadrow6_col6,#T_28837ae9_f77e_11eb_8450_683e26367aadrow7_col7,#T_28837ae9_f77e_11eb_8450_683e26367aadrow8_col8,#T_28837ae9_f77e_11eb_8450_683e26367aadrow9_col9,#T_28837ae9_f77e_11eb_8450_683e26367aadrow10_col10{\n",
       "            background-color:  #b40426;\n",
       "            color:  #f1f1f1;\n",
       "        }#T_28837ae9_f77e_11eb_8450_683e26367aadrow0_col1{\n",
       "            background-color:  #d6dce4;\n",
       "            color:  #000000;\n",
       "        }#T_28837ae9_f77e_11eb_8450_683e26367aadrow0_col2,#T_28837ae9_f77e_11eb_8450_683e26367aadrow8_col7{\n",
       "            background-color:  #799cf8;\n",
       "            color:  #000000;\n",
       "        }#T_28837ae9_f77e_11eb_8450_683e26367aadrow0_col3{\n",
       "            background-color:  #e1dad6;\n",
       "            color:  #000000;\n",
       "        }#T_28837ae9_f77e_11eb_8450_683e26367aadrow0_col4,#T_28837ae9_f77e_11eb_8450_683e26367aadrow4_col0{\n",
       "            background-color:  #6e90f2;\n",
       "            color:  #000000;\n",
       "        }#T_28837ae9_f77e_11eb_8450_683e26367aadrow0_col5{\n",
       "            background-color:  #dadce0;\n",
       "            color:  #000000;\n",
       "        }#T_28837ae9_f77e_11eb_8450_683e26367aadrow0_col6{\n",
       "            background-color:  #94b6ff;\n",
       "            color:  #000000;\n",
       "        }#T_28837ae9_f77e_11eb_8450_683e26367aadrow0_col7,#T_28837ae9_f77e_11eb_8450_683e26367aadrow3_col9{\n",
       "            background-color:  #4961d2;\n",
       "            color:  #f1f1f1;\n",
       "        }#T_28837ae9_f77e_11eb_8450_683e26367aadrow0_col8,#T_28837ae9_f77e_11eb_8450_683e26367aadrow1_col3,#T_28837ae9_f77e_11eb_8450_683e26367aadrow1_col4,#T_28837ae9_f77e_11eb_8450_683e26367aadrow1_col5,#T_28837ae9_f77e_11eb_8450_683e26367aadrow1_col10,#T_28837ae9_f77e_11eb_8450_683e26367aadrow3_col1,#T_28837ae9_f77e_11eb_8450_683e26367aadrow3_col6,#T_28837ae9_f77e_11eb_8450_683e26367aadrow3_col7,#T_28837ae9_f77e_11eb_8450_683e26367aadrow7_col2,#T_28837ae9_f77e_11eb_8450_683e26367aadrow8_col0,#T_28837ae9_f77e_11eb_8450_683e26367aadrow10_col9{\n",
       "            background-color:  #3b4cc0;\n",
       "            color:  #f1f1f1;\n",
       "        }#T_28837ae9_f77e_11eb_8450_683e26367aadrow0_col9{\n",
       "            background-color:  #6b8df0;\n",
       "            color:  #000000;\n",
       "        }#T_28837ae9_f77e_11eb_8450_683e26367aadrow0_col10,#T_28837ae9_f77e_11eb_8450_683e26367aadrow4_col9{\n",
       "            background-color:  #4c66d6;\n",
       "            color:  #000000;\n",
       "        }#T_28837ae9_f77e_11eb_8450_683e26367aadrow1_col0,#T_28837ae9_f77e_11eb_8450_683e26367aadrow2_col9,#T_28837ae9_f77e_11eb_8450_683e26367aadrow5_col9{\n",
       "            background-color:  #5b7ae5;\n",
       "            color:  #000000;\n",
       "        }#T_28837ae9_f77e_11eb_8450_683e26367aadrow1_col2,#T_28837ae9_f77e_11eb_8450_683e26367aadrow8_col2{\n",
       "            background-color:  #455cce;\n",
       "            color:  #f1f1f1;\n",
       "        }#T_28837ae9_f77e_11eb_8450_683e26367aadrow1_col6{\n",
       "            background-color:  #b7cff9;\n",
       "            color:  #000000;\n",
       "        }#T_28837ae9_f77e_11eb_8450_683e26367aadrow1_col7{\n",
       "            background-color:  #6f92f3;\n",
       "            color:  #000000;\n",
       "        }#T_28837ae9_f77e_11eb_8450_683e26367aadrow1_col8,#T_28837ae9_f77e_11eb_8450_683e26367aadrow6_col8{\n",
       "            background-color:  #485fd1;\n",
       "            color:  #f1f1f1;\n",
       "        }#T_28837ae9_f77e_11eb_8450_683e26367aadrow1_col9,#T_28837ae9_f77e_11eb_8450_683e26367aadrow6_col2{\n",
       "            background-color:  #6282ea;\n",
       "            color:  #000000;\n",
       "        }#T_28837ae9_f77e_11eb_8450_683e26367aadrow2_col0,#T_28837ae9_f77e_11eb_8450_683e26367aadrow4_col10,#T_28837ae9_f77e_11eb_8450_683e26367aadrow5_col0,#T_28837ae9_f77e_11eb_8450_683e26367aadrow6_col0,#T_28837ae9_f77e_11eb_8450_683e26367aadrow9_col6{\n",
       "            background-color:  #86a9fc;\n",
       "            color:  #000000;\n",
       "        }#T_28837ae9_f77e_11eb_8450_683e26367aadrow2_col1{\n",
       "            background-color:  #d2dbe8;\n",
       "            color:  #000000;\n",
       "        }#T_28837ae9_f77e_11eb_8450_683e26367aadrow2_col3,#T_28837ae9_f77e_11eb_8450_683e26367aadrow8_col3{\n",
       "            background-color:  #e6d7cf;\n",
       "            color:  #000000;\n",
       "        }#T_28837ae9_f77e_11eb_8450_683e26367aadrow2_col4{\n",
       "            background-color:  #8caffe;\n",
       "            color:  #000000;\n",
       "        }#T_28837ae9_f77e_11eb_8450_683e26367aadrow2_col5{\n",
       "            background-color:  #d8dce2;\n",
       "            color:  #000000;\n",
       "        }#T_28837ae9_f77e_11eb_8450_683e26367aadrow2_col6{\n",
       "            background-color:  #80a3fa;\n",
       "            color:  #000000;\n",
       "        }#T_28837ae9_f77e_11eb_8450_683e26367aadrow2_col7{\n",
       "            background-color:  #3d50c3;\n",
       "            color:  #f1f1f1;\n",
       "        }#T_28837ae9_f77e_11eb_8450_683e26367aadrow2_col8{\n",
       "            background-color:  #536edd;\n",
       "            color:  #000000;\n",
       "        }#T_28837ae9_f77e_11eb_8450_683e26367aadrow2_col10{\n",
       "            background-color:  #97b8ff;\n",
       "            color:  #000000;\n",
       "        }#T_28837ae9_f77e_11eb_8450_683e26367aadrow3_col0{\n",
       "            background-color:  #7396f5;\n",
       "            color:  #000000;\n",
       "        }#T_28837ae9_f77e_11eb_8450_683e26367aadrow3_col2{\n",
       "            background-color:  #7295f4;\n",
       "            color:  #000000;\n",
       "        }#T_28837ae9_f77e_11eb_8450_683e26367aadrow3_col4{\n",
       "            background-color:  #88abfd;\n",
       "            color:  #000000;\n",
       "        }#T_28837ae9_f77e_11eb_8450_683e26367aadrow3_col5{\n",
       "            background-color:  #e16751;\n",
       "            color:  #000000;\n",
       "        }#T_28837ae9_f77e_11eb_8450_683e26367aadrow3_col8,#T_28837ae9_f77e_11eb_8450_683e26367aadrow4_col2{\n",
       "            background-color:  #81a4fb;\n",
       "            color:  #000000;\n",
       "        }#T_28837ae9_f77e_11eb_8450_683e26367aadrow3_col10{\n",
       "            background-color:  #96b7ff;\n",
       "            color:  #000000;\n",
       "        }#T_28837ae9_f77e_11eb_8450_683e26367aadrow4_col1{\n",
       "            background-color:  #c5d6f2;\n",
       "            color:  #000000;\n",
       "        }#T_28837ae9_f77e_11eb_8450_683e26367aadrow4_col3,#T_28837ae9_f77e_11eb_8450_683e26367aadrow5_col6{\n",
       "            background-color:  #ead5c9;\n",
       "            color:  #000000;\n",
       "        }#T_28837ae9_f77e_11eb_8450_683e26367aadrow4_col5{\n",
       "            background-color:  #eed0c0;\n",
       "            color:  #000000;\n",
       "        }#T_28837ae9_f77e_11eb_8450_683e26367aadrow4_col6{\n",
       "            background-color:  #b2ccfb;\n",
       "            color:  #000000;\n",
       "        }#T_28837ae9_f77e_11eb_8450_683e26367aadrow4_col7,#T_28837ae9_f77e_11eb_8450_683e26367aadrow8_col6{\n",
       "            background-color:  #5875e1;\n",
       "            color:  #000000;\n",
       "        }#T_28837ae9_f77e_11eb_8450_683e26367aadrow4_col8{\n",
       "            background-color:  #445acc;\n",
       "            color:  #f1f1f1;\n",
       "        }#T_28837ae9_f77e_11eb_8450_683e26367aadrow5_col1,#T_28837ae9_f77e_11eb_8450_683e26367aadrow7_col9,#T_28837ae9_f77e_11eb_8450_683e26367aadrow9_col7,#T_28837ae9_f77e_11eb_8450_683e26367aadrow10_col7{\n",
       "            background-color:  #5d7ce6;\n",
       "            color:  #000000;\n",
       "        }#T_28837ae9_f77e_11eb_8450_683e26367aadrow5_col2{\n",
       "            background-color:  #7597f6;\n",
       "            color:  #000000;\n",
       "        }#T_28837ae9_f77e_11eb_8450_683e26367aadrow5_col3{\n",
       "            background-color:  #dd5f4b;\n",
       "            color:  #000000;\n",
       "        }#T_28837ae9_f77e_11eb_8450_683e26367aadrow5_col4{\n",
       "            background-color:  #b1cbfc;\n",
       "            color:  #000000;\n",
       "        }#T_28837ae9_f77e_11eb_8450_683e26367aadrow5_col7{\n",
       "            background-color:  #3c4ec2;\n",
       "            color:  #f1f1f1;\n",
       "        }#T_28837ae9_f77e_11eb_8450_683e26367aadrow5_col8{\n",
       "            background-color:  #6a8bef;\n",
       "            color:  #000000;\n",
       "        }#T_28837ae9_f77e_11eb_8450_683e26367aadrow5_col10{\n",
       "            background-color:  #a2c1ff;\n",
       "            color:  #000000;\n",
       "        }#T_28837ae9_f77e_11eb_8450_683e26367aadrow6_col1{\n",
       "            background-color:  #f3c8b2;\n",
       "            color:  #000000;\n",
       "        }#T_28837ae9_f77e_11eb_8450_683e26367aadrow6_col3{\n",
       "            background-color:  #b9d0f9;\n",
       "            color:  #000000;\n",
       "        }#T_28837ae9_f77e_11eb_8450_683e26367aadrow6_col4{\n",
       "            background-color:  #a5c3fe;\n",
       "            color:  #000000;\n",
       "        }#T_28837ae9_f77e_11eb_8450_683e26367aadrow6_col5{\n",
       "            background-color:  #f7b093;\n",
       "            color:  #000000;\n",
       "        }#T_28837ae9_f77e_11eb_8450_683e26367aadrow6_col7{\n",
       "            background-color:  #516ddb;\n",
       "            color:  #000000;\n",
       "        }#T_28837ae9_f77e_11eb_8450_683e26367aadrow6_col9,#T_28837ae9_f77e_11eb_8450_683e26367aadrow7_col6{\n",
       "            background-color:  #6c8ff1;\n",
       "            color:  #000000;\n",
       "        }#T_28837ae9_f77e_11eb_8450_683e26367aadrow6_col10{\n",
       "            background-color:  #7da0f9;\n",
       "            color:  #000000;\n",
       "        }#T_28837ae9_f77e_11eb_8450_683e26367aadrow7_col0{\n",
       "            background-color:  #5470de;\n",
       "            color:  #000000;\n",
       "        }#T_28837ae9_f77e_11eb_8450_683e26367aadrow7_col1{\n",
       "            background-color:  #e3d9d3;\n",
       "            color:  #000000;\n",
       "        }#T_28837ae9_f77e_11eb_8450_683e26367aadrow7_col3{\n",
       "            background-color:  #cad8ef;\n",
       "            color:  #000000;\n",
       "        }#T_28837ae9_f77e_11eb_8450_683e26367aadrow7_col4{\n",
       "            background-color:  #6180e9;\n",
       "            color:  #000000;\n",
       "        }#T_28837ae9_f77e_11eb_8450_683e26367aadrow7_col5{\n",
       "            background-color:  #b5cdfa;\n",
       "            color:  #000000;\n",
       "        }#T_28837ae9_f77e_11eb_8450_683e26367aadrow7_col8{\n",
       "            background-color:  #82a6fb;\n",
       "            color:  #000000;\n",
       "        }#T_28837ae9_f77e_11eb_8450_683e26367aadrow7_col10{\n",
       "            background-color:  #688aef;\n",
       "            color:  #000000;\n",
       "        }#T_28837ae9_f77e_11eb_8450_683e26367aadrow8_col1{\n",
       "            background-color:  #ccd9ed;\n",
       "            color:  #000000;\n",
       "        }#T_28837ae9_f77e_11eb_8450_683e26367aadrow8_col4{\n",
       "            background-color:  #4358cb;\n",
       "            color:  #f1f1f1;\n",
       "        }#T_28837ae9_f77e_11eb_8450_683e26367aadrow8_col5{\n",
       "            background-color:  #cbd8ee;\n",
       "            color:  #000000;\n",
       "        }#T_28837ae9_f77e_11eb_8450_683e26367aadrow8_col9,#T_28837ae9_f77e_11eb_8450_683e26367aadrow10_col0{\n",
       "            background-color:  #4b64d5;\n",
       "            color:  #f1f1f1;\n",
       "        }#T_28837ae9_f77e_11eb_8450_683e26367aadrow8_col10{\n",
       "            background-color:  #6485ec;\n",
       "            color:  #000000;\n",
       "        }#T_28837ae9_f77e_11eb_8450_683e26367aadrow9_col0{\n",
       "            background-color:  #7699f6;\n",
       "            color:  #000000;\n",
       "        }#T_28837ae9_f77e_11eb_8450_683e26367aadrow9_col1{\n",
       "            background-color:  #dedcdb;\n",
       "            color:  #000000;\n",
       "        }#T_28837ae9_f77e_11eb_8450_683e26367aadrow9_col2{\n",
       "            background-color:  #5977e3;\n",
       "            color:  #000000;\n",
       "        }#T_28837ae9_f77e_11eb_8450_683e26367aadrow9_col3{\n",
       "            background-color:  #d3dbe7;\n",
       "            color:  #000000;\n",
       "        }#T_28837ae9_f77e_11eb_8450_683e26367aadrow9_col4{\n",
       "            background-color:  #5673e0;\n",
       "            color:  #000000;\n",
       "        }#T_28837ae9_f77e_11eb_8450_683e26367aadrow9_col5{\n",
       "            background-color:  #c9d7f0;\n",
       "            color:  #000000;\n",
       "        }#T_28837ae9_f77e_11eb_8450_683e26367aadrow9_col8{\n",
       "            background-color:  #5572df;\n",
       "            color:  #000000;\n",
       "        }#T_28837ae9_f77e_11eb_8450_683e26367aadrow9_col10{\n",
       "            background-color:  #465ecf;\n",
       "            color:  #f1f1f1;\n",
       "        }#T_28837ae9_f77e_11eb_8450_683e26367aadrow10_col1{\n",
       "            background-color:  #c3d5f4;\n",
       "            color:  #000000;\n",
       "        }#T_28837ae9_f77e_11eb_8450_683e26367aadrow10_col2{\n",
       "            background-color:  #89acfd;\n",
       "            color:  #000000;\n",
       "        }#T_28837ae9_f77e_11eb_8450_683e26367aadrow10_col3{\n",
       "            background-color:  #edd1c2;\n",
       "            color:  #000000;\n",
       "        }#T_28837ae9_f77e_11eb_8450_683e26367aadrow10_col4{\n",
       "            background-color:  #85a8fc;\n",
       "            color:  #000000;\n",
       "        }#T_28837ae9_f77e_11eb_8450_683e26367aadrow10_col5{\n",
       "            background-color:  #e7d7ce;\n",
       "            color:  #000000;\n",
       "        }#T_28837ae9_f77e_11eb_8450_683e26367aadrow10_col6{\n",
       "            background-color:  #8badfd;\n",
       "            color:  #000000;\n",
       "        }#T_28837ae9_f77e_11eb_8450_683e26367aadrow10_col8{\n",
       "            background-color:  #6384eb;\n",
       "            color:  #000000;\n",
       "        }</style><table id=\"T_28837ae9_f77e_11eb_8450_683e26367aad\" ><thead>    <tr>        <th class=\"blank level0\" ></th>        <th class=\"col_heading level0 col0\" >Age</th>        <th class=\"col_heading level0 col1\" >HeartRate</th>        <th class=\"col_heading level0 col2\" >PRInterval</th>        <th class=\"col_heading level0 col3\" >RRInterval</th>        <th class=\"col_heading level0 col4\" >QRSDuration</th>        <th class=\"col_heading level0 col5\" >QTInterval</th>        <th class=\"col_heading level0 col6\" >QTCorrected</th>        <th class=\"col_heading level0 col7\" >PAxis</th>        <th class=\"col_heading level0 col8\" >RAxis</th>        <th class=\"col_heading level0 col9\" >TAxis</th>        <th class=\"col_heading level0 col10\" >labels</th>    </tr></thead><tbody>\n",
       "                <tr>\n",
       "                        <th id=\"T_28837ae9_f77e_11eb_8450_683e26367aadlevel0_row0\" class=\"row_heading level0 row0\" >Age</th>\n",
       "                        <td id=\"T_28837ae9_f77e_11eb_8450_683e26367aadrow0_col0\" class=\"data row0 col0\" >1.000000</td>\n",
       "                        <td id=\"T_28837ae9_f77e_11eb_8450_683e26367aadrow0_col1\" class=\"data row0 col1\" >-0.022472</td>\n",
       "                        <td id=\"T_28837ae9_f77e_11eb_8450_683e26367aadrow0_col2\" class=\"data row0 col2\" >0.118032</td>\n",
       "                        <td id=\"T_28837ae9_f77e_11eb_8450_683e26367aadrow0_col3\" class=\"data row0 col3\" >0.055326</td>\n",
       "                        <td id=\"T_28837ae9_f77e_11eb_8450_683e26367aadrow0_col4\" class=\"data row0 col4\" >0.040896</td>\n",
       "                        <td id=\"T_28837ae9_f77e_11eb_8450_683e26367aadrow0_col5\" class=\"data row0 col5\" >0.119865</td>\n",
       "                        <td id=\"T_28837ae9_f77e_11eb_8450_683e26367aadrow0_col6\" class=\"data row0 col6\" >0.118729</td>\n",
       "                        <td id=\"T_28837ae9_f77e_11eb_8450_683e26367aadrow0_col7\" class=\"data row0 col7\" >-0.050361</td>\n",
       "                        <td id=\"T_28837ae9_f77e_11eb_8450_683e26367aadrow0_col8\" class=\"data row0 col8\" >-0.147083</td>\n",
       "                        <td id=\"T_28837ae9_f77e_11eb_8450_683e26367aadrow0_col9\" class=\"data row0 col9\" >0.066201</td>\n",
       "                        <td id=\"T_28837ae9_f77e_11eb_8450_683e26367aadrow0_col10\" class=\"data row0 col10\" >-0.082939</td>\n",
       "            </tr>\n",
       "            <tr>\n",
       "                        <th id=\"T_28837ae9_f77e_11eb_8450_683e26367aadlevel0_row1\" class=\"row_heading level0 row1\" >HeartRate</th>\n",
       "                        <td id=\"T_28837ae9_f77e_11eb_8450_683e26367aadrow1_col0\" class=\"data row1 col0\" >-0.022472</td>\n",
       "                        <td id=\"T_28837ae9_f77e_11eb_8450_683e26367aadrow1_col1\" class=\"data row1 col1\" >1.000000</td>\n",
       "                        <td id=\"T_28837ae9_f77e_11eb_8450_683e26367aadrow1_col2\" class=\"data row1 col2\" >-0.055401</td>\n",
       "                        <td id=\"T_28837ae9_f77e_11eb_8450_683e26367aadrow1_col3\" class=\"data row1 col3\" >-0.950868</td>\n",
       "                        <td id=\"T_28837ae9_f77e_11eb_8450_683e26367aadrow1_col4\" class=\"data row1 col4\" >-0.142119</td>\n",
       "                        <td id=\"T_28837ae9_f77e_11eb_8450_683e26367aadrow1_col5\" class=\"data row1 col5\" >-0.732370</td>\n",
       "                        <td id=\"T_28837ae9_f77e_11eb_8450_683e26367aadrow1_col6\" class=\"data row1 col6\" >0.240233</td>\n",
       "                        <td id=\"T_28837ae9_f77e_11eb_8450_683e26367aadrow1_col7\" class=\"data row1 col7\" >0.076713</td>\n",
       "                        <td id=\"T_28837ae9_f77e_11eb_8450_683e26367aadrow1_col8\" class=\"data row1 col8\" >-0.094085</td>\n",
       "                        <td id=\"T_28837ae9_f77e_11eb_8450_683e26367aadrow1_col9\" class=\"data row1 col9\" >0.033540</td>\n",
       "                        <td id=\"T_28837ae9_f77e_11eb_8450_683e26367aadrow1_col10\" class=\"data row1 col10\" >-0.151526</td>\n",
       "            </tr>\n",
       "            <tr>\n",
       "                        <th id=\"T_28837ae9_f77e_11eb_8450_683e26367aadlevel0_row2\" class=\"row_heading level0 row2\" >PRInterval</th>\n",
       "                        <td id=\"T_28837ae9_f77e_11eb_8450_683e26367aadrow2_col0\" class=\"data row2 col0\" >0.118032</td>\n",
       "                        <td id=\"T_28837ae9_f77e_11eb_8450_683e26367aadrow2_col1\" class=\"data row2 col1\" >-0.055401</td>\n",
       "                        <td id=\"T_28837ae9_f77e_11eb_8450_683e26367aadrow2_col2\" class=\"data row2 col2\" >1.000000</td>\n",
       "                        <td id=\"T_28837ae9_f77e_11eb_8450_683e26367aadrow2_col3\" class=\"data row2 col3\" >0.096187</td>\n",
       "                        <td id=\"T_28837ae9_f77e_11eb_8450_683e26367aadrow2_col4\" class=\"data row2 col4\" >0.143072</td>\n",
       "                        <td id=\"T_28837ae9_f77e_11eb_8450_683e26367aadrow2_col5\" class=\"data row2 col5\" >0.104351</td>\n",
       "                        <td id=\"T_28837ae9_f77e_11eb_8450_683e26367aadrow2_col6\" class=\"data row2 col6\" >0.045874</td>\n",
       "                        <td id=\"T_28837ae9_f77e_11eb_8450_683e26367aadrow2_col7\" class=\"data row2 col7\" >-0.095006</td>\n",
       "                        <td id=\"T_28837ae9_f77e_11eb_8450_683e26367aadrow2_col8\" class=\"data row2 col8\" >-0.053222</td>\n",
       "                        <td id=\"T_28837ae9_f77e_11eb_8450_683e26367aadrow2_col9\" class=\"data row2 col9\" >0.013128</td>\n",
       "                        <td id=\"T_28837ae9_f77e_11eb_8450_683e26367aadrow2_col10\" class=\"data row2 col10\" >0.170010</td>\n",
       "            </tr>\n",
       "            <tr>\n",
       "                        <th id=\"T_28837ae9_f77e_11eb_8450_683e26367aadlevel0_row3\" class=\"row_heading level0 row3\" >RRInterval</th>\n",
       "                        <td id=\"T_28837ae9_f77e_11eb_8450_683e26367aadrow3_col0\" class=\"data row3 col0\" >0.055326</td>\n",
       "                        <td id=\"T_28837ae9_f77e_11eb_8450_683e26367aadrow3_col1\" class=\"data row3 col1\" >-0.950868</td>\n",
       "                        <td id=\"T_28837ae9_f77e_11eb_8450_683e26367aadrow3_col2\" class=\"data row3 col2\" >0.096187</td>\n",
       "                        <td id=\"T_28837ae9_f77e_11eb_8450_683e26367aadrow3_col3\" class=\"data row3 col3\" >1.000000</td>\n",
       "                        <td id=\"T_28837ae9_f77e_11eb_8450_683e26367aadrow3_col4\" class=\"data row3 col4\" >0.127914</td>\n",
       "                        <td id=\"T_28837ae9_f77e_11eb_8450_683e26367aadrow3_col5\" class=\"data row3 col5\" >0.761865</td>\n",
       "                        <td id=\"T_28837ae9_f77e_11eb_8450_683e26367aadrow3_col6\" class=\"data row3 col6\" >-0.212373</td>\n",
       "                        <td id=\"T_28837ae9_f77e_11eb_8450_683e26367aadrow3_col7\" class=\"data row3 col7\" >-0.105383</td>\n",
       "                        <td id=\"T_28837ae9_f77e_11eb_8450_683e26367aadrow3_col8\" class=\"data row3 col8\" >0.100282</td>\n",
       "                        <td id=\"T_28837ae9_f77e_11eb_8450_683e26367aadrow3_col9\" class=\"data row3 col9\" >-0.050146</td>\n",
       "                        <td id=\"T_28837ae9_f77e_11eb_8450_683e26367aadrow3_col10\" class=\"data row3 col10\" >0.166491</td>\n",
       "            </tr>\n",
       "            <tr>\n",
       "                        <th id=\"T_28837ae9_f77e_11eb_8450_683e26367aadlevel0_row4\" class=\"row_heading level0 row4\" >QRSDuration</th>\n",
       "                        <td id=\"T_28837ae9_f77e_11eb_8450_683e26367aadrow4_col0\" class=\"data row4 col0\" >0.040896</td>\n",
       "                        <td id=\"T_28837ae9_f77e_11eb_8450_683e26367aadrow4_col1\" class=\"data row4 col1\" >-0.142119</td>\n",
       "                        <td id=\"T_28837ae9_f77e_11eb_8450_683e26367aadrow4_col2\" class=\"data row4 col2\" >0.143072</td>\n",
       "                        <td id=\"T_28837ae9_f77e_11eb_8450_683e26367aadrow4_col3\" class=\"data row4 col3\" >0.127914</td>\n",
       "                        <td id=\"T_28837ae9_f77e_11eb_8450_683e26367aadrow4_col4\" class=\"data row4 col4\" >1.000000</td>\n",
       "                        <td id=\"T_28837ae9_f77e_11eb_8450_683e26367aadrow4_col5\" class=\"data row4 col5\" >0.263608</td>\n",
       "                        <td id=\"T_28837ae9_f77e_11eb_8450_683e26367aadrow4_col6\" class=\"data row4 col6\" >0.222171</td>\n",
       "                        <td id=\"T_28837ae9_f77e_11eb_8450_683e26367aadrow4_col7\" class=\"data row4 col7\" >-0.000875</td>\n",
       "                        <td id=\"T_28837ae9_f77e_11eb_8450_683e26367aadrow4_col8\" class=\"data row4 col8\" >-0.110111</td>\n",
       "                        <td id=\"T_28837ae9_f77e_11eb_8450_683e26367aadrow4_col9\" class=\"data row4 col9\" >-0.037835</td>\n",
       "                        <td id=\"T_28837ae9_f77e_11eb_8450_683e26367aadrow4_col10\" class=\"data row4 col10\" >0.117095</td>\n",
       "            </tr>\n",
       "            <tr>\n",
       "                        <th id=\"T_28837ae9_f77e_11eb_8450_683e26367aadlevel0_row5\" class=\"row_heading level0 row5\" >QTInterval</th>\n",
       "                        <td id=\"T_28837ae9_f77e_11eb_8450_683e26367aadrow5_col0\" class=\"data row5 col0\" >0.119865</td>\n",
       "                        <td id=\"T_28837ae9_f77e_11eb_8450_683e26367aadrow5_col1\" class=\"data row5 col1\" >-0.732370</td>\n",
       "                        <td id=\"T_28837ae9_f77e_11eb_8450_683e26367aadrow5_col2\" class=\"data row5 col2\" >0.104351</td>\n",
       "                        <td id=\"T_28837ae9_f77e_11eb_8450_683e26367aadrow5_col3\" class=\"data row5 col3\" >0.761865</td>\n",
       "                        <td id=\"T_28837ae9_f77e_11eb_8450_683e26367aadrow5_col4\" class=\"data row5 col4\" >0.263608</td>\n",
       "                        <td id=\"T_28837ae9_f77e_11eb_8450_683e26367aadrow5_col5\" class=\"data row5 col5\" >1.000000</td>\n",
       "                        <td id=\"T_28837ae9_f77e_11eb_8450_683e26367aadrow5_col6\" class=\"data row5 col6\" >0.459580</td>\n",
       "                        <td id=\"T_28837ae9_f77e_11eb_8450_683e26367aadrow5_col7\" class=\"data row5 col7\" >-0.100722</td>\n",
       "                        <td id=\"T_28837ae9_f77e_11eb_8450_683e26367aadrow5_col8\" class=\"data row5 col8\" >0.025341</td>\n",
       "                        <td id=\"T_28837ae9_f77e_11eb_8450_683e26367aadrow5_col9\" class=\"data row5 col9\" >0.011749</td>\n",
       "                        <td id=\"T_28837ae9_f77e_11eb_8450_683e26367aadrow5_col10\" class=\"data row5 col10\" >0.207803</td>\n",
       "            </tr>\n",
       "            <tr>\n",
       "                        <th id=\"T_28837ae9_f77e_11eb_8450_683e26367aadlevel0_row6\" class=\"row_heading level0 row6\" >QTCorrected</th>\n",
       "                        <td id=\"T_28837ae9_f77e_11eb_8450_683e26367aadrow6_col0\" class=\"data row6 col0\" >0.118729</td>\n",
       "                        <td id=\"T_28837ae9_f77e_11eb_8450_683e26367aadrow6_col1\" class=\"data row6 col1\" >0.240233</td>\n",
       "                        <td id=\"T_28837ae9_f77e_11eb_8450_683e26367aadrow6_col2\" class=\"data row6 col2\" >0.045874</td>\n",
       "                        <td id=\"T_28837ae9_f77e_11eb_8450_683e26367aadrow6_col3\" class=\"data row6 col3\" >-0.212373</td>\n",
       "                        <td id=\"T_28837ae9_f77e_11eb_8450_683e26367aadrow6_col4\" class=\"data row6 col4\" >0.222171</td>\n",
       "                        <td id=\"T_28837ae9_f77e_11eb_8450_683e26367aadrow6_col5\" class=\"data row6 col5\" >0.459580</td>\n",
       "                        <td id=\"T_28837ae9_f77e_11eb_8450_683e26367aadrow6_col6\" class=\"data row6 col6\" >1.000000</td>\n",
       "                        <td id=\"T_28837ae9_f77e_11eb_8450_683e26367aadrow6_col7\" class=\"data row6 col7\" >-0.022266</td>\n",
       "                        <td id=\"T_28837ae9_f77e_11eb_8450_683e26367aadrow6_col8\" class=\"data row6 col8\" >-0.097184</td>\n",
       "                        <td id=\"T_28837ae9_f77e_11eb_8450_683e26367aadrow6_col9\" class=\"data row6 col9\" >0.067666</td>\n",
       "                        <td id=\"T_28837ae9_f77e_11eb_8450_683e26367aadrow6_col10\" class=\"data row6 col10\" >0.084989</td>\n",
       "            </tr>\n",
       "            <tr>\n",
       "                        <th id=\"T_28837ae9_f77e_11eb_8450_683e26367aadlevel0_row7\" class=\"row_heading level0 row7\" >PAxis</th>\n",
       "                        <td id=\"T_28837ae9_f77e_11eb_8450_683e26367aadrow7_col0\" class=\"data row7 col0\" >-0.050361</td>\n",
       "                        <td id=\"T_28837ae9_f77e_11eb_8450_683e26367aadrow7_col1\" class=\"data row7 col1\" >0.076713</td>\n",
       "                        <td id=\"T_28837ae9_f77e_11eb_8450_683e26367aadrow7_col2\" class=\"data row7 col2\" >-0.095006</td>\n",
       "                        <td id=\"T_28837ae9_f77e_11eb_8450_683e26367aadrow7_col3\" class=\"data row7 col3\" >-0.105383</td>\n",
       "                        <td id=\"T_28837ae9_f77e_11eb_8450_683e26367aadrow7_col4\" class=\"data row7 col4\" >-0.000875</td>\n",
       "                        <td id=\"T_28837ae9_f77e_11eb_8450_683e26367aadrow7_col5\" class=\"data row7 col5\" >-0.100722</td>\n",
       "                        <td id=\"T_28837ae9_f77e_11eb_8450_683e26367aadrow7_col6\" class=\"data row7 col6\" >-0.022266</td>\n",
       "                        <td id=\"T_28837ae9_f77e_11eb_8450_683e26367aadrow7_col7\" class=\"data row7 col7\" >1.000000</td>\n",
       "                        <td id=\"T_28837ae9_f77e_11eb_8450_683e26367aadrow7_col8\" class=\"data row7 col8\" >0.106982</td>\n",
       "                        <td id=\"T_28837ae9_f77e_11eb_8450_683e26367aadrow7_col9\" class=\"data row7 col9\" >0.015522</td>\n",
       "                        <td id=\"T_28837ae9_f77e_11eb_8450_683e26367aadrow7_col10\" class=\"data row7 col10\" >0.017918</td>\n",
       "            </tr>\n",
       "            <tr>\n",
       "                        <th id=\"T_28837ae9_f77e_11eb_8450_683e26367aadlevel0_row8\" class=\"row_heading level0 row8\" >RAxis</th>\n",
       "                        <td id=\"T_28837ae9_f77e_11eb_8450_683e26367aadrow8_col0\" class=\"data row8 col0\" >-0.147083</td>\n",
       "                        <td id=\"T_28837ae9_f77e_11eb_8450_683e26367aadrow8_col1\" class=\"data row8 col1\" >-0.094085</td>\n",
       "                        <td id=\"T_28837ae9_f77e_11eb_8450_683e26367aadrow8_col2\" class=\"data row8 col2\" >-0.053222</td>\n",
       "                        <td id=\"T_28837ae9_f77e_11eb_8450_683e26367aadrow8_col3\" class=\"data row8 col3\" >0.100282</td>\n",
       "                        <td id=\"T_28837ae9_f77e_11eb_8450_683e26367aadrow8_col4\" class=\"data row8 col4\" >-0.110111</td>\n",
       "                        <td id=\"T_28837ae9_f77e_11eb_8450_683e26367aadrow8_col5\" class=\"data row8 col5\" >0.025341</td>\n",
       "                        <td id=\"T_28837ae9_f77e_11eb_8450_683e26367aadrow8_col6\" class=\"data row8 col6\" >-0.097184</td>\n",
       "                        <td id=\"T_28837ae9_f77e_11eb_8450_683e26367aadrow8_col7\" class=\"data row8 col7\" >0.106982</td>\n",
       "                        <td id=\"T_28837ae9_f77e_11eb_8450_683e26367aadrow8_col8\" class=\"data row8 col8\" >1.000000</td>\n",
       "                        <td id=\"T_28837ae9_f77e_11eb_8450_683e26367aadrow8_col9\" class=\"data row8 col9\" >-0.045171</td>\n",
       "                        <td id=\"T_28837ae9_f77e_11eb_8450_683e26367aadrow8_col10\" class=\"data row8 col10\" >0.003591</td>\n",
       "            </tr>\n",
       "            <tr>\n",
       "                        <th id=\"T_28837ae9_f77e_11eb_8450_683e26367aadlevel0_row9\" class=\"row_heading level0 row9\" >TAxis</th>\n",
       "                        <td id=\"T_28837ae9_f77e_11eb_8450_683e26367aadrow9_col0\" class=\"data row9 col0\" >0.066201</td>\n",
       "                        <td id=\"T_28837ae9_f77e_11eb_8450_683e26367aadrow9_col1\" class=\"data row9 col1\" >0.033540</td>\n",
       "                        <td id=\"T_28837ae9_f77e_11eb_8450_683e26367aadrow9_col2\" class=\"data row9 col2\" >0.013128</td>\n",
       "                        <td id=\"T_28837ae9_f77e_11eb_8450_683e26367aadrow9_col3\" class=\"data row9 col3\" >-0.050146</td>\n",
       "                        <td id=\"T_28837ae9_f77e_11eb_8450_683e26367aadrow9_col4\" class=\"data row9 col4\" >-0.037835</td>\n",
       "                        <td id=\"T_28837ae9_f77e_11eb_8450_683e26367aadrow9_col5\" class=\"data row9 col5\" >0.011749</td>\n",
       "                        <td id=\"T_28837ae9_f77e_11eb_8450_683e26367aadrow9_col6\" class=\"data row9 col6\" >0.067666</td>\n",
       "                        <td id=\"T_28837ae9_f77e_11eb_8450_683e26367aadrow9_col7\" class=\"data row9 col7\" >0.015522</td>\n",
       "                        <td id=\"T_28837ae9_f77e_11eb_8450_683e26367aadrow9_col8\" class=\"data row9 col8\" >-0.045171</td>\n",
       "                        <td id=\"T_28837ae9_f77e_11eb_8450_683e26367aadrow9_col9\" class=\"data row9 col9\" >1.000000</td>\n",
       "                        <td id=\"T_28837ae9_f77e_11eb_8450_683e26367aadrow9_col10\" class=\"data row9 col10\" >-0.105839</td>\n",
       "            </tr>\n",
       "            <tr>\n",
       "                        <th id=\"T_28837ae9_f77e_11eb_8450_683e26367aadlevel0_row10\" class=\"row_heading level0 row10\" >labels</th>\n",
       "                        <td id=\"T_28837ae9_f77e_11eb_8450_683e26367aadrow10_col0\" class=\"data row10 col0\" >-0.082939</td>\n",
       "                        <td id=\"T_28837ae9_f77e_11eb_8450_683e26367aadrow10_col1\" class=\"data row10 col1\" >-0.151526</td>\n",
       "                        <td id=\"T_28837ae9_f77e_11eb_8450_683e26367aadrow10_col2\" class=\"data row10 col2\" >0.170010</td>\n",
       "                        <td id=\"T_28837ae9_f77e_11eb_8450_683e26367aadrow10_col3\" class=\"data row10 col3\" >0.166491</td>\n",
       "                        <td id=\"T_28837ae9_f77e_11eb_8450_683e26367aadrow10_col4\" class=\"data row10 col4\" >0.117095</td>\n",
       "                        <td id=\"T_28837ae9_f77e_11eb_8450_683e26367aadrow10_col5\" class=\"data row10 col5\" >0.207803</td>\n",
       "                        <td id=\"T_28837ae9_f77e_11eb_8450_683e26367aadrow10_col6\" class=\"data row10 col6\" >0.084989</td>\n",
       "                        <td id=\"T_28837ae9_f77e_11eb_8450_683e26367aadrow10_col7\" class=\"data row10 col7\" >0.017918</td>\n",
       "                        <td id=\"T_28837ae9_f77e_11eb_8450_683e26367aadrow10_col8\" class=\"data row10 col8\" >0.003591</td>\n",
       "                        <td id=\"T_28837ae9_f77e_11eb_8450_683e26367aadrow10_col9\" class=\"data row10 col9\" >-0.105839</td>\n",
       "                        <td id=\"T_28837ae9_f77e_11eb_8450_683e26367aadrow10_col10\" class=\"data row10 col10\" >1.000000</td>\n",
       "            </tr>\n",
       "    </tbody></table>"
      ],
      "text/plain": [
       "<pandas.io.formats.style.Styler at 0x26800410f10>"
      ]
     },
     "execution_count": 100,
     "metadata": {},
     "output_type": "execute_result"
    }
   ],
   "source": [
    "# 상관관계 계수를 확인\n",
    "corr = df_dropna.corr()\n",
    "corr.style.background_gradient(cmap='coolwarm')"
   ]
  },
  {
   "cell_type": "code",
   "execution_count": 101,
   "metadata": {},
   "outputs": [
    {
     "name": "stdout",
     "output_type": "stream",
     "text": [
      "<class 'pandas.core.frame.DataFrame'>\n",
      "Int64Index: 566 entries, 0 to 645\n",
      "Data columns (total 10 columns):\n",
      " #   Column       Non-Null Count  Dtype\n",
      "---  ------       --------------  -----\n",
      " 0   Age          566 non-null    int32\n",
      " 1   HeartRate    566 non-null    int32\n",
      " 2   PRInterval   566 non-null    int32\n",
      " 3   QRSDuration  566 non-null    int32\n",
      " 4   QTInterval   566 non-null    int32\n",
      " 5   QTCorrected  566 non-null    int32\n",
      " 6   PAxis        566 non-null    int32\n",
      " 7   RAxis        566 non-null    int32\n",
      " 8   TAxis        566 non-null    int32\n",
      " 9   labels       566 non-null    int32\n",
      "dtypes: int32(10)\n",
      "memory usage: 26.5 KB\n"
     ]
    }
   ],
   "source": [
    "df = df[['Age', 'HeartRate', 'PRInterval', 'QRSDuration','QTInterval', 'QTCorrected', 'PAxis', 'RAxis', 'TAxis', 'labels']]\n",
    "df.dropna(inplace=True)\n",
    "df = df.astype(int)\n",
    "df.info()"
   ]
  },
  {
   "cell_type": "code",
   "execution_count": 102,
   "metadata": {},
   "outputs": [],
   "source": [
    "from scipy import stats\n",
    "z_scores = stats.zscore(df.iloc[:,:-1])\n",
    "abs_z_scores = np.abs(z_scores)\n",
    "filtered_entries = (abs_z_scores < 3).all(axis=1)\n",
    "df.iloc[:,:-1] = df.iloc[:,:-1][filtered_entries]"
   ]
  },
  {
   "cell_type": "code",
   "execution_count": 103,
   "metadata": {},
   "outputs": [
    {
     "data": {
      "text/html": [
       "<div>\n",
       "<style scoped>\n",
       "    .dataframe tbody tr th:only-of-type {\n",
       "        vertical-align: middle;\n",
       "    }\n",
       "\n",
       "    .dataframe tbody tr th {\n",
       "        vertical-align: top;\n",
       "    }\n",
       "\n",
       "    .dataframe thead th {\n",
       "        text-align: right;\n",
       "    }\n",
       "</style>\n",
       "<table border=\"1\" class=\"dataframe\">\n",
       "  <thead>\n",
       "    <tr style=\"text-align: right;\">\n",
       "      <th></th>\n",
       "      <th>Age</th>\n",
       "      <th>HeartRate</th>\n",
       "      <th>PRInterval</th>\n",
       "      <th>QRSDuration</th>\n",
       "      <th>QTInterval</th>\n",
       "      <th>QTCorrected</th>\n",
       "      <th>PAxis</th>\n",
       "      <th>RAxis</th>\n",
       "      <th>TAxis</th>\n",
       "      <th>labels</th>\n",
       "    </tr>\n",
       "  </thead>\n",
       "  <tbody>\n",
       "    <tr>\n",
       "      <th>0</th>\n",
       "      <td>68.0</td>\n",
       "      <td>50.0</td>\n",
       "      <td>220.0</td>\n",
       "      <td>100.0</td>\n",
       "      <td>469.0</td>\n",
       "      <td>428.0</td>\n",
       "      <td>30.0</td>\n",
       "      <td>63.0</td>\n",
       "      <td>106.0</td>\n",
       "      <td>0.0</td>\n",
       "    </tr>\n",
       "    <tr>\n",
       "      <th>1</th>\n",
       "      <td>59.0</td>\n",
       "      <td>62.0</td>\n",
       "      <td>191.0</td>\n",
       "      <td>97.0</td>\n",
       "      <td>433.0</td>\n",
       "      <td>440.0</td>\n",
       "      <td>54.0</td>\n",
       "      <td>-53.0</td>\n",
       "      <td>27.0</td>\n",
       "      <td>0.0</td>\n",
       "    </tr>\n",
       "    <tr>\n",
       "      <th>2</th>\n",
       "      <td>49.0</td>\n",
       "      <td>49.0</td>\n",
       "      <td>176.0</td>\n",
       "      <td>88.0</td>\n",
       "      <td>516.0</td>\n",
       "      <td>466.0</td>\n",
       "      <td>23.0</td>\n",
       "      <td>55.0</td>\n",
       "      <td>258.0</td>\n",
       "      <td>0.0</td>\n",
       "    </tr>\n",
       "    <tr>\n",
       "      <th>3</th>\n",
       "      <td>58.0</td>\n",
       "      <td>63.0</td>\n",
       "      <td>174.0</td>\n",
       "      <td>129.0</td>\n",
       "      <td>448.0</td>\n",
       "      <td>459.0</td>\n",
       "      <td>34.0</td>\n",
       "      <td>52.0</td>\n",
       "      <td>194.0</td>\n",
       "      <td>0.0</td>\n",
       "    </tr>\n",
       "    <tr>\n",
       "      <th>5</th>\n",
       "      <td>84.0</td>\n",
       "      <td>61.0</td>\n",
       "      <td>204.0</td>\n",
       "      <td>92.0</td>\n",
       "      <td>480.0</td>\n",
       "      <td>484.0</td>\n",
       "      <td>27.0</td>\n",
       "      <td>11.0</td>\n",
       "      <td>124.0</td>\n",
       "      <td>0.0</td>\n",
       "    </tr>\n",
       "    <tr>\n",
       "      <th>...</th>\n",
       "      <td>...</td>\n",
       "      <td>...</td>\n",
       "      <td>...</td>\n",
       "      <td>...</td>\n",
       "      <td>...</td>\n",
       "      <td>...</td>\n",
       "      <td>...</td>\n",
       "      <td>...</td>\n",
       "      <td>...</td>\n",
       "      <td>...</td>\n",
       "    </tr>\n",
       "    <tr>\n",
       "      <th>639</th>\n",
       "      <td>73.0</td>\n",
       "      <td>59.0</td>\n",
       "      <td>224.0</td>\n",
       "      <td>94.0</td>\n",
       "      <td>508.0</td>\n",
       "      <td>504.0</td>\n",
       "      <td>45.0</td>\n",
       "      <td>66.0</td>\n",
       "      <td>89.0</td>\n",
       "      <td>1.0</td>\n",
       "    </tr>\n",
       "    <tr>\n",
       "      <th>642</th>\n",
       "      <td>62.0</td>\n",
       "      <td>94.0</td>\n",
       "      <td>128.0</td>\n",
       "      <td>90.0</td>\n",
       "      <td>388.0</td>\n",
       "      <td>486.0</td>\n",
       "      <td>55.0</td>\n",
       "      <td>51.0</td>\n",
       "      <td>177.0</td>\n",
       "      <td>1.0</td>\n",
       "    </tr>\n",
       "    <tr>\n",
       "      <th>643</th>\n",
       "      <td>72.0</td>\n",
       "      <td>58.0</td>\n",
       "      <td>138.0</td>\n",
       "      <td>93.0</td>\n",
       "      <td>488.0</td>\n",
       "      <td>480.0</td>\n",
       "      <td>70.0</td>\n",
       "      <td>71.0</td>\n",
       "      <td>188.0</td>\n",
       "      <td>1.0</td>\n",
       "    </tr>\n",
       "    <tr>\n",
       "      <th>644</th>\n",
       "      <td>73.0</td>\n",
       "      <td>67.0</td>\n",
       "      <td>150.0</td>\n",
       "      <td>98.0</td>\n",
       "      <td>457.0</td>\n",
       "      <td>483.0</td>\n",
       "      <td>48.0</td>\n",
       "      <td>59.0</td>\n",
       "      <td>148.0</td>\n",
       "      <td>1.0</td>\n",
       "    </tr>\n",
       "    <tr>\n",
       "      <th>645</th>\n",
       "      <td>73.0</td>\n",
       "      <td>58.0</td>\n",
       "      <td>144.0</td>\n",
       "      <td>98.0</td>\n",
       "      <td>484.0</td>\n",
       "      <td>476.0</td>\n",
       "      <td>62.0</td>\n",
       "      <td>70.0</td>\n",
       "      <td>187.0</td>\n",
       "      <td>1.0</td>\n",
       "    </tr>\n",
       "  </tbody>\n",
       "</table>\n",
       "<p>530 rows × 10 columns</p>\n",
       "</div>"
      ],
      "text/plain": [
       "      Age  HeartRate  PRInterval  QRSDuration  QTInterval  QTCorrected  PAxis  \\\n",
       "0    68.0       50.0       220.0        100.0       469.0        428.0   30.0   \n",
       "1    59.0       62.0       191.0         97.0       433.0        440.0   54.0   \n",
       "2    49.0       49.0       176.0         88.0       516.0        466.0   23.0   \n",
       "3    58.0       63.0       174.0        129.0       448.0        459.0   34.0   \n",
       "5    84.0       61.0       204.0         92.0       480.0        484.0   27.0   \n",
       "..    ...        ...         ...          ...         ...          ...    ...   \n",
       "639  73.0       59.0       224.0         94.0       508.0        504.0   45.0   \n",
       "642  62.0       94.0       128.0         90.0       388.0        486.0   55.0   \n",
       "643  72.0       58.0       138.0         93.0       488.0        480.0   70.0   \n",
       "644  73.0       67.0       150.0         98.0       457.0        483.0   48.0   \n",
       "645  73.0       58.0       144.0         98.0       484.0        476.0   62.0   \n",
       "\n",
       "     RAxis  TAxis  labels  \n",
       "0     63.0  106.0     0.0  \n",
       "1    -53.0   27.0     0.0  \n",
       "2     55.0  258.0     0.0  \n",
       "3     52.0  194.0     0.0  \n",
       "5     11.0  124.0     0.0  \n",
       "..     ...    ...     ...  \n",
       "639   66.0   89.0     1.0  \n",
       "642   51.0  177.0     1.0  \n",
       "643   71.0  188.0     1.0  \n",
       "644   59.0  148.0     1.0  \n",
       "645   70.0  187.0     1.0  \n",
       "\n",
       "[530 rows x 10 columns]"
      ]
     },
     "execution_count": 103,
     "metadata": {},
     "output_type": "execute_result"
    }
   ],
   "source": [
    "df.dropna(inplace=True)\n",
    "df"
   ]
  },
  {
   "cell_type": "markdown",
   "metadata": {},
   "source": [
    "# SMOTE 적용"
   ]
  },
  {
   "cell_type": "code",
   "execution_count": 104,
   "metadata": {},
   "outputs": [
    {
     "name": "stdout",
     "output_type": "stream",
     "text": [
      "Counter({0.0: 510, 1.0: 20})\n",
      "Counter({0.0: 510, 1.0: 510})\n"
     ]
    }
   ],
   "source": [
    "X = df.iloc[:,:-1]\n",
    "y = df['labels']\n",
    "# 처음 Y 값 계산\n",
    "counter = Counter(y)\n",
    "print(counter)\n",
    "# SMOTE 적용\n",
    "oversample = SMOTE()\n",
    "X, y = oversample.fit_resample(X, y)\n",
    "# 새로구해진 Y값 계산\n",
    "counter = Counter(y)\n",
    "print(counter)"
   ]
  },
  {
   "cell_type": "markdown",
   "metadata": {},
   "source": [
    "# RandomForestClassifier"
   ]
  },
  {
   "cell_type": "code",
   "execution_count": 105,
   "metadata": {},
   "outputs": [],
   "source": [
    "# 트레인 / 테스트 셋 나누기\n",
    "X_train, X_test, y_train, y_test = train_test_split(X, y,test_size=0.3, random_state=4)"
   ]
  },
  {
   "cell_type": "code",
   "execution_count": 106,
   "metadata": {},
   "outputs": [
    {
     "name": "stdout",
     "output_type": "stream",
     "text": [
      "Random Forest Classifier Accuracy :  0.9313725490196079\n"
     ]
    }
   ],
   "source": [
    "from sklearn.ensemble import RandomForestClassifier\n",
    "RFclf = RandomForestClassifier(max_depth=5, random_state=0)\n",
    "RFclf.fit(X_train, y_train)\n",
    "scores = RFclf.score(X_test, y_test)\n",
    "print(\"Random Forest Classifier Accuracy : \",scores)"
   ]
  },
  {
   "cell_type": "code",
   "execution_count": 107,
   "metadata": {},
   "outputs": [
    {
     "name": "stdout",
     "output_type": "stream",
     "text": [
      "Random Forest CV\n",
      "Accuracy :  0.946078431372549   F1 :  0.9458128078817734\n",
      "Accuracy :  0.9558823529411765   F1 :  0.9565217391304348\n",
      "Accuracy :  0.9705882352941176   F1 :  0.970873786407767\n",
      "Accuracy :  0.8774509803921569   F1 :  0.8730964467005077\n",
      "Accuracy :  0.9068627450980392   F1 :  0.9107981220657277\n"
     ]
    }
   ],
   "source": [
    "scoring = ['accuracy', 'f1']\n",
    "scores = cross_validate(RFclf, X, y, scoring=scoring, cv=5)\n",
    "print(\"Random Forest CV\")\n",
    "for i in range(len(scores['test_accuracy'])):\n",
    "    print(\"Accuracy : \",scores['test_accuracy'][i],' ',\"F1 : \",scores['test_f1'][i])"
   ]
  },
  {
   "cell_type": "markdown",
   "metadata": {},
   "source": [
    "# Test "
   ]
  },
  {
   "cell_type": "code",
   "execution_count": 73,
   "metadata": {},
   "outputs": [],
   "source": [
    "onlyfiles = [f for f in listdir(mypath+'Test_E/') if isfile(join(mypath+'Test_E/', f))]\n",
    "\n",
    "test1 = []\n",
    "test2 = []\n",
    "test3 = []\n",
    "for i in onlyfiles:\n",
    "    tree = ET.parse(mypath +'Test_E/' + i)\n",
    "    root = tree.getroot()\n",
    "    if root[2].tag == \"StudyInfo\":\n",
    "        test1.append(i)\n",
    "    elif root[2].tag == \"OrderInfo\":\n",
    "        test2.append(i)\n",
    "    else:\n",
    "        test3.append(i)"
   ]
  },
  {
   "cell_type": "code",
   "execution_count": 110,
   "metadata": {},
   "outputs": [
    {
     "data": {
      "text/html": [
       "<div>\n",
       "<style scoped>\n",
       "    .dataframe tbody tr th:only-of-type {\n",
       "        vertical-align: middle;\n",
       "    }\n",
       "\n",
       "    .dataframe tbody tr th {\n",
       "        vertical-align: top;\n",
       "    }\n",
       "\n",
       "    .dataframe thead th {\n",
       "        text-align: right;\n",
       "    }\n",
       "</style>\n",
       "<table border=\"1\" class=\"dataframe\">\n",
       "  <thead>\n",
       "    <tr style=\"text-align: right;\">\n",
       "      <th></th>\n",
       "      <th>patientID</th>\n",
       "      <th>Gender</th>\n",
       "      <th>Age</th>\n",
       "      <th>HeartRate</th>\n",
       "      <th>PRInterval</th>\n",
       "      <th>RRInterval</th>\n",
       "      <th>QRSDuration</th>\n",
       "      <th>QTInterval</th>\n",
       "      <th>QTCorrected</th>\n",
       "      <th>PAxis</th>\n",
       "      <th>RAxis</th>\n",
       "      <th>TAxis</th>\n",
       "      <th>labels</th>\n",
       "    </tr>\n",
       "  </thead>\n",
       "  <tbody>\n",
       "    <tr>\n",
       "      <th>0</th>\n",
       "      <td>10</td>\n",
       "      <td>1.0</td>\n",
       "      <td>72</td>\n",
       "      <td>88.0</td>\n",
       "      <td>None</td>\n",
       "      <td>680</td>\n",
       "      <td>87.0</td>\n",
       "      <td>340.0</td>\n",
       "      <td>412.0</td>\n",
       "      <td>None</td>\n",
       "      <td>50.0</td>\n",
       "      <td>180</td>\n",
       "      <td>1.0</td>\n",
       "    </tr>\n",
       "    <tr>\n",
       "      <th>1</th>\n",
       "      <td>18</td>\n",
       "      <td>0.0</td>\n",
       "      <td>58</td>\n",
       "      <td>57.0</td>\n",
       "      <td>168</td>\n",
       "      <td>1052</td>\n",
       "      <td>121.0</td>\n",
       "      <td>472.0</td>\n",
       "      <td>460.0</td>\n",
       "      <td>42</td>\n",
       "      <td>43.0</td>\n",
       "      <td>181</td>\n",
       "      <td>1.0</td>\n",
       "    </tr>\n",
       "    <tr>\n",
       "      <th>2</th>\n",
       "      <td>241</td>\n",
       "      <td>0.0</td>\n",
       "      <td>60</td>\n",
       "      <td>93.0</td>\n",
       "      <td>180</td>\n",
       "      <td>644</td>\n",
       "      <td>90.0</td>\n",
       "      <td>356.0</td>\n",
       "      <td>443.0</td>\n",
       "      <td>38</td>\n",
       "      <td>52.0</td>\n",
       "      <td>129</td>\n",
       "      <td>1.0</td>\n",
       "    </tr>\n",
       "    <tr>\n",
       "      <th>3</th>\n",
       "      <td>242</td>\n",
       "      <td>0.0</td>\n",
       "      <td>75</td>\n",
       "      <td>82.0</td>\n",
       "      <td>128</td>\n",
       "      <td>732</td>\n",
       "      <td>120.0</td>\n",
       "      <td>384.0</td>\n",
       "      <td>449.0</td>\n",
       "      <td>68</td>\n",
       "      <td>46.0</td>\n",
       "      <td>127</td>\n",
       "      <td>1.0</td>\n",
       "    </tr>\n",
       "    <tr>\n",
       "      <th>4</th>\n",
       "      <td>243</td>\n",
       "      <td>1.0</td>\n",
       "      <td>39</td>\n",
       "      <td>65.0</td>\n",
       "      <td>164</td>\n",
       "      <td>924</td>\n",
       "      <td>86.0</td>\n",
       "      <td>412.0</td>\n",
       "      <td>429.0</td>\n",
       "      <td>62</td>\n",
       "      <td>-36.0</td>\n",
       "      <td>120</td>\n",
       "      <td>1.0</td>\n",
       "    </tr>\n",
       "  </tbody>\n",
       "</table>\n",
       "</div>"
      ],
      "text/plain": [
       "  patientID  Gender Age  HeartRate PRInterval RRInterval  QRSDuration  \\\n",
       "0        10     1.0  72       88.0       None        680         87.0   \n",
       "1        18     0.0  58       57.0        168       1052        121.0   \n",
       "2       241     0.0  60       93.0        180        644         90.0   \n",
       "3       242     0.0  75       82.0        128        732        120.0   \n",
       "4       243     1.0  39       65.0        164        924         86.0   \n",
       "\n",
       "   QTInterval  QTCorrected PAxis  RAxis TAxis  labels  \n",
       "0       340.0        412.0  None   50.0   180     1.0  \n",
       "1       472.0        460.0    42   43.0   181     1.0  \n",
       "2       356.0        443.0    38   52.0   129     1.0  \n",
       "3       384.0        449.0    68   46.0   127     1.0  \n",
       "4       412.0        429.0    62  -36.0   120     1.0  "
      ]
     },
     "execution_count": 110,
     "metadata": {},
     "output_type": "execute_result"
    }
   ],
   "source": [
    "df_test = pd.DataFrame({'patientID':[],'Gender':[],'Age':[],'HeartRate':[],\n",
    "                   'PRInterval':[],'RRInterval':[],'QRSDuration':[],'QTInterval'  : [],\n",
    "                   'QTCorrected' : [],'PAxis' : [],'RAxis' : [],'TAxis' : []})\n",
    "\n",
    "\n",
    "for i in test2:\n",
    "    tree = ET.parse(mypath +'Test_E/' + i)\n",
    "    root = tree.getroot()\n",
    "    patientID = (i.split('(')[1].split(')')[0])\n",
    "    for child in root[1]:\n",
    "        if child.tag == 'Gender':\n",
    "            if child.text == 'Male':\n",
    "                Gender = 0\n",
    "            elif child.text == \"Female\":\n",
    "                Gender = 1\n",
    "        elif child.tag == 'Age':\n",
    "            Age = child.text\n",
    "    for child in root[4]:\n",
    "        if child.tag == 'HeartRate':\n",
    "            HeartRate = int(child.text)\n",
    "        elif child.tag == 'PRInterval':\n",
    "            PRInterval = child.text\n",
    "        elif child.tag == 'RRInterval':\n",
    "            RRInterval = child.text\n",
    "        elif child.tag == 'QRSDuration':\n",
    "            QRSDuration = int(child.text)\n",
    "        elif child.tag == 'QTInterval':\n",
    "            QTInterval = int(child.text)\n",
    "        elif child.tag == 'QTCorrected':\n",
    "            QTCorrected = int(child.text)\n",
    "        elif child.tag == 'PAxis':\n",
    "            PAxis = child.text\n",
    "        elif child.tag == 'RAxis':\n",
    "            RAxis = int(child.text)\n",
    "        elif child.tag == 'TAxis':\n",
    "            TAxis = child.text\n",
    "\n",
    "            \n",
    "    df_test = df_test.append({'patientID':patientID,'Gender': Gender,'Age': Age, 'HeartRate': HeartRate,\n",
    "                    'PRInterval':PRInterval ,'RRInterval':RRInterval,'QRSDuration':QRSDuration,'QTInterval'  : QTInterval,\n",
    "                   'QTCorrected' : QTCorrected,'PAxis' :PAxis,'RAxis' :RAxis,'TAxis' :TAxis}, ignore_index=True)\n",
    "        \n",
    "df_test['labels'] = np.ones(len(df_test))\n",
    "df_test.head(5)"
   ]
  },
  {
   "cell_type": "code",
   "execution_count": 111,
   "metadata": {},
   "outputs": [
    {
     "name": "stdout",
     "output_type": "stream",
     "text": [
      "<class 'pandas.core.frame.DataFrame'>\n",
      "RangeIndex: 60 entries, 0 to 59\n",
      "Data columns (total 13 columns):\n",
      " #   Column       Non-Null Count  Dtype  \n",
      "---  ------       --------------  -----  \n",
      " 0   patientID    60 non-null     object \n",
      " 1   Gender       60 non-null     float64\n",
      " 2   Age          46 non-null     object \n",
      " 3   HeartRate    60 non-null     float64\n",
      " 4   PRInterval   55 non-null     object \n",
      " 5   RRInterval   60 non-null     object \n",
      " 6   QRSDuration  60 non-null     float64\n",
      " 7   QTInterval   60 non-null     float64\n",
      " 8   QTCorrected  60 non-null     float64\n",
      " 9   PAxis        54 non-null     object \n",
      " 10  RAxis        60 non-null     float64\n",
      " 11  TAxis        58 non-null     object \n",
      " 12  labels       60 non-null     float64\n",
      "dtypes: float64(7), object(6)\n",
      "memory usage: 6.2+ KB\n"
     ]
    }
   ],
   "source": [
    "df_test.info()"
   ]
  },
  {
   "cell_type": "code",
   "execution_count": 112,
   "metadata": {},
   "outputs": [],
   "source": [
    "df_test = df_test[['Age', 'HeartRate', 'PRInterval', 'QRSDuration','QTInterval', 'QTCorrected', 'PAxis', 'RAxis', 'TAxis', 'labels']]"
   ]
  },
  {
   "cell_type": "code",
   "execution_count": 113,
   "metadata": {},
   "outputs": [],
   "source": [
    "df_test.dropna(inplace=True)"
   ]
  },
  {
   "cell_type": "code",
   "execution_count": 114,
   "metadata": {},
   "outputs": [
    {
     "data": {
      "text/plain": [
       "array([0., 0., 0., 0., 0., 0., 0., 0., 0., 0., 0., 0., 0., 0., 0., 0., 0.,\n",
       "       0., 0., 0., 1., 0., 0., 0., 1., 0., 0., 1., 0., 1., 1., 0., 0., 0.,\n",
       "       0., 1., 0., 0., 0.])"
      ]
     },
     "execution_count": 114,
     "metadata": {},
     "output_type": "execute_result"
    }
   ],
   "source": [
    "RFclf.predict(df_test.iloc[:,:-1])"
   ]
  },
  {
   "cell_type": "code",
   "execution_count": 115,
   "metadata": {},
   "outputs": [
    {
     "name": "stdout",
     "output_type": "stream",
     "text": [
      "Random Forest Classifier TEST Accuracy :  0.15384615384615385\n"
     ]
    }
   ],
   "source": [
    "scores = RFclf.score(df_test.iloc[:,:-1], df_test.labels)\n",
    "print(\"Random Forest Classifier TEST Accuracy : \",scores)"
   ]
  },
  {
   "cell_type": "code",
   "execution_count": null,
   "metadata": {},
   "outputs": [],
   "source": []
  },
  {
   "cell_type": "code",
   "execution_count": null,
   "metadata": {},
   "outputs": [],
   "source": []
  },
  {
   "cell_type": "code",
   "execution_count": 17,
   "metadata": {},
   "outputs": [
    {
     "data": {
      "text/html": [
       "<div>\n",
       "<style scoped>\n",
       "    .dataframe tbody tr th:only-of-type {\n",
       "        vertical-align: middle;\n",
       "    }\n",
       "\n",
       "    .dataframe tbody tr th {\n",
       "        vertical-align: top;\n",
       "    }\n",
       "\n",
       "    .dataframe thead th {\n",
       "        text-align: right;\n",
       "    }\n",
       "</style>\n",
       "<table border=\"1\" class=\"dataframe\">\n",
       "  <thead>\n",
       "    <tr style=\"text-align: right;\">\n",
       "      <th></th>\n",
       "      <th>patientID</th>\n",
       "      <th>Gender</th>\n",
       "      <th>Age</th>\n",
       "      <th>HeartRate</th>\n",
       "      <th>PRInterval</th>\n",
       "      <th>QRSDuration</th>\n",
       "      <th>QTInterval</th>\n",
       "      <th>QTCorrected</th>\n",
       "      <th>PAxis</th>\n",
       "      <th>RAxis</th>\n",
       "      <th>TAxis</th>\n",
       "      <th>labels</th>\n",
       "    </tr>\n",
       "  </thead>\n",
       "  <tbody>\n",
       "    <tr>\n",
       "      <th>0</th>\n",
       "      <td>1</td>\n",
       "      <td>0.0</td>\n",
       "      <td>68.0</td>\n",
       "      <td>50.0</td>\n",
       "      <td>220</td>\n",
       "      <td>100.0</td>\n",
       "      <td>469.0</td>\n",
       "      <td>428.0</td>\n",
       "      <td>30</td>\n",
       "      <td>63.0</td>\n",
       "      <td>106</td>\n",
       "      <td>0.0</td>\n",
       "    </tr>\n",
       "    <tr>\n",
       "      <th>1</th>\n",
       "      <td>10</td>\n",
       "      <td>0.0</td>\n",
       "      <td>59.0</td>\n",
       "      <td>62.0</td>\n",
       "      <td>191</td>\n",
       "      <td>97.0</td>\n",
       "      <td>433.0</td>\n",
       "      <td>440.0</td>\n",
       "      <td>54</td>\n",
       "      <td>-53.0</td>\n",
       "      <td>27</td>\n",
       "      <td>0.0</td>\n",
       "    </tr>\n",
       "    <tr>\n",
       "      <th>2</th>\n",
       "      <td>100</td>\n",
       "      <td>0.0</td>\n",
       "      <td>49.0</td>\n",
       "      <td>49.0</td>\n",
       "      <td>176</td>\n",
       "      <td>88.0</td>\n",
       "      <td>516.0</td>\n",
       "      <td>466.0</td>\n",
       "      <td>23</td>\n",
       "      <td>55.0</td>\n",
       "      <td>258</td>\n",
       "      <td>0.0</td>\n",
       "    </tr>\n",
       "    <tr>\n",
       "      <th>3</th>\n",
       "      <td>101</td>\n",
       "      <td>0.0</td>\n",
       "      <td>58.0</td>\n",
       "      <td>63.0</td>\n",
       "      <td>174</td>\n",
       "      <td>129.0</td>\n",
       "      <td>448.0</td>\n",
       "      <td>459.0</td>\n",
       "      <td>34</td>\n",
       "      <td>52.0</td>\n",
       "      <td>194</td>\n",
       "      <td>0.0</td>\n",
       "    </tr>\n",
       "    <tr>\n",
       "      <th>4</th>\n",
       "      <td>102</td>\n",
       "      <td>0.0</td>\n",
       "      <td>49.0</td>\n",
       "      <td>67.0</td>\n",
       "      <td>176</td>\n",
       "      <td>96.0</td>\n",
       "      <td>396.0</td>\n",
       "      <td>418.0</td>\n",
       "      <td>56</td>\n",
       "      <td>194.0</td>\n",
       "      <td>49</td>\n",
       "      <td>0.0</td>\n",
       "    </tr>\n",
       "    <tr>\n",
       "      <th>...</th>\n",
       "      <td>...</td>\n",
       "      <td>...</td>\n",
       "      <td>...</td>\n",
       "      <td>...</td>\n",
       "      <td>...</td>\n",
       "      <td>...</td>\n",
       "      <td>...</td>\n",
       "      <td>...</td>\n",
       "      <td>...</td>\n",
       "      <td>...</td>\n",
       "      <td>...</td>\n",
       "      <td>...</td>\n",
       "    </tr>\n",
       "    <tr>\n",
       "      <th>641</th>\n",
       "      <td>5</td>\n",
       "      <td>1.0</td>\n",
       "      <td>47.0</td>\n",
       "      <td>61.0</td>\n",
       "      <td>248</td>\n",
       "      <td>178.0</td>\n",
       "      <td>484.0</td>\n",
       "      <td>488.0</td>\n",
       "      <td>67</td>\n",
       "      <td>129.0</td>\n",
       "      <td>-34</td>\n",
       "      <td>1.0</td>\n",
       "    </tr>\n",
       "    <tr>\n",
       "      <th>642</th>\n",
       "      <td>6</td>\n",
       "      <td>1.0</td>\n",
       "      <td>62.0</td>\n",
       "      <td>94.0</td>\n",
       "      <td>128</td>\n",
       "      <td>90.0</td>\n",
       "      <td>388.0</td>\n",
       "      <td>486.0</td>\n",
       "      <td>55</td>\n",
       "      <td>51.0</td>\n",
       "      <td>177</td>\n",
       "      <td>1.0</td>\n",
       "    </tr>\n",
       "    <tr>\n",
       "      <th>643</th>\n",
       "      <td>7</td>\n",
       "      <td>1.0</td>\n",
       "      <td>72.0</td>\n",
       "      <td>58.0</td>\n",
       "      <td>138</td>\n",
       "      <td>93.0</td>\n",
       "      <td>488.0</td>\n",
       "      <td>480.0</td>\n",
       "      <td>70</td>\n",
       "      <td>71.0</td>\n",
       "      <td>188</td>\n",
       "      <td>1.0</td>\n",
       "    </tr>\n",
       "    <tr>\n",
       "      <th>644</th>\n",
       "      <td>8</td>\n",
       "      <td>1.0</td>\n",
       "      <td>73.0</td>\n",
       "      <td>67.0</td>\n",
       "      <td>150</td>\n",
       "      <td>98.0</td>\n",
       "      <td>457.0</td>\n",
       "      <td>483.0</td>\n",
       "      <td>48</td>\n",
       "      <td>59.0</td>\n",
       "      <td>148</td>\n",
       "      <td>1.0</td>\n",
       "    </tr>\n",
       "    <tr>\n",
       "      <th>645</th>\n",
       "      <td>9</td>\n",
       "      <td>1.0</td>\n",
       "      <td>73.0</td>\n",
       "      <td>58.0</td>\n",
       "      <td>144</td>\n",
       "      <td>98.0</td>\n",
       "      <td>484.0</td>\n",
       "      <td>476.0</td>\n",
       "      <td>62</td>\n",
       "      <td>70.0</td>\n",
       "      <td>187</td>\n",
       "      <td>1.0</td>\n",
       "    </tr>\n",
       "  </tbody>\n",
       "</table>\n",
       "<p>646 rows × 12 columns</p>\n",
       "</div>"
      ],
      "text/plain": [
       "    patientID  Gender   Age  HeartRate PRInterval  QRSDuration  QTInterval  \\\n",
       "0           1     0.0  68.0       50.0        220        100.0       469.0   \n",
       "1          10     0.0  59.0       62.0        191         97.0       433.0   \n",
       "2         100     0.0  49.0       49.0        176         88.0       516.0   \n",
       "3         101     0.0  58.0       63.0        174        129.0       448.0   \n",
       "4         102     0.0  49.0       67.0        176         96.0       396.0   \n",
       "..        ...     ...   ...        ...        ...          ...         ...   \n",
       "641         5     1.0  47.0       61.0        248        178.0       484.0   \n",
       "642         6     1.0  62.0       94.0        128         90.0       388.0   \n",
       "643         7     1.0  72.0       58.0        138         93.0       488.0   \n",
       "644         8     1.0  73.0       67.0        150         98.0       457.0   \n",
       "645         9     1.0  73.0       58.0        144         98.0       484.0   \n",
       "\n",
       "     QTCorrected PAxis  RAxis TAxis  labels  \n",
       "0          428.0    30   63.0   106     0.0  \n",
       "1          440.0    54  -53.0    27     0.0  \n",
       "2          466.0    23   55.0   258     0.0  \n",
       "3          459.0    34   52.0   194     0.0  \n",
       "4          418.0    56  194.0    49     0.0  \n",
       "..           ...   ...    ...   ...     ...  \n",
       "641        488.0    67  129.0   -34     1.0  \n",
       "642        486.0    55   51.0   177     1.0  \n",
       "643        480.0    70   71.0   188     1.0  \n",
       "644        483.0    48   59.0   148     1.0  \n",
       "645        476.0    62   70.0   187     1.0  \n",
       "\n",
       "[646 rows x 12 columns]"
      ]
     },
     "execution_count": 17,
     "metadata": {},
     "output_type": "execute_result"
    }
   ],
   "source": [
    "# RRInterval은 결측지가 다수 존재하며, HeartRate와 QTInterval과의 상관관계가 높음으로 대체될수있다 판단 \n",
    "df = df.drop('RRInterval',axis=1)\n",
    "df"
   ]
  },
  {
   "cell_type": "code",
   "execution_count": 18,
   "metadata": {},
   "outputs": [
    {
     "data": {
      "text/plain": [
       "PRInterval    68\n",
       "PAxis         71\n",
       "TAxis         13\n",
       "dtype: int64"
      ]
     },
     "execution_count": 18,
     "metadata": {},
     "output_type": "execute_result"
    }
   ],
   "source": [
    "# 결측치 갯수 확인\n",
    "null_columns=df.columns[df.isnull().any()]\n",
    "df[null_columns].isnull().sum()"
   ]
  },
  {
   "cell_type": "code",
   "execution_count": 288,
   "metadata": {},
   "outputs": [],
   "source": [
    "df_PR = df.dropna()\n",
    "df_PR = df_PR[['Gender', 'Age', 'HeartRate', 'QRSDuration','TAxis',\n",
    "       'QTInterval', 'QTCorrected', 'RAxis', 'labels', 'PRInterval']]"
   ]
  },
  {
   "cell_type": "code",
   "execution_count": 289,
   "metadata": {},
   "outputs": [
    {
     "name": "stdout",
     "output_type": "stream",
     "text": [
      "<class 'pandas.core.frame.DataFrame'>\n",
      "RangeIndex: 566 entries, 0 to 565\n",
      "Data columns (total 10 columns):\n",
      " #   Column       Non-Null Count  Dtype  \n",
      "---  ------       --------------  -----  \n",
      " 0   Gender       566 non-null    object \n",
      " 1   Age          566 non-null    object \n",
      " 2   HeartRate    566 non-null    object \n",
      " 3   QRSDuration  566 non-null    object \n",
      " 4   TAxis        566 non-null    object \n",
      " 5   QTInterval   566 non-null    object \n",
      " 6   QTCorrected  566 non-null    object \n",
      " 7   RAxis        566 non-null    object \n",
      " 8   labels       566 non-null    float64\n",
      " 9   PRInterval   566 non-null    object \n",
      "dtypes: float64(1), object(9)\n",
      "memory usage: 44.3+ KB\n"
     ]
    }
   ],
   "source": [
    "# 현재 모든 값들이 object로 되어있음\n",
    "df_PR.reset_index(inplace=True,drop=True)\n",
    "df_PR.info()"
   ]
  },
  {
   "cell_type": "code",
   "execution_count": 290,
   "metadata": {},
   "outputs": [
    {
     "name": "stdout",
     "output_type": "stream",
     "text": [
      "<class 'pandas.core.frame.DataFrame'>\n",
      "RangeIndex: 566 entries, 0 to 565\n",
      "Data columns (total 10 columns):\n",
      " #   Column       Non-Null Count  Dtype\n",
      "---  ------       --------------  -----\n",
      " 0   Gender       566 non-null    int32\n",
      " 1   Age          566 non-null    int32\n",
      " 2   HeartRate    566 non-null    int32\n",
      " 3   QRSDuration  566 non-null    int32\n",
      " 4   TAxis        566 non-null    int32\n",
      " 5   QTInterval   566 non-null    int32\n",
      " 6   QTCorrected  566 non-null    int32\n",
      " 7   RAxis        566 non-null    int32\n",
      " 8   labels       566 non-null    int32\n",
      " 9   PRInterval   566 non-null    int32\n",
      "dtypes: int32(10)\n",
      "memory usage: 22.2 KB\n"
     ]
    }
   ],
   "source": [
    "# 정수화\n",
    "df_PR = df_PR.astype(int)\n",
    "df_PR.info()"
   ]
  },
  {
   "cell_type": "markdown",
   "metadata": {},
   "source": [
    "## 결측치를 회귀식으로 구하는 것과 평균으로 구했을 때를 비교."
   ]
  },
  {
   "cell_type": "markdown",
   "metadata": {},
   "source": [
    "### PRInterval 결측치"
   ]
  },
  {
   "cell_type": "code",
   "execution_count": 291,
   "metadata": {},
   "outputs": [],
   "source": [
    "# 트레인/테스트셋 나누기 0.3비율\n",
    "X_train, X_test, y_train, y_test = train_test_split(df_PR.iloc[:,:-1], df_PR['PRInterval'], \n",
    "                                                    test_size=0.3, random_state=42)"
   ]
  },
  {
   "cell_type": "code",
   "execution_count": 292,
   "metadata": {},
   "outputs": [
    {
     "data": {
      "text/plain": [
       "RandomForestRegressor(max_depth=50, random_state=0)"
      ]
     },
     "execution_count": 292,
     "metadata": {},
     "output_type": "execute_result"
    }
   ],
   "source": [
    "# 랜덤포레스트리그레서 사용\n",
    "regr_PR = RandomForestRegressor(max_depth=50, random_state=0)\n",
    "regr_PR.fit(X_train, y_train)"
   ]
  },
  {
   "cell_type": "code",
   "execution_count": 293,
   "metadata": {},
   "outputs": [
    {
     "name": "stdout",
     "output_type": "stream",
     "text": [
      "Mean Absolute Error: 23.111702348784032\n",
      "Mean Squared Error: 951.7165239333008\n",
      "Root Mean Squared Error: 30.849903143013282\n"
     ]
    }
   ],
   "source": [
    "# 평균으로 결측치를 대체 했을때\n",
    "y_pred = [np.mean(df_PR['PRInterval'])] * len(y_test)\n",
    "print('Mean Absolute Error:', metrics.mean_absolute_error(y_test, y_pred))  \n",
    "print('Mean Squared Error:', metrics.mean_squared_error(y_test, y_pred))  \n",
    "print('Root Mean Squared Error:', np.sqrt(metrics.mean_squared_error(y_test, y_pred)))"
   ]
  },
  {
   "cell_type": "code",
   "execution_count": 294,
   "metadata": {},
   "outputs": [
    {
     "name": "stdout",
     "output_type": "stream",
     "text": [
      "Mean Absolute Error: 19.95041176470588\n",
      "Mean Squared Error: 759.5421523529412\n",
      "Root Mean Squared Error: 27.559792313312908\n"
     ]
    }
   ],
   "source": [
    "# 랜덤포레스트리그레서로 대체 했을때,\n",
    "y_pred = regr_PR.predict(X_test)\n",
    "print('Mean Absolute Error:', metrics.mean_absolute_error(y_test, y_pred))  \n",
    "print('Mean Squared Error:', metrics.mean_squared_error(y_test, y_pred))  \n",
    "print('Root Mean Squared Error:', np.sqrt(metrics.mean_squared_error(y_test, y_pred)))"
   ]
  },
  {
   "cell_type": "code",
   "execution_count": 295,
   "metadata": {},
   "outputs": [
    {
     "data": {
      "text/plain": [
       "count    566.000000\n",
       "mean     174.061837\n",
       "std       29.776894\n",
       "min      108.000000\n",
       "25%      155.000000\n",
       "50%      171.000000\n",
       "75%      191.000000\n",
       "max      404.000000\n",
       "Name: PRInterval, dtype: float64"
      ]
     },
     "execution_count": 295,
     "metadata": {},
     "output_type": "execute_result"
    }
   ],
   "source": [
    "df_PR['PRInterval'].describe()"
   ]
  },
  {
   "cell_type": "markdown",
   "metadata": {},
   "source": [
    "### 결론: \n",
    " PRInterval의 결측치의 경우, 평균으로 대체하는 것보다 RandomForestRegressor를 사용하여 예측한 값을 사용 했을때, 에러가 줄어든다는 것을 입증함."
   ]
  },
  {
   "cell_type": "markdown",
   "metadata": {},
   "source": [
    "### PAxis 결측치"
   ]
  },
  {
   "cell_type": "code",
   "execution_count": 296,
   "metadata": {},
   "outputs": [],
   "source": [
    "# 앞선 PRInterval과 동일\n",
    "df_PA = df.dropna()\n",
    "df_PA = df_PA[['Gender', 'Age', 'HeartRate', 'QRSDuration',\n",
    "       'QTInterval', 'QTCorrected', 'RAxis', 'TAxis', 'labels', 'PRInterval', 'PAxis']]\n",
    "df_PA.reset_index(inplace=True,drop=True)\n",
    "df_PA = df_PA.astype(int)"
   ]
  },
  {
   "cell_type": "code",
   "execution_count": 297,
   "metadata": {},
   "outputs": [],
   "source": [
    "# 트레인/테스트셋 나누기 0.3비율\n",
    "X_train, X_test, y_train, y_test = train_test_split(df_PA.iloc[:,:-1], df_PA['PAxis'], \n",
    "                                                    test_size=0.3, random_state=42)"
   ]
  },
  {
   "cell_type": "code",
   "execution_count": 298,
   "metadata": {},
   "outputs": [
    {
     "data": {
      "text/plain": [
       "RandomForestRegressor(max_depth=50, random_state=0)"
      ]
     },
     "execution_count": 298,
     "metadata": {},
     "output_type": "execute_result"
    }
   ],
   "source": [
    "# 랜덤포레스트리그레서 사용\n",
    "regr_PA = RandomForestRegressor(max_depth=50, random_state=0)\n",
    "regr_PA.fit(X_train, y_train)"
   ]
  },
  {
   "cell_type": "code",
   "execution_count": 299,
   "metadata": {},
   "outputs": [
    {
     "name": "stdout",
     "output_type": "stream",
     "text": [
      "Mean Absolute Error: 21.52772812305134\n",
      "Mean Squared Error: 764.1988261955632\n",
      "Root Mean Squared Error: 27.64414632784965\n"
     ]
    }
   ],
   "source": [
    "# 평균으로 결측치를 대체 했을때\n",
    "y_pred = [np.mean(df_PA['PAxis'])] * len(y_test)\n",
    "print('Mean Absolute Error:', metrics.mean_absolute_error(y_test, y_pred))  \n",
    "print('Mean Squared Error:', metrics.mean_squared_error(y_test, y_pred))  \n",
    "print('Root Mean Squared Error:', np.sqrt(metrics.mean_squared_error(y_test, y_pred)))"
   ]
  },
  {
   "cell_type": "code",
   "execution_count": 300,
   "metadata": {},
   "outputs": [
    {
     "name": "stdout",
     "output_type": "stream",
     "text": [
      "Mean Absolute Error: 21.299411764705884\n",
      "Mean Squared Error: 799.4170329411764\n",
      "Root Mean Squared Error: 28.273963870337962\n"
     ]
    }
   ],
   "source": [
    "# 랜덤포레스트리그레서로 대체 했을때,\n",
    "y_pred = regr_PA.predict(X_test)\n",
    "print('Mean Absolute Error:', metrics.mean_absolute_error(y_test, y_pred))  \n",
    "print('Mean Squared Error:', metrics.mean_squared_error(y_test, y_pred))  \n",
    "print('Root Mean Squared Error:', np.sqrt(metrics.mean_squared_error(y_test, y_pred)))"
   ]
  },
  {
   "cell_type": "code",
   "execution_count": 301,
   "metadata": {},
   "outputs": [
    {
     "data": {
      "text/plain": [
       "count    566.000000\n",
       "mean      41.330389\n",
       "std       28.278301\n",
       "min      -90.000000\n",
       "25%       25.000000\n",
       "50%       48.000000\n",
       "75%       62.000000\n",
       "max      143.000000\n",
       "Name: PAxis, dtype: float64"
      ]
     },
     "execution_count": 301,
     "metadata": {},
     "output_type": "execute_result"
    }
   ],
   "source": [
    "df_PA['PAxis'].describe()"
   ]
  },
  {
   "cell_type": "markdown",
   "metadata": {},
   "source": [
    "### 결론: \n",
    " PAxis의 결측치의 경우, 평균으로 대체하는 것보다 RandomForestRegressor를 사용하여 예측한 값을 사용 했을때, 에러가 줄어든다는 것을 입증함."
   ]
  },
  {
   "cell_type": "markdown",
   "metadata": {},
   "source": [
    "### TAxis 결측치"
   ]
  },
  {
   "cell_type": "code",
   "execution_count": 302,
   "metadata": {},
   "outputs": [],
   "source": [
    "# 앞선 PRInterval과 동일\n",
    "df_TA = df.dropna()\n",
    "df_TA = df_TA[['Gender', 'Age', 'HeartRate', 'QRSDuration',\n",
    "       'QTInterval', 'QTCorrected', 'RAxis', 'labels', 'TAxis']]\n",
    "df_TA.reset_index(inplace=True,drop=True)\n",
    "df_TA = df_TA.astype(int)"
   ]
  },
  {
   "cell_type": "code",
   "execution_count": 303,
   "metadata": {},
   "outputs": [],
   "source": [
    "# 트레인/테스트셋 나누기 0.3비율\n",
    "X_train, X_test, y_train, y_test = train_test_split(df_TA.iloc[:,:-1], df_TA['TAxis'], \n",
    "                                                    test_size=0.3, random_state=42)"
   ]
  },
  {
   "cell_type": "code",
   "execution_count": 304,
   "metadata": {},
   "outputs": [
    {
     "data": {
      "text/plain": [
       "RandomForestRegressor(max_depth=50, random_state=0)"
      ]
     },
     "execution_count": 304,
     "metadata": {},
     "output_type": "execute_result"
    }
   ],
   "source": [
    "# 랜덤포레스트리그레서 사용\n",
    "regr_TA = RandomForestRegressor(max_depth=50, random_state=0)\n",
    "regr_TA.fit(X_train, y_train)"
   ]
  },
  {
   "cell_type": "code",
   "execution_count": 305,
   "metadata": {},
   "outputs": [
    {
     "name": "stdout",
     "output_type": "stream",
     "text": [
      "Mean Absolute Error: 94.59997921430056\n",
      "Mean Squared Error: 12123.78818391745\n",
      "Root Mean Squared Error: 110.10807501685537\n"
     ]
    }
   ],
   "source": [
    "# 평균으로 결측치를 대체 했을때\n",
    "y_pred = [np.mean(df_PA['PAxis'])] * len(y_test)\n",
    "print('Mean Absolute Error:', metrics.mean_absolute_error(y_test, y_pred))  \n",
    "print('Mean Squared Error:', metrics.mean_squared_error(y_test, y_pred))  \n",
    "print('Root Mean Squared Error:', np.sqrt(metrics.mean_squared_error(y_test, y_pred)))"
   ]
  },
  {
   "cell_type": "code",
   "execution_count": 306,
   "metadata": {},
   "outputs": [
    {
     "name": "stdout",
     "output_type": "stream",
     "text": [
      "Mean Absolute Error: 59.17064705882354\n",
      "Mean Squared Error: 6026.604513529412\n",
      "Root Mean Squared Error: 77.63120837349766\n"
     ]
    }
   ],
   "source": [
    "# 랜덤포레스트리그레서로 대체 했을때,\n",
    "y_pred = regr_TA.predict(X_test)\n",
    "print('Mean Absolute Error:', metrics.mean_absolute_error(y_test, y_pred))  \n",
    "print('Mean Squared Error:', metrics.mean_squared_error(y_test, y_pred))  \n",
    "print('Root Mean Squared Error:', np.sqrt(metrics.mean_squared_error(y_test, y_pred)))"
   ]
  },
  {
   "cell_type": "code",
   "execution_count": 307,
   "metadata": {},
   "outputs": [
    {
     "data": {
      "text/plain": [
       "count    566.000000\n",
       "mean     114.545936\n",
       "std       80.361488\n",
       "min      -87.000000\n",
       "25%       64.250000\n",
       "50%      124.000000\n",
       "75%      169.750000\n",
       "max      268.000000\n",
       "Name: TAxis, dtype: float64"
      ]
     },
     "execution_count": 307,
     "metadata": {},
     "output_type": "execute_result"
    }
   ],
   "source": [
    "df_TA['TAxis'].describe()"
   ]
  },
  {
   "cell_type": "markdown",
   "metadata": {},
   "source": [
    "### 결론: \n",
    " TAxis의 결측치의 경우, 평균으로 대체하는 것보다 RandomForestRegressor를 사용하여 예측한 값을 사용 했을때, 에러가 줄어든다는 것을 입증함. 앞선 PRInterval과 PAxis에 비해 에러가 크지만, RMSE가 std보다 크지 않기 때문에 사용하여도 괜찮다고 판단."
   ]
  },
  {
   "cell_type": "markdown",
   "metadata": {},
   "source": [
    "## 결측치 채우기"
   ]
  },
  {
   "cell_type": "markdown",
   "metadata": {},
   "source": [
    "결측치의 경우, 두개가 동시에 없는 경우가 많았기 하나의 결측치를 먼저 예측하고 예측된 값을 추가하여 다음 결측치를 찾게 함.\n",
    "따라서, 위에 테스트 환경에서 바꿔본 결과\n",
    "TAxis -> PRInterval -> PAxis 순으로 결측치를 채우는 것이 가장 효율적이라고 판단."
   ]
  },
  {
   "cell_type": "code",
   "execution_count": 308,
   "metadata": {},
   "outputs": [],
   "source": [
    "for i in range(len(df)):\n",
    "    if df['TAxis'].loc[i] == None:\n",
    "        df['TAxis'].loc[i] = regr_TA.predict((np.array(df[['Gender', 'Age', 'HeartRate', 'QRSDuration',\n",
    "                                                 'QTInterval', 'QTCorrected', 'RAxis', 'labels']].loc[i])).reshape(1, -1))"
   ]
  },
  {
   "cell_type": "code",
   "execution_count": 309,
   "metadata": {},
   "outputs": [],
   "source": [
    "for i in range(len(df)):\n",
    "    if df['PRInterval'].loc[i] == None:\n",
    "        df['PRInterval'].loc[i] = regr_PR.predict((np.array(df[['Gender', 'Age', 'HeartRate', 'QRSDuration','TAxis',\n",
    "       'QTInterval', 'QTCorrected', 'RAxis', 'labels']].loc[i])).reshape(1,-1))"
   ]
  },
  {
   "cell_type": "code",
   "execution_count": 310,
   "metadata": {},
   "outputs": [],
   "source": [
    "for i in range(len(df)):\n",
    "    if df['PAxis'].loc[i] == None:\n",
    "        df['PAxis'].loc[i] = regr_PA.predict((np.array(df[['Gender', 'Age', 'HeartRate', 'QRSDuration',\n",
    "       'QTInterval', 'QTCorrected', 'RAxis', 'TAxis', 'labels', 'PRInterval']].loc[i])).reshape(1,-1))"
   ]
  },
  {
   "cell_type": "code",
   "execution_count": 311,
   "metadata": {},
   "outputs": [
    {
     "name": "stdout",
     "output_type": "stream",
     "text": [
      "<class 'pandas.core.frame.DataFrame'>\n",
      "RangeIndex: 646 entries, 0 to 645\n",
      "Data columns (total 12 columns):\n",
      " #   Column       Non-Null Count  Dtype\n",
      "---  ------       --------------  -----\n",
      " 0   patientID    646 non-null    int32\n",
      " 1   Gender       646 non-null    int32\n",
      " 2   Age          646 non-null    int32\n",
      " 3   HeartRate    646 non-null    int32\n",
      " 4   PRInterval   646 non-null    int32\n",
      " 5   QRSDuration  646 non-null    int32\n",
      " 6   QTInterval   646 non-null    int32\n",
      " 7   QTCorrected  646 non-null    int32\n",
      " 8   PAxis        646 non-null    int32\n",
      " 9   RAxis        646 non-null    int32\n",
      " 10  TAxis        646 non-null    int32\n",
      " 11  labels       646 non-null    int32\n",
      "dtypes: int32(12)\n",
      "memory usage: 30.4 KB\n"
     ]
    }
   ],
   "source": [
    "# 최종 df 확인\n",
    "df = df.astype(int)\n",
    "df.info()"
   ]
  },
  {
   "cell_type": "code",
   "execution_count": 312,
   "metadata": {},
   "outputs": [
    {
     "name": "stdout",
     "output_type": "stream",
     "text": [
      "Counter({0: 619, 1: 27})\n",
      "Counter({0: 619, 1: 619})\n"
     ]
    }
   ],
   "source": [
    "X = df.iloc[:,1:-1]\n",
    "y = df['labels']\n",
    "# 처음 Y 값 계산\n",
    "counter = Counter(y)\n",
    "print(counter)\n",
    "# SMOTE 적용\n",
    "oversample = SMOTE()\n",
    "X, y = oversample.fit_resample(X, y)\n",
    "# 새로구해진 Y값 계산\n",
    "counter = Counter(y)\n",
    "print(counter)"
   ]
  },
  {
   "cell_type": "code",
   "execution_count": 313,
   "metadata": {},
   "outputs": [
    {
     "data": {
      "text/html": [
       "<div>\n",
       "<style scoped>\n",
       "    .dataframe tbody tr th:only-of-type {\n",
       "        vertical-align: middle;\n",
       "    }\n",
       "\n",
       "    .dataframe tbody tr th {\n",
       "        vertical-align: top;\n",
       "    }\n",
       "\n",
       "    .dataframe thead th {\n",
       "        text-align: right;\n",
       "    }\n",
       "</style>\n",
       "<table border=\"1\" class=\"dataframe\">\n",
       "  <thead>\n",
       "    <tr style=\"text-align: right;\">\n",
       "      <th></th>\n",
       "      <th>Gender</th>\n",
       "      <th>Age</th>\n",
       "      <th>HeartRate</th>\n",
       "      <th>PRInterval</th>\n",
       "      <th>QRSDuration</th>\n",
       "      <th>QTInterval</th>\n",
       "      <th>QTCorrected</th>\n",
       "      <th>PAxis</th>\n",
       "      <th>RAxis</th>\n",
       "      <th>TAxis</th>\n",
       "    </tr>\n",
       "  </thead>\n",
       "  <tbody>\n",
       "    <tr>\n",
       "      <th>count</th>\n",
       "      <td>1238.000000</td>\n",
       "      <td>1238.000000</td>\n",
       "      <td>1238.000000</td>\n",
       "      <td>1238.000000</td>\n",
       "      <td>1238.000000</td>\n",
       "      <td>1238.000000</td>\n",
       "      <td>1238.000000</td>\n",
       "      <td>1238.000000</td>\n",
       "      <td>1238.000000</td>\n",
       "      <td>1238.000000</td>\n",
       "    </tr>\n",
       "    <tr>\n",
       "      <th>mean</th>\n",
       "      <td>0.243134</td>\n",
       "      <td>57.491922</td>\n",
       "      <td>63.987884</td>\n",
       "      <td>186.050889</td>\n",
       "      <td>106.489499</td>\n",
       "      <td>445.869144</td>\n",
       "      <td>456.625202</td>\n",
       "      <td>43.332795</td>\n",
       "      <td>36.777060</td>\n",
       "      <td>95.642973</td>\n",
       "    </tr>\n",
       "    <tr>\n",
       "      <th>std</th>\n",
       "      <td>0.429149</td>\n",
       "      <td>11.735478</td>\n",
       "      <td>11.424449</td>\n",
       "      <td>31.181397</td>\n",
       "      <td>20.647509</td>\n",
       "      <td>41.019592</td>\n",
       "      <td>30.126010</td>\n",
       "      <td>22.073642</td>\n",
       "      <td>41.807799</td>\n",
       "      <td>92.140091</td>\n",
       "    </tr>\n",
       "    <tr>\n",
       "      <th>min</th>\n",
       "      <td>0.000000</td>\n",
       "      <td>16.000000</td>\n",
       "      <td>37.000000</td>\n",
       "      <td>0.000000</td>\n",
       "      <td>66.000000</td>\n",
       "      <td>260.000000</td>\n",
       "      <td>315.000000</td>\n",
       "      <td>-90.000000</td>\n",
       "      <td>-177.000000</td>\n",
       "      <td>-87.000000</td>\n",
       "    </tr>\n",
       "    <tr>\n",
       "      <th>25%</th>\n",
       "      <td>0.000000</td>\n",
       "      <td>49.000000</td>\n",
       "      <td>57.000000</td>\n",
       "      <td>164.000000</td>\n",
       "      <td>92.000000</td>\n",
       "      <td>416.000000</td>\n",
       "      <td>436.000000</td>\n",
       "      <td>34.000000</td>\n",
       "      <td>11.250000</td>\n",
       "      <td>33.000000</td>\n",
       "    </tr>\n",
       "    <tr>\n",
       "      <th>50%</th>\n",
       "      <td>0.000000</td>\n",
       "      <td>57.000000</td>\n",
       "      <td>61.000000</td>\n",
       "      <td>188.000000</td>\n",
       "      <td>100.000000</td>\n",
       "      <td>450.000000</td>\n",
       "      <td>456.500000</td>\n",
       "      <td>47.000000</td>\n",
       "      <td>43.000000</td>\n",
       "      <td>114.500000</td>\n",
       "    </tr>\n",
       "    <tr>\n",
       "      <th>75%</th>\n",
       "      <td>0.000000</td>\n",
       "      <td>66.000000</td>\n",
       "      <td>69.000000</td>\n",
       "      <td>209.000000</td>\n",
       "      <td>116.000000</td>\n",
       "      <td>474.000000</td>\n",
       "      <td>477.000000</td>\n",
       "      <td>57.000000</td>\n",
       "      <td>63.000000</td>\n",
       "      <td>163.000000</td>\n",
       "    </tr>\n",
       "    <tr>\n",
       "      <th>max</th>\n",
       "      <td>1.000000</td>\n",
       "      <td>88.000000</td>\n",
       "      <td>159.000000</td>\n",
       "      <td>404.000000</td>\n",
       "      <td>204.000000</td>\n",
       "      <td>572.000000</td>\n",
       "      <td>636.000000</td>\n",
       "      <td>143.000000</td>\n",
       "      <td>258.000000</td>\n",
       "      <td>268.000000</td>\n",
       "    </tr>\n",
       "  </tbody>\n",
       "</table>\n",
       "</div>"
      ],
      "text/plain": [
       "            Gender          Age    HeartRate   PRInterval  QRSDuration  \\\n",
       "count  1238.000000  1238.000000  1238.000000  1238.000000  1238.000000   \n",
       "mean      0.243134    57.491922    63.987884   186.050889   106.489499   \n",
       "std       0.429149    11.735478    11.424449    31.181397    20.647509   \n",
       "min       0.000000    16.000000    37.000000     0.000000    66.000000   \n",
       "25%       0.000000    49.000000    57.000000   164.000000    92.000000   \n",
       "50%       0.000000    57.000000    61.000000   188.000000   100.000000   \n",
       "75%       0.000000    66.000000    69.000000   209.000000   116.000000   \n",
       "max       1.000000    88.000000   159.000000   404.000000   204.000000   \n",
       "\n",
       "        QTInterval  QTCorrected        PAxis        RAxis        TAxis  \n",
       "count  1238.000000  1238.000000  1238.000000  1238.000000  1238.000000  \n",
       "mean    445.869144   456.625202    43.332795    36.777060    95.642973  \n",
       "std      41.019592    30.126010    22.073642    41.807799    92.140091  \n",
       "min     260.000000   315.000000   -90.000000  -177.000000   -87.000000  \n",
       "25%     416.000000   436.000000    34.000000    11.250000    33.000000  \n",
       "50%     450.000000   456.500000    47.000000    43.000000   114.500000  \n",
       "75%     474.000000   477.000000    57.000000    63.000000   163.000000  \n",
       "max     572.000000   636.000000   143.000000   258.000000   268.000000  "
      ]
     },
     "execution_count": 313,
     "metadata": {},
     "output_type": "execute_result"
    }
   ],
   "source": [
    "# 전체적으로 이상치 등을 확인\n",
    "X.describe()"
   ]
  },
  {
   "cell_type": "code",
   "execution_count": 314,
   "metadata": {},
   "outputs": [
    {
     "data": {
      "text/plain": [
       "0       0\n",
       "1       0\n",
       "2       0\n",
       "3       0\n",
       "4       0\n",
       "       ..\n",
       "1233    1\n",
       "1234    1\n",
       "1235    1\n",
       "1236    1\n",
       "1237    1\n",
       "Name: labels, Length: 1238, dtype: int32"
      ]
     },
     "execution_count": 314,
     "metadata": {},
     "output_type": "execute_result"
    }
   ],
   "source": [
    "y"
   ]
  },
  {
   "cell_type": "markdown",
   "metadata": {},
   "source": [
    "# 머신러닝 알고리즘 적용"
   ]
  },
  {
   "cell_type": "code",
   "execution_count": 315,
   "metadata": {},
   "outputs": [],
   "source": [
    "# 트레인 / 테스트 셋 나누기\n",
    "X_train, X_test, y_train, y_test = train_test_split(X, y,test_size=0.3, random_state=4)"
   ]
  },
  {
   "cell_type": "markdown",
   "metadata": {},
   "source": [
    "## Logistic regression"
   ]
  },
  {
   "cell_type": "code",
   "execution_count": 316,
   "metadata": {},
   "outputs": [
    {
     "name": "stdout",
     "output_type": "stream",
     "text": [
      "Logistic Regression Accuracy :  0.7768817204301075\n"
     ]
    }
   ],
   "source": [
    "# Logstic Regression 적용 후 Scoring 측정\n",
    "from sklearn.linear_model import LogisticRegression\n",
    "LRclf = LogisticRegression(random_state=0)\n",
    "LRclf.fit(X_train, y_train)\n",
    "scores = LRclf.score(X_test, y_test)\n",
    "print(\"Logistic Regression Accuracy : \",scores)"
   ]
  },
  {
   "cell_type": "code",
   "execution_count": 317,
   "metadata": {},
   "outputs": [
    {
     "data": {
      "image/png": "[encoded data removed]",
      "text/plain": [
       "<Figure size 432x288 with 2 Axes>"
      ]
     },
     "metadata": {
      "needs_background": "light"
     },
     "output_type": "display_data"
    }
   ],
   "source": [
    "# Confusion Matrix\n",
    "from sklearn.metrics import plot_confusion_matrix\n",
    "titles_options = [(\"Confusion Matrix\", None)]\n",
    "for title, normalize in titles_options:\n",
    "    disp = plot_confusion_matrix(LRclf, X_test, y_test,\n",
    "                                 display_labels=[\"Non VF/VT\",\"VF/VT\"],\n",
    "                                 cmap=plt.cm.Reds,\n",
    "                                 normalize=normalize)\n",
    "    disp.ax_.set_title(title)\n",
    "plt.show()"
   ]
  },
  {
   "cell_type": "markdown",
   "metadata": {},
   "source": [
    "## RandomForestClassifier"
   ]
  },
  {
   "cell_type": "code",
   "execution_count": 318,
   "metadata": {},
   "outputs": [
    {
     "name": "stdout",
     "output_type": "stream",
     "text": [
      "Random Forest Classifier Accuracy :  0.9220430107526881\n"
     ]
    }
   ],
   "source": [
    "from sklearn.ensemble import RandomForestClassifier\n",
    "RFclf = RandomForestClassifier(max_depth=5, random_state=0)\n",
    "RFclf.fit(X_train, y_train)\n",
    "scores = RFclf.score(X_test, y_test)\n",
    "print(\"Random Forest Classifier Accuracy : \",scores)"
   ]
  },
  {
   "cell_type": "code",
   "execution_count": 319,
   "metadata": {},
   "outputs": [
    {
     "data": {
      "image/png": "[encoded data removed]",
      "text/plain": [
       "<Figure size 432x288 with 2 Axes>"
      ]
     },
     "metadata": {
      "needs_background": "light"
     },
     "output_type": "display_data"
    }
   ],
   "source": [
    "# Confusion Matrix\n",
    "titles_options = [(\"Confusion Matrix\", None)]\n",
    "for title, normalize in titles_options:\n",
    "    disp = plot_confusion_matrix(RFclf, X_test, y_test,\n",
    "                                 display_labels=[\"Non VF/VT\",\"VF/VT\"],\n",
    "                                 cmap=plt.cm.Blues,\n",
    "                                 normalize=normalize)\n",
    "    disp.ax_.set_title(title)\n",
    "plt.show()"
   ]
  },
  {
   "cell_type": "markdown",
   "metadata": {},
   "source": [
    "# Cross-Validation"
   ]
  },
  {
   "cell_type": "code",
   "execution_count": 320,
   "metadata": {},
   "outputs": [
    {
     "name": "stdout",
     "output_type": "stream",
     "text": [
      "Logistic Regression CV\n",
      "Accuracy :  0.782258064516129   F1 :  0.7822580645161291\n",
      "Accuracy :  0.7782258064516129   F1 :  0.7755102040816327\n",
      "Accuracy :  0.7983870967741935   F1 :  0.8076923076923077\n",
      "Accuracy :  0.7692307692307693   F1 :  0.7764705882352942\n",
      "Accuracy :  0.8178137651821862   F1 :  0.8235294117647058\n"
     ]
    }
   ],
   "source": [
    "from sklearn.model_selection import cross_validate\n",
    "from sklearn.metrics import recall_score\n",
    "scoring = ['accuracy', 'f1']\n",
    "scores = cross_validate(LRclf, X, y, scoring=scoring, cv=5)\n",
    "print(\"Logistic Regression CV\")\n",
    "for i in range(len(scores['test_accuracy'])):\n",
    "    print(\"Accuracy : \",scores['test_accuracy'][i],' ',\"F1 : \",scores['test_f1'][i])\n"
   ]
  },
  {
   "cell_type": "code",
   "execution_count": 321,
   "metadata": {},
   "outputs": [
    {
     "name": "stdout",
     "output_type": "stream",
     "text": [
      "Random Forest CV\n",
      "Accuracy :  0.9475806451612904   F1 :  0.946938775510204\n",
      "Accuracy :  0.9274193548387096   F1 :  0.9274193548387096\n",
      "Accuracy :  0.9354838709677419   F1 :  0.9344262295081968\n",
      "Accuracy :  0.9149797570850202   F1 :  0.9163346613545816\n",
      "Accuracy :  0.9271255060728745   F1 :  0.9291338582677167\n"
     ]
    }
   ],
   "source": [
    "scores = cross_validate(RFclf, X, y, scoring=scoring, cv=5)\n",
    "print(\"Random Forest CV\")\n",
    "for i in range(len(scores['test_accuracy'])):\n",
    "    print(\"Accuracy : \",scores['test_accuracy'][i],' ',\"F1 : \",scores['test_f1'][i])"
   ]
  },
  {
   "cell_type": "markdown",
   "metadata": {},
   "source": [
    "## RandomForest Feature Importance"
   ]
  },
  {
   "cell_type": "code",
   "execution_count": 324,
   "metadata": {},
   "outputs": [
    {
     "name": "stdout",
     "output_type": "stream",
     "text": [
      "Feature: 0, Score: 0.00233\n",
      "Feature: 1, Score: 0.09614\n",
      "Feature: 2, Score: 0.06054\n",
      "Feature: 3, Score: 0.24948\n",
      "Feature: 4, Score: 0.13426\n",
      "Feature: 5, Score: 0.21243\n",
      "Feature: 6, Score: 0.07020\n",
      "Feature: 7, Score: 0.06059\n",
      "Feature: 8, Score: 0.05791\n",
      "Feature: 9, Score: 0.05612\n"
     ]
    },
    {
     "data": {
      "image/png": "[encoded data removed]",
      "text/plain": [
       "<Figure size 864x360 with 1 Axes>"
      ]
     },
     "metadata": {
      "needs_background": "light"
     },
     "output_type": "display_data"
    }
   ],
   "source": [
    "plt.figure(figsize=(12, 5))\n",
    "importance = RFclf.fit(X_train, y_train).feature_importances_\n",
    "for i,v in enumerate(importance):\n",
    "\tprint('Feature: %0d, Score: %.5f' % (i,v))\n",
    "plt.bar(X.columns.to_list(), importance)\n",
    "plt.show()"
   ]
  },
  {
   "cell_type": "markdown",
   "metadata": {},
   "source": [
    "# Gender 변수 제거 후 RandomForest"
   ]
  },
  {
   "cell_type": "code",
   "execution_count": 325,
   "metadata": {},
   "outputs": [
    {
     "name": "stdout",
     "output_type": "stream",
     "text": [
      "Gender 제거 후 Random Forest Classifier Accuracy ;  0.9301075268817204\n"
     ]
    }
   ],
   "source": [
    "X_train, X_test, y_train, y_test = train_test_split(X.iloc[:,1:], y,test_size=0.3, random_state=4)\n",
    "RF1clf = RandomForestClassifier(max_depth=5, random_state=0)\n",
    "RF1clf.fit(X_train, y_train)\n",
    "scores = RF1clf.score(X_test, y_test)\n",
    "print(\"Gender 제거 후 Random Forest Classifier Accuracy ; \", scores)"
   ]
  },
  {
   "cell_type": "code",
   "execution_count": 326,
   "metadata": {},
   "outputs": [
    {
     "data": {
      "image/png": "[encoded data removed]",
      "text/plain": [
       "<Figure size 432x288 with 2 Axes>"
      ]
     },
     "metadata": {
      "needs_background": "light"
     },
     "output_type": "display_data"
    }
   ],
   "source": [
    "# Confusio Matrix\n",
    "titles_options = [(\"Confusion Matrix\", None)]\n",
    "for title, normalize in titles_options:\n",
    "    disp = plot_confusion_matrix(RF1clf, X_test, y_test,\n",
    "                                 display_labels=[\"Non VF/VT\",\"VF/VT\"],\n",
    "                                 cmap=plt.cm.Blues,\n",
    "                                 normalize=normalize)\n",
    "    disp.ax_.set_title(title)\n",
    "plt.show()"
   ]
  },
  {
   "cell_type": "code",
   "execution_count": 327,
   "metadata": {},
   "outputs": [
    {
     "name": "stdout",
     "output_type": "stream",
     "text": [
      "Accuracy :  0.9354838709677419   F1 :  0.9344262295081968\n",
      "Accuracy :  0.967741935483871   F1 :  0.9672131147540983\n",
      "Accuracy :  0.9596774193548387   F1 :  0.9606299212598426\n",
      "Accuracy :  0.9193548387096774   F1 :  0.9180327868852459\n",
      "Accuracy :  0.9193548387096774   F1 :  0.9180327868852459\n",
      "Accuracy :  0.9354838709677419   F1 :  0.9344262295081968\n",
      "Accuracy :  0.9032258064516129   F1 :  0.9016393442622951\n",
      "Accuracy :  0.9193548387096774   F1 :  0.921875\n",
      "Accuracy :  0.9349593495934959   F1 :  0.9354838709677418\n",
      "Accuracy :  0.9105691056910569   F1 :  0.912\n"
     ]
    }
   ],
   "source": [
    "scores = cross_validate(RF1clf, X, y, scoring=scoring, cv=10)\n",
    "\n",
    "for i in range(len(scores['test_accuracy'])):\n",
    "    print(\"Accuracy : \",scores['test_accuracy'][i],' ',\"F1 : \",scores['test_f1'][i])"
   ]
  },
  {
   "cell_type": "code",
   "execution_count": 328,
   "metadata": {},
   "outputs": [
    {
     "data": {
      "text/plain": [
       "[<matplotlib.lines.Line2D at 0x11f00648550>]"
      ]
     },
     "execution_count": 328,
     "metadata": {},
     "output_type": "execute_result"
    },
    {
     "data": {
      "image/png": "[encoded data removed]",
      "text/plain": [
       "<Figure size 864x360 with 1 Axes>"
      ]
     },
     "metadata": {
      "needs_background": "light"
     },
     "output_type": "display_data"
    }
   ],
   "source": [
    "fig = plt.figure(figsize=(12, 5))\n",
    "ax = plt.axes()\n",
    "ax.plot(range(1,11),scores['test_accuracy'])"
   ]
  },
  {
   "cell_type": "code",
   "execution_count": 329,
   "metadata": {},
   "outputs": [
    {
     "data": {
      "text/plain": [
       "0.9305205874639391"
      ]
     },
     "execution_count": 329,
     "metadata": {},
     "output_type": "execute_result"
    }
   ],
   "source": [
    "np.mean(scores['test_accuracy'])"
   ]
  },
  {
   "cell_type": "code",
   "execution_count": 330,
   "metadata": {},
   "outputs": [
    {
     "name": "stdout",
     "output_type": "stream",
     "text": [
      "Gender 제거 후 Random Forest Classifier Accuracy ;  0.9543010752688172\n"
     ]
    }
   ],
   "source": [
    "X_train, X_test, y_train, y_test = train_test_split(X.iloc[:,1:], y,test_size=0.3, random_state=4)\n",
    "RF1clf = RandomForestClassifier(max_depth=50, random_state=0)\n",
    "RF1clf.fit(X_train, y_train)\n",
    "scores = RF1clf.score(X_test, y_test)\n",
    "print(\"Gender 제거 후 Random Forest Classifier Accuracy ; \", scores)"
   ]
  },
  {
   "cell_type": "code",
   "execution_count": 331,
   "metadata": {},
   "outputs": [
    {
     "name": "stdout",
     "output_type": "stream",
     "text": [
      "Accuracy :  0.967741935483871   F1 :  0.967741935483871\n",
      "Accuracy :  0.9919354838709677   F1 :  0.991869918699187\n",
      "Accuracy :  0.9838709677419355   F1 :  0.9838709677419355\n",
      "Accuracy :  0.967741935483871   F1 :  0.967741935483871\n",
      "Accuracy :  0.967741935483871   F1 :  0.967741935483871\n",
      "Accuracy :  0.9758064516129032   F1 :  0.976\n",
      "Accuracy :  0.9838709677419355   F1 :  0.9838709677419355\n",
      "Accuracy :  0.9435483870967742   F1 :  0.9465648854961832\n",
      "Accuracy :  0.967479674796748   F1 :  0.9672131147540983\n",
      "Accuracy :  0.983739837398374   F1 :  0.9841269841269841\n"
     ]
    }
   ],
   "source": [
    "scores = cross_validate(RF1clf, X, y, scoring=scoring, cv=10)\n",
    "\n",
    "for i in range(len(scores['test_accuracy'])):\n",
    "    print(\"Accuracy : \",scores['test_accuracy'][i],' ',\"F1 : \",scores['test_f1'][i])"
   ]
  },
  {
   "cell_type": "code",
   "execution_count": 332,
   "metadata": {},
   "outputs": [
    {
     "data": {
      "text/plain": [
       "[<matplotlib.lines.Line2D at 0x11f0069dfd0>]"
      ]
     },
     "execution_count": 332,
     "metadata": {},
     "output_type": "execute_result"
    },
    {
     "data": {
      "image/png": "[encoded data removed]",
      "text/plain": [
       "<Figure size 864x360 with 1 Axes>"
      ]
     },
     "metadata": {
      "needs_background": "light"
     },
     "output_type": "display_data"
    }
   ],
   "source": [
    "fig = plt.figure(figsize=(12, 5))\n",
    "ax = plt.axes()\n",
    "ax.plot(range(1,11),scores['test_accuracy'])"
   ]
  },
  {
   "cell_type": "code",
   "execution_count": 333,
   "metadata": {},
   "outputs": [
    {
     "name": "stdout",
     "output_type": "stream",
     "text": [
      "Logistic Regression Accuracy :  0.7768817204301075\n",
      "Accuracy :  0.7661290322580645   F1 :  0.7642276422764228\n",
      "Accuracy :  0.7903225806451613   F1 :  0.7903225806451614\n",
      "Accuracy :  0.8145161290322581   F1 :  0.8067226890756302\n",
      "Accuracy :  0.75   F1 :  0.752\n",
      "Accuracy :  0.7661290322580645   F1 :  0.7716535433070866\n",
      "Accuracy :  0.8387096774193549   F1 :  0.8507462686567164\n",
      "Accuracy :  0.7983870967741935   F1 :  0.8062015503875968\n",
      "Accuracy :  0.7338709677419355   F1 :  0.7441860465116278\n",
      "Accuracy :  0.8536585365853658   F1 :  0.8571428571428572\n",
      "Accuracy :  0.7642276422764228   F1 :  0.7642276422764228\n"
     ]
    }
   ],
   "source": [
    "X_train, X_test, y_train, y_test = train_test_split(X.iloc[:,1:], y,test_size=0.3, random_state=4)\n",
    "LR1clf = LogisticRegression(random_state=0)\n",
    "LR1clf.fit(X_train, y_train)\n",
    "scores = LR1clf.score(X_test, y_test)\n",
    "print(\"Logistic Regression Accuracy : \",scores)\n",
    "scores = cross_validate(LR1clf, X, y, scoring=scoring, cv=10)\n",
    "\n",
    "for i in range(len(scores['test_accuracy'])):\n",
    "    print(\"Accuracy : \",scores['test_accuracy'][i],' ',\"F1 : \",scores['test_f1'][i])"
   ]
  },
  {
   "cell_type": "code",
   "execution_count": null,
   "metadata": {},
   "outputs": [],
   "source": []
  },
  {
   "cell_type": "markdown",
   "metadata": {},
   "source": [
    "## Fig4. Wave 이상치 데이터 확인"
   ]
  },
  {
   "cell_type": "code",
   "execution_count": 334,
   "metadata": {},
   "outputs": [
    {
     "data": {
      "image/png": "[encoded data removed]",
      "text/plain": [
       "<Figure size 432x288 with 1 Axes>"
      ]
     },
     "metadata": {
      "needs_background": "light"
     },
     "output_type": "display_data"
    }
   ],
   "source": [
    "tree = ET.parse(mypath+'/Train_NoE/Train_NoE (200).XML')\n",
    "root = tree.getroot()\n",
    "data = root[5][10][10].text\n",
    "data = data.split(',')\n",
    "for i in range(len(data)):\n",
    "    data[i] = int(data[i])\n",
    "plt.plot(data)\n",
    "plt.show()"
   ]
  },
  {
   "cell_type": "code",
   "execution_count": 27,
   "metadata": {},
   "outputs": [
    {
     "data": {
      "image/png": "[encoded data removed]",
      "text/plain": [
       "<Figure size 432x288 with 1 Axes>"
      ]
     },
     "metadata": {
      "needs_background": "light"
     },
     "output_type": "display_data"
    }
   ],
   "source": [
    "tree = ET.parse(mypath+'/Train_NoE/Train_NoE (201).XML')\n",
    "root = tree.getroot()\n",
    "data = root[5][10][10].text\n",
    "data = data.split(',')\n",
    "for i in range(len(data)):\n",
    "    data[i] = int(data[i])\n",
    "plt.plot(data)\n",
    "plt.show()"
   ]
  },
  {
   "cell_type": "markdown",
   "metadata": {},
   "source": [
    "# Wave Data 전처리\n"
   ]
  },
  {
   "cell_type": "markdown",
   "metadata": {},
   "source": [
    "# Neural Network"
   ]
  },
  {
   "cell_type": "code",
   "execution_count": 116,
   "metadata": {},
   "outputs": [],
   "source": [
    "onlyfiles = [f for f in listdir(mypath+'Train_E/') if isfile(join(mypath+'Train_E/', f))]\n",
    "data_com = []\n",
    "for i in onlyfiles:\n",
    "    data_list = []\n",
    "    tree = ET.parse(mypath +'Train_E/' + i)\n",
    "    root = tree.getroot()\n",
    "    for j in range(12):\n",
    "        data = root[5][j+5][10].text\n",
    "        data = data.split(',')\n",
    "        data = data[1:4999]\n",
    "        for k in range(len(data)):\n",
    "            data[k] = int(data[k])\n",
    "        data_list.append(np.array(data))\n",
    "    data_com.append(np.array(data_list))\n",
    "    \n",
    "onlyfiles = [f for f in listdir(mypath+'Train_NoE/') if isfile(join(mypath+'Train_NoE/', f))]\n",
    "random.seed(10)\n",
    "# for i in random.sample(onlyfiles,33):\n",
    "for i in onlyfiles:\n",
    "    tree = ET.parse(mypath +'Train_NoE/' + i)\n",
    "    root = tree.getroot()\n",
    "    data_list = []\n",
    "    for j in range(12):\n",
    "        data = root[5][j+5][10].text\n",
    "        data = data.split(',')\n",
    "        data = data[1:4999]\n",
    "        for k in range(len(data)):\n",
    "            data[k] = int(data[k])\n",
    "        data_list.append(np.array(data))\n",
    "    data_com.append(np.array(data_list))\n",
    "  "
   ]
  },
  {
   "cell_type": "code",
   "execution_count": 117,
   "metadata": {},
   "outputs": [],
   "source": [
    "train = np.array(data_com)"
   ]
  },
  {
   "cell_type": "code",
   "execution_count": 118,
   "metadata": {},
   "outputs": [
    {
     "data": {
      "text/plain": [
       "(646, 12, 4998)"
      ]
     },
     "execution_count": 118,
     "metadata": {},
     "output_type": "execute_result"
    }
   ],
   "source": [
    "train.shape"
   ]
  },
  {
   "cell_type": "code",
   "execution_count": 119,
   "metadata": {},
   "outputs": [
    {
     "data": {
      "text/plain": [
       "(646, 59976)"
      ]
     },
     "execution_count": 119,
     "metadata": {},
     "output_type": "execute_result"
    }
   ],
   "source": [
    "train = train.reshape((646,12*4998))\n",
    "train.shape"
   ]
  },
  {
   "cell_type": "code",
   "execution_count": 136,
   "metadata": {},
   "outputs": [],
   "source": [
    "\n",
    "label_list = [0]*619\n",
    "label_list1 = [1]*27\n",
    "\n",
    "for i in label_list1 :\n",
    "    label_list.append(i)"
   ]
  },
  {
   "cell_type": "code",
   "execution_count": 137,
   "metadata": {},
   "outputs": [
    {
     "name": "stdout",
     "output_type": "stream",
     "text": [
      "Counter({0: 619, 1: 27})\n",
      "Counter({0: 619, 1: 619})\n"
     ]
    }
   ],
   "source": [
    "X = train\n",
    "y = label_list\n",
    "# 처음 Y 값 계산\n",
    "counter = Counter(y)\n",
    "print(counter)\n",
    "# SMOTE 적용\n",
    "oversample = SMOTE()\n",
    "X, y = oversample.fit_resample(X, y)\n",
    "# 새로구해진 Y값 계산\n",
    "counter = Counter(y)\n",
    "print(counter)"
   ]
  },
  {
   "cell_type": "code",
   "execution_count": 138,
   "metadata": {},
   "outputs": [],
   "source": [
    "from tensorflow.keras.utils import to_categorical\n",
    "train_labels = to_categorical(label_list)\n"
   ]
  },
  {
   "cell_type": "code",
   "execution_count": 163,
   "metadata": {},
   "outputs": [],
   "source": [
    "X_train, X_test, y_train, y_test = train_test_split(train, train_labels,test_size=0.3, random_state=4)"
   ]
  },
  {
   "cell_type": "code",
   "execution_count": 178,
   "metadata": {},
   "outputs": [],
   "source": [
    "model = models.Sequential()\n",
    "model.add(layers.Dense(128, activation='relu',input_shape=(12*4998,)))\n",
    "model.add(layers.Dense(128, activation='relu'))\n",
    "model.add(layers.Dense(128, activation='relu'))\n",
    "model.add(layers.Dense(128, activation='relu'))\n",
    "model.add(layers.Dense(128, activation='relu'))\n",
    "model.add(layers.Dense(2, activation='sigmoid'))"
   ]
  },
  {
   "cell_type": "code",
   "execution_count": 179,
   "metadata": {},
   "outputs": [],
   "source": [
    "model.compile(optimizer='adam',\n",
    "              loss='binary_crossentropy',\n",
    "              metrics=['accuracy'])"
   ]
  },
  {
   "cell_type": "code",
   "execution_count": 180,
   "metadata": {},
   "outputs": [
    {
     "name": "stdout",
     "output_type": "stream",
     "text": [
      "Epoch 1/20\n",
      "1/1 [==============================] - 2s 2s/step - loss: 7.5510 - accuracy: 0.2810 - val_loss: 2.5961 - val_accuracy: 0.9227\n",
      "Epoch 2/20\n",
      "1/1 [==============================] - 0s 229ms/step - loss: 1.8419 - accuracy: 0.9558 - val_loss: 2.3036 - val_accuracy: 0.9742\n",
      "Epoch 3/20\n",
      "1/1 [==============================] - 0s 263ms/step - loss: 1.5426 - accuracy: 0.9513 - val_loss: 2.5513 - val_accuracy: 0.9742\n",
      "Epoch 4/20\n",
      "1/1 [==============================] - 0s 254ms/step - loss: 1.5322 - accuracy: 0.9513 - val_loss: 3.0900 - val_accuracy: 0.9742\n",
      "Epoch 5/20\n",
      "1/1 [==============================] - 0s 240ms/step - loss: 0.7267 - accuracy: 0.9690 - val_loss: 3.5572 - val_accuracy: 0.9742\n",
      "Epoch 6/20\n",
      "1/1 [==============================] - 0s 258ms/step - loss: 0.3299 - accuracy: 0.9823 - val_loss: 3.8284 - val_accuracy: 0.9742\n",
      "Epoch 7/20\n",
      "1/1 [==============================] - 0s 226ms/step - loss: 0.0743 - accuracy: 0.9912 - val_loss: 3.9914 - val_accuracy: 0.9742\n",
      "Epoch 8/20\n",
      "1/1 [==============================] - 0s 251ms/step - loss: 0.0226 - accuracy: 0.9978 - val_loss: 4.1448 - val_accuracy: 0.9742\n",
      "Epoch 9/20\n",
      "1/1 [==============================] - 0s 254ms/step - loss: 0.0063 - accuracy: 0.9978 - val_loss: 4.2691 - val_accuracy: 0.9742\n",
      "Epoch 10/20\n",
      "1/1 [==============================] - 0s 264ms/step - loss: 0.0101 - accuracy: 1.0000 - val_loss: 4.4523 - val_accuracy: 0.9691\n",
      "Epoch 11/20\n",
      "1/1 [==============================] - 0s 246ms/step - loss: 0.0025 - accuracy: 1.0000 - val_loss: 4.6292 - val_accuracy: 0.9588\n",
      "Epoch 12/20\n",
      "1/1 [==============================] - 0s 236ms/step - loss: 1.0197e-04 - accuracy: 1.0000 - val_loss: 4.8468 - val_accuracy: 0.9536\n",
      "Epoch 13/20\n",
      "1/1 [==============================] - 0s 212ms/step - loss: 0.0093 - accuracy: 1.0000 - val_loss: 5.0335 - val_accuracy: 0.9536\n",
      "Epoch 14/20\n",
      "1/1 [==============================] - 0s 199ms/step - loss: 5.6778e-04 - accuracy: 1.0000 - val_loss: 5.2252 - val_accuracy: 0.9485\n",
      "Epoch 15/20\n",
      "1/1 [==============================] - 0s 191ms/step - loss: 1.1271e-04 - accuracy: 1.0000 - val_loss: 5.4112 - val_accuracy: 0.9485\n",
      "Epoch 16/20\n",
      "1/1 [==============================] - 0s 203ms/step - loss: 1.8587e-05 - accuracy: 1.0000 - val_loss: 5.6296 - val_accuracy: 0.9485\n",
      "Epoch 17/20\n",
      "1/1 [==============================] - 0s 219ms/step - loss: 1.2676e-04 - accuracy: 1.0000 - val_loss: 5.8408 - val_accuracy: 0.9485\n",
      "Epoch 18/20\n",
      "1/1 [==============================] - 0s 214ms/step - loss: 1.4409e-04 - accuracy: 1.0000 - val_loss: 6.0294 - val_accuracy: 0.9433\n",
      "Epoch 19/20\n",
      "1/1 [==============================] - 0s 220ms/step - loss: 9.1112e-06 - accuracy: 1.0000 - val_loss: 6.1968 - val_accuracy: 0.9381\n",
      "Epoch 20/20\n",
      "1/1 [==============================] - 0s 210ms/step - loss: 0.0037 - accuracy: 1.0000 - val_loss: 6.3168 - val_accuracy: 0.9381\n"
     ]
    }
   ],
   "source": [
    "EPOCHS = 20\n",
    "history = model.fit(X_train,y_train,epochs=EPOCHS,batch_size=512,validation_data=(X_test, y_test))"
   ]
  },
  {
   "cell_type": "code",
   "execution_count": 181,
   "metadata": {},
   "outputs": [
    {
     "data": {
      "text/plain": [
       "dict_keys(['loss', 'accuracy', 'val_loss', 'val_accuracy'])"
      ]
     },
     "execution_count": 181,
     "metadata": {},
     "output_type": "execute_result"
    }
   ],
   "source": [
    "history_dict = history.history\n",
    "history_dict.keys()"
   ]
  },
  {
   "cell_type": "code",
   "execution_count": 182,
   "metadata": {},
   "outputs": [
    {
     "data": {
      "image/png": "[encoded data removed]",
      "text/plain": [
       "<Figure size 432x288 with 1 Axes>"
      ]
     },
     "metadata": {
      "needs_background": "light"
     },
     "output_type": "display_data"
    }
   ],
   "source": [
    "history_dict = history.history\n",
    "loss_values = history_dict['loss']\n",
    "val_loss_values = history_dict['val_loss']\n",
    "acc = history_dict['accuracy']\n",
    "epochs = range(1, len(acc) + 1)\n",
    "plt.plot(epochs, loss_values, 'b', label='Training loss', color=\"tab:blue\")\n",
    "plt.plot(epochs, val_loss_values, 'b', label='Validation loss', color=\"tab:red\")\n",
    "plt.title('Training and validation loss')\n",
    "plt.xlabel('Epochs')\n",
    "plt.ylabel('Loss')\n",
    "plt.legend()\n",
    "plt.show()"
   ]
  },
  {
   "cell_type": "code",
   "execution_count": 183,
   "metadata": {},
   "outputs": [
    {
     "data": {
      "image/png": "[encoded data removed]",
      "text/plain": [
       "<Figure size 432x288 with 1 Axes>"
      ]
     },
     "metadata": {
      "needs_background": "light"
     },
     "output_type": "display_data"
    }
   ],
   "source": [
    "acc_values = history_dict['accuracy']\n",
    "val_acc = history_dict['val_accuracy']\n",
    "val_acc_values = history_dict['val_accuracy']\n",
    "plt.plot(epochs, acc, 'b', label='Training acc', color=\"tab:blue\")\n",
    "plt.plot(epochs, val_acc, 'b', label='Validation acc', color=\"tab:red\")\n",
    "plt.title('Training and validation accuracy')\n",
    "plt.xlabel('Epochs')\n",
    "plt.ylabel('ACC')\n",
    "plt.legend()\n",
    "plt.show()"
   ]
  },
  {
   "cell_type": "markdown",
   "metadata": {},
   "source": [
    "# Test"
   ]
  },
  {
   "cell_type": "code",
   "execution_count": 216,
   "metadata": {},
   "outputs": [],
   "source": [
    "data_com = []\n",
    "for i in test1:\n",
    "    data_list = []\n",
    "    tree = ET.parse(mypath +'Test_E/' + i)\n",
    "    root = tree.getroot()\n",
    "    for j in range(12):\n",
    "        data = root[2][26+j][1][0].text\n",
    "        data = data.split(' ')\n",
    "        data = data[1:4999]\n",
    "        for k in range(len(data)):\n",
    "            data[k] = int(data[k])\n",
    "        data_list.append(np.array(data))\n",
    "    data_com.append(np.array(data_list))"
   ]
  },
  {
   "cell_type": "code",
   "execution_count": 217,
   "metadata": {},
   "outputs": [],
   "source": [
    "test = np.array(data_com)\n",
    "test.shape"
   ]
  },
  {
   "cell_type": "code",
   "execution_count": 220,
   "metadata": {},
   "outputs": [
    {
     "data": {
      "text/plain": [
       "(197, 59976)"
      ]
     },
     "execution_count": 220,
     "metadata": {},
     "output_type": "execute_result"
    }
   ],
   "source": [
    "test = test.reshape((len(test),12*4998))\n",
    "test.shape"
   ]
  },
  {
   "cell_type": "code",
   "execution_count": 223,
   "metadata": {},
   "outputs": [
    {
     "data": {
      "text/plain": [
       "array([0, 0, 0, 0, 0, 0, 0, 0, 1, 0, 1, 0, 0, 0, 0, 0, 0, 0, 0, 0, 0, 0,\n",
       "       0, 0, 0, 0, 0, 0, 0, 0, 0, 0, 0, 1, 0, 0, 0, 0, 0, 0, 0, 0, 1, 0,\n",
       "       0, 0, 0, 0, 0, 0, 1, 0, 0, 0, 0, 0, 0, 0, 0, 0, 0, 0, 0, 0, 0, 0,\n",
       "       0, 0, 0, 0, 0, 0, 0, 0, 0, 0, 0, 0, 1, 0, 0, 0, 1, 0, 1, 0, 0, 0,\n",
       "       0, 0, 0, 0, 0, 0, 0, 0, 0, 1, 0, 1, 0, 0, 0, 0, 0, 0, 0, 0, 0, 1,\n",
       "       0, 0, 0, 0, 0, 0, 0, 0, 0, 0, 0, 0, 0, 0, 0, 0, 0, 0, 0, 0, 0, 0,\n",
       "       0, 0, 0, 0, 0, 0, 0, 0, 0, 0, 0, 0, 0, 0, 0, 0, 0, 0, 0, 0, 0, 0,\n",
       "       0, 0, 0, 0, 0, 0, 0, 0, 0, 0, 1, 0, 0, 0, 0, 0, 0, 1, 0, 0, 0, 0,\n",
       "       0, 0, 0, 0, 0, 0, 0, 0, 0, 0, 0, 0, 0, 0, 0, 0, 0, 0, 0, 0, 0],\n",
       "      dtype=int64)"
      ]
     },
     "execution_count": 223,
     "metadata": {},
     "output_type": "execute_result"
    }
   ],
   "source": [
    "model.predict_classes(test)"
   ]
  },
  {
   "cell_type": "code",
   "execution_count": 225,
   "metadata": {},
   "outputs": [],
   "source": [
    "label_list = [1]* len(test)\n",
    "test_labels = to_categorical(label_list)"
   ]
  },
  {
   "cell_type": "code",
   "execution_count": 226,
   "metadata": {},
   "outputs": [
    {
     "name": "stdout",
     "output_type": "stream",
     "text": [
      "7/7 [==============================] - 0s 10ms/step - loss: 81.6401 - accuracy: 0.0660\n"
     ]
    },
    {
     "data": {
      "text/plain": [
       "[81.64008331298828, 0.06598984450101852]"
      ]
     },
     "execution_count": 226,
     "metadata": {},
     "output_type": "execute_result"
    }
   ],
   "source": [
    "model.evaluate(test,test_labels)"
   ]
  },
  {
   "cell_type": "markdown",
   "metadata": {},
   "source": [
    "# 결론:\n",
    "\n",
    " Neural Network를 사용하여 12개의 ECG Lead 데이터의 첫번째, 마지막 값을 제외한 4998개의 데이터를 사용한 결과, 훈련 상황에서 Accuracy와 Validation Accuracy 모두 0.9 보다 높았으나, 최종 테스트 단계에서는 0.1에도 미치지 못하였다. "
   ]
  },
  {
   "cell_type": "markdown",
   "metadata": {},
   "source": [
    "# 가설:\n",
    " ECG Lead 데이터 12개를 모두 사용하는 것은 데이터 양이 너무 많아 과적합이 일어날수 있으니, ECG Lead 한 개 만을 이용한 Neural Network 이용"
   ]
  },
  {
   "cell_type": "code",
   "execution_count": 227,
   "metadata": {},
   "outputs": [],
   "source": [
    "onlyfiles = [f for f in listdir(mypath+'Train_E/') if isfile(join(mypath+'Train_E/', f))]\n",
    "data_com = []\n",
    "for i in onlyfiles:\n",
    "    data_list = []\n",
    "    tree = ET.parse(mypath +'Train_E/' + i)\n",
    "    root = tree.getroot()\n",
    "    for j in range(1):\n",
    "        data = root[5][j+5][10].text\n",
    "        data = data.split(',')\n",
    "        data = data[1:4999]\n",
    "        for k in range(len(data)):\n",
    "            data[k] = int(data[k])\n",
    "        data_list.append(np.array(data))\n",
    "    data_com.append(np.array(data_list))\n",
    "    \n",
    "onlyfiles = [f for f in listdir(mypath+'Train_NoE/') if isfile(join(mypath+'Train_NoE/', f))]\n",
    "random.seed(10)\n",
    "# for i in random.sample(onlyfiles,33):\n",
    "for i in onlyfiles:\n",
    "    tree = ET.parse(mypath +'Train_NoE/' + i)\n",
    "    root = tree.getroot()\n",
    "    data_list = []\n",
    "    for j in range(1):\n",
    "        data = root[5][j+5][10].text\n",
    "        data = data.split(',')\n",
    "        data = data[1:4999]\n",
    "        for k in range(len(data)):\n",
    "            data[k] = int(data[k])\n",
    "        data_list.append(np.array(data))\n",
    "    data_com.append(np.array(data_list))"
   ]
  },
  {
   "cell_type": "code",
   "execution_count": 228,
   "metadata": {},
   "outputs": [],
   "source": [
    "train = np.array(data_com)"
   ]
  },
  {
   "cell_type": "code",
   "execution_count": 229,
   "metadata": {},
   "outputs": [
    {
     "data": {
      "text/plain": [
       "(646, 1, 4998)"
      ]
     },
     "execution_count": 229,
     "metadata": {},
     "output_type": "execute_result"
    }
   ],
   "source": [
    "# 첫번째 Lead 만 사용함으로 shape가 1로 바뀐것을 볼수있다.\n",
    "train.shape"
   ]
  },
  {
   "cell_type": "code",
   "execution_count": 230,
   "metadata": {},
   "outputs": [
    {
     "data": {
      "text/plain": [
       "(646, 4998)"
      ]
     },
     "execution_count": 230,
     "metadata": {},
     "output_type": "execute_result"
    }
   ],
   "source": [
    "train = train.reshape((646,1*4998))\n",
    "train.shape"
   ]
  },
  {
   "cell_type": "code",
   "execution_count": 231,
   "metadata": {},
   "outputs": [],
   "source": [
    "label_list = [1]*27\n",
    "label_list1 = [0]*619\n",
    "\n",
    "for i in label_list1 :\n",
    "    label_list.append(i)"
   ]
  },
  {
   "cell_type": "code",
   "execution_count": 232,
   "metadata": {},
   "outputs": [
    {
     "name": "stdout",
     "output_type": "stream",
     "text": [
      "Counter({0: 619, 1: 27})\n",
      "Counter({1: 619, 0: 619})\n"
     ]
    }
   ],
   "source": [
    "X = train\n",
    "y = label_list\n",
    "# 처음 Y 값 계산\n",
    "counter = Counter(y)\n",
    "print(counter)\n",
    "# SMOTE 적용\n",
    "oversample = SMOTE()\n",
    "X, y = oversample.fit_resample(X, y)\n",
    "# 새로구해진 Y값 계산\n",
    "counter = Counter(y)\n",
    "print(counter)"
   ]
  },
  {
   "cell_type": "code",
   "execution_count": 233,
   "metadata": {},
   "outputs": [],
   "source": [
    "train_labels = to_categorical(label_list)"
   ]
  },
  {
   "cell_type": "code",
   "execution_count": 234,
   "metadata": {},
   "outputs": [],
   "source": [
    "X_train, X_test, y_train, y_test = train_test_split(train, train_labels,test_size=0.3, random_state=4)"
   ]
  },
  {
   "cell_type": "code",
   "execution_count": 260,
   "metadata": {},
   "outputs": [],
   "source": [
    "# 모델의 처음 Input Shape 변경\n",
    "model = models.Sequential()\n",
    "model.add(layers.Dense(128, activation='relu',input_shape=(1*4998,)))\n",
    "model.add(layers.Dense(128, activation='relu'))\n",
    "model.add(layers.Dense(128, activation='relu'))\n",
    "model.add(layers.Dense(128, activation='relu'))\n",
    "model.add(layers.Dense(128, activation='relu'))\n",
    "model.add(layers.Dense(2, activation='sigmoid'))"
   ]
  },
  {
   "cell_type": "code",
   "execution_count": 261,
   "metadata": {},
   "outputs": [],
   "source": [
    "model.compile(optimizer='adam',\n",
    "              loss='binary_crossentropy',\n",
    "              metrics=['accuracy'])"
   ]
  },
  {
   "cell_type": "code",
   "execution_count": 269,
   "metadata": {},
   "outputs": [
    {
     "name": "stdout",
     "output_type": "stream",
     "text": [
      "Epoch 1/5\n",
      "1/1 [==============================] - 0s 73ms/step - loss: 0.0010 - accuracy: 1.0000 - val_loss: 1.2602 - val_accuracy: 0.9536\n",
      "Epoch 2/5\n",
      "1/1 [==============================] - 0s 45ms/step - loss: 7.8600e-04 - accuracy: 1.0000 - val_loss: 1.2576 - val_accuracy: 0.9536\n",
      "Epoch 3/5\n",
      "1/1 [==============================] - 0s 47ms/step - loss: 6.3809e-04 - accuracy: 1.0000 - val_loss: 1.2555 - val_accuracy: 0.9485\n",
      "Epoch 4/5\n",
      "1/1 [==============================] - 0s 41ms/step - loss: 5.5038e-04 - accuracy: 1.0000 - val_loss: 1.2544 - val_accuracy: 0.9485\n",
      "Epoch 5/5\n",
      "1/1 [==============================] - 0s 46ms/step - loss: 4.8823e-04 - accuracy: 1.0000 - val_loss: 1.2544 - val_accuracy: 0.9485\n"
     ]
    }
   ],
   "source": [
    "history = model.fit(X_train,y_train,epochs=5,batch_size=512,validation_data=(X_test, y_test))"
   ]
  },
  {
   "cell_type": "code",
   "execution_count": 270,
   "metadata": {},
   "outputs": [],
   "source": [
    "data_com = []\n",
    "for i in test1:\n",
    "    data_list = []\n",
    "    tree = ET.parse(mypath +'Test_E/' + i)\n",
    "    root = tree.getroot()\n",
    "    for j in range(1):\n",
    "        data = root[2][26+j][1][0].text\n",
    "        data = data.split(' ')\n",
    "        data = data[1:4999]\n",
    "        for k in range(len(data)):\n",
    "            data[k] = int(data[k])\n",
    "        data_list.append(np.array(data))\n",
    "    data_com.append(np.array(data_list))"
   ]
  },
  {
   "cell_type": "code",
   "execution_count": 271,
   "metadata": {},
   "outputs": [
    {
     "data": {
      "text/plain": [
       "(197, 1, 4998)"
      ]
     },
     "execution_count": 271,
     "metadata": {},
     "output_type": "execute_result"
    }
   ],
   "source": [
    "test = np.array(data_com)\n",
    "test.shape"
   ]
  },
  {
   "cell_type": "code",
   "execution_count": 272,
   "metadata": {},
   "outputs": [
    {
     "data": {
      "text/plain": [
       "(197, 4998)"
      ]
     },
     "execution_count": 272,
     "metadata": {},
     "output_type": "execute_result"
    }
   ],
   "source": [
    "test = test.reshape((len(test),1*4998))\n",
    "test.shape"
   ]
  },
  {
   "cell_type": "code",
   "execution_count": 273,
   "metadata": {},
   "outputs": [
    {
     "data": {
      "text/plain": [
       "array([0, 0, 0, 0, 0, 0, 0, 0, 0, 0, 0, 0, 0, 0, 0, 0, 0, 0, 0, 0, 0, 0,\n",
       "       0, 0, 0, 0, 0, 0, 0, 0, 0, 0, 0, 0, 0, 0, 0, 0, 0, 0, 0, 0, 0, 0,\n",
       "       0, 0, 0, 0, 0, 0, 0, 0, 0, 0, 0, 0, 0, 0, 0, 0, 0, 0, 0, 0, 0, 0,\n",
       "       0, 0, 0, 0, 0, 0, 0, 0, 0, 0, 0, 0, 0, 0, 0, 0, 0, 0, 0, 0, 0, 0,\n",
       "       0, 0, 0, 0, 0, 0, 0, 0, 0, 0, 0, 0, 0, 0, 0, 0, 0, 0, 0, 0, 0, 0,\n",
       "       0, 0, 0, 0, 0, 0, 0, 0, 0, 0, 0, 0, 0, 0, 0, 0, 0, 0, 0, 0, 0, 0,\n",
       "       0, 0, 0, 0, 0, 0, 0, 0, 0, 0, 0, 0, 0, 0, 0, 0, 0, 0, 0, 0, 0, 0,\n",
       "       0, 0, 0, 0, 0, 0, 0, 0, 0, 0, 0, 0, 0, 0, 0, 0, 0, 0, 0, 0, 0, 0,\n",
       "       0, 0, 0, 0, 0, 0, 0, 0, 0, 0, 0, 0, 0, 0, 0, 0, 0, 0, 0, 0, 0],\n",
       "      dtype=int64)"
      ]
     },
     "execution_count": 273,
     "metadata": {},
     "output_type": "execute_result"
    }
   ],
   "source": [
    "model.predict_classes(test)"
   ]
  },
  {
   "cell_type": "code",
   "execution_count": 274,
   "metadata": {},
   "outputs": [],
   "source": [
    "label_list = [1]* len(test)\n",
    "test_labels = to_categorical(label_list)"
   ]
  },
  {
   "cell_type": "code",
   "execution_count": 275,
   "metadata": {},
   "outputs": [
    {
     "name": "stdout",
     "output_type": "stream",
     "text": [
      "7/7 [==============================] - 0s 2ms/step - loss: 18.4225 - accuracy: 0.0000e+00\n"
     ]
    },
    {
     "data": {
      "text/plain": [
       "[18.422494888305664, 0.0]"
      ]
     },
     "execution_count": 275,
     "metadata": {},
     "output_type": "execute_result"
    }
   ],
   "source": [
    "model.evaluate(test,test_labels)"
   ]
  },
  {
   "cell_type": "markdown",
   "metadata": {},
   "source": [
    "# 결론: \n",
    "\n",
    "Accuracy가 줄었으나, Loss가 많이 줄었음으로 Lead를 줄이는 방법이 효율적이라 판단"
   ]
  },
  {
   "cell_type": "markdown",
   "metadata": {},
   "source": [
    "# 가설:\n",
    "\n",
    "VT/VF가 있고 없고의 판단은 그래프의 주기 및 패턴에 따라 달라지기 때문에, 정규화를 통해서 숫자를 통일 시켜서 과적합을 줄이는 시도"
   ]
  },
  {
   "cell_type": "code",
   "execution_count": 281,
   "metadata": {},
   "outputs": [
    {
     "data": {
      "image/png": "[encoded data removed]",
      "text/plain": [
       "<Figure size 432x288 with 1 Axes>"
      ]
     },
     "metadata": {
      "needs_background": "light"
     },
     "output_type": "display_data"
    }
   ],
   "source": [
    "tree = ET.parse(mypath+'/Train_NoE/Train_NoE (21).XML')\n",
    "root = tree.getroot()\n",
    "data = root[5][10][10].text\n",
    "data = data.split(',')\n",
    "for i in range(len(data)):\n",
    "    data[i] = int(data[i])\n",
    "plt.plot(data)\n",
    "plt.show()"
   ]
  },
  {
   "cell_type": "code",
   "execution_count": 282,
   "metadata": {},
   "outputs": [
    {
     "data": {
      "image/png": "[encoded data removed]",
      "text/plain": [
       "<Figure size 432x288 with 1 Axes>"
      ]
     },
     "metadata": {
      "needs_background": "light"
     },
     "output_type": "display_data"
    }
   ],
   "source": [
    "tree = ET.parse(mypath+'/Train_NoE/Train_NoE (22).XML')\n",
    "root = tree.getroot()\n",
    "data = root[5][10][10].text\n",
    "data = data.split(',')\n",
    "for i in range(len(data)):\n",
    "    data[i] = int(data[i])\n",
    "plt.plot(data)\n",
    "plt.show()"
   ]
  },
  {
   "cell_type": "code",
   "execution_count": 283,
   "metadata": {},
   "outputs": [],
   "source": [
    "onlyfiles = [f for f in listdir(mypath+'Train_E/') if isfile(join(mypath+'Train_E/', f))]\n",
    "data_com = []\n",
    "for i in onlyfiles:\n",
    "    data_list = []\n",
    "    tree = ET.parse(mypath +'Train_E/' + i)\n",
    "    root = tree.getroot()\n",
    "    for j in range(1):\n",
    "        data = root[5][j+5][10].text\n",
    "        data = data.split(',')\n",
    "        data = data[1:4999]\n",
    "        for k in range(len(data)):\n",
    "            data[k] = int(data[k])\n",
    "        data_list.append(np.array(data))\n",
    "    data_com.append(np.array(data_list))\n",
    "    \n",
    "onlyfiles = [f for f in listdir(mypath+'Train_NoE/') if isfile(join(mypath+'Train_NoE/', f))]\n",
    "random.seed(10)\n",
    "# for i in random.sample(onlyfiles,33):\n",
    "for i in onlyfiles:\n",
    "    tree = ET.parse(mypath +'Train_NoE/' + i)\n",
    "    root = tree.getroot()\n",
    "    data_list = []\n",
    "    for j in range(1):\n",
    "        data = root[5][j+5][10].text\n",
    "        data = data.split(',')\n",
    "        data = data[1:4999]\n",
    "        for k in range(len(data)):\n",
    "            data[k] = int(data[k])\n",
    "        data_list.append(np.array(data))\n",
    "    data_com.append(np.array(data_list))"
   ]
  },
  {
   "cell_type": "code",
   "execution_count": 285,
   "metadata": {},
   "outputs": [
    {
     "data": {
      "text/plain": [
       "(646, 1, 4998)"
      ]
     },
     "execution_count": 285,
     "metadata": {},
     "output_type": "execute_result"
    }
   ],
   "source": [
    "# 첫번째 Lead 만 사용함으로 shape가 1로 바뀐것을 볼수있다.\n",
    "train = np.array(data_com)\n",
    "train.shape"
   ]
  },
  {
   "cell_type": "code",
   "execution_count": 286,
   "metadata": {},
   "outputs": [
    {
     "data": {
      "text/plain": [
       "(646, 4998)"
      ]
     },
     "execution_count": 286,
     "metadata": {},
     "output_type": "execute_result"
    }
   ],
   "source": [
    "train = train.reshape((646,1*4998))\n",
    "train.shape"
   ]
  },
  {
   "cell_type": "code",
   "execution_count": 287,
   "metadata": {},
   "outputs": [
    {
     "data": {
      "text/plain": [
       "array([ 0, -1, -1, ...,  0,  0,  0])"
      ]
     },
     "execution_count": 287,
     "metadata": {},
     "output_type": "execute_result"
    }
   ],
   "source": [
    "train[0]"
   ]
  },
  {
   "cell_type": "code",
   "execution_count": 291,
   "metadata": {},
   "outputs": [
    {
     "data": {
      "text/plain": [
       "array([[-6.73668293e-02, -4.67892110e-02, -3.06420453e-02, ...,\n",
       "         1.21867025e-01,  1.13828725e-01,  1.11493648e-01],\n",
       "       [ 6.05740408e-01,  9.12349487e-01,  1.01791766e+00, ...,\n",
       "        -6.04656584e-01, -6.53031307e-01, -7.04413385e-01],\n",
       "       [-1.45033049e-01, -4.67892110e-02, -5.06741835e-03, ...,\n",
       "        -7.20900362e-01, -8.23444647e-01, -8.16952286e-01],\n",
       "       ...,\n",
       "       [-1.05113895e+00, -1.13554125e+00, -1.15592563e+00, ...,\n",
       "         2.09049858e-01,  1.99035395e-01,  1.95897824e-01],\n",
       "       [ 1.13854350e-01,  1.34669462e-01,  1.22805717e-01, ...,\n",
       "         5.62324775e-03,  2.19831450e-04, -1.04525295e-03],\n",
       "       [-1.55893496e-02, -7.27118785e-02, -8.17912993e-02, ...,\n",
       "        -7.20900362e-01, -7.09835754e-01, -7.04413385e-01]])"
      ]
     },
     "execution_count": 291,
     "metadata": {},
     "output_type": "execute_result"
    }
   ],
   "source": [
    "from sklearn import preprocessing\n",
    "\n",
    "scaler = preprocessing.StandardScaler().fit(train)\n",
    "X_scaled = scaler.transform(train)\n",
    "X_scaled"
   ]
  },
  {
   "cell_type": "code",
   "execution_count": 294,
   "metadata": {},
   "outputs": [
    {
     "data": {
      "text/plain": [
       "array([-0.06736683, -0.04678921, -0.03064205, ...,  0.12186703,\n",
       "        0.11382873,  0.11149365])"
      ]
     },
     "execution_count": 294,
     "metadata": {},
     "output_type": "execute_result"
    }
   ],
   "source": [
    "X_scaled[0]"
   ]
  },
  {
   "cell_type": "code",
   "execution_count": null,
   "metadata": {},
   "outputs": [],
   "source": [
    "label_list = [1]*27\n",
    "label_list1 = [0]*619\n",
    "\n",
    "for i in label_list1 :\n",
    "    label_list.append(i)"
   ]
  },
  {
   "cell_type": "code",
   "execution_count": 296,
   "metadata": {},
   "outputs": [
    {
     "name": "stdout",
     "output_type": "stream",
     "text": [
      "Counter({0: 619, 1: 27})\n",
      "Counter({1: 619, 0: 619})\n"
     ]
    }
   ],
   "source": [
    "X = X_scaled\n",
    "y = label_list\n",
    "# 처음 Y 값 계산\n",
    "counter = Counter(y)\n",
    "print(counter)\n",
    "# SMOTE 적용\n",
    "oversample = SMOTE()\n",
    "X, y = oversample.fit_resample(X, y)\n",
    "# 새로구해진 Y값 계산\n",
    "counter = Counter(y)\n",
    "print(counter)"
   ]
  },
  {
   "cell_type": "code",
   "execution_count": 297,
   "metadata": {},
   "outputs": [],
   "source": [
    "\n",
    "train_labels = to_categorical(label_list)"
   ]
  },
  {
   "cell_type": "code",
   "execution_count": 298,
   "metadata": {},
   "outputs": [],
   "source": [
    "X_train, X_test, y_train, y_test = train_test_split(train, train_labels,test_size=0.2, random_state=4)"
   ]
  },
  {
   "cell_type": "code",
   "execution_count": 299,
   "metadata": {},
   "outputs": [],
   "source": [
    "# 모델의 처음 Input Shape 변경\n",
    "model = models.Sequential()\n",
    "model.add(layers.Dense(128, activation='relu',input_shape=(1*4998,)))\n",
    "model.add(layers.Dense(128, activation='relu'))\n",
    "model.add(layers.Dense(128, activation='relu'))\n",
    "model.add(layers.Dense(128, activation='relu'))\n",
    "model.add(layers.Dense(128, activation='relu'))\n",
    "model.add(layers.Dense(2, activation='sigmoid'))"
   ]
  },
  {
   "cell_type": "code",
   "execution_count": 300,
   "metadata": {},
   "outputs": [],
   "source": [
    "model.compile(optimizer='adam',\n",
    "              loss='binary_crossentropy',\n",
    "              metrics=['accuracy'])"
   ]
  },
  {
   "cell_type": "code",
   "execution_count": 301,
   "metadata": {},
   "outputs": [
    {
     "name": "stdout",
     "output_type": "stream",
     "text": [
      "Epoch 1/5\n",
      "2/2 [==============================] - 1s 322ms/step - loss: 0.7628 - accuracy: 0.9514 - val_loss: 0.4843 - val_accuracy: 0.9692\n",
      "Epoch 2/5\n",
      "2/2 [==============================] - 0s 26ms/step - loss: 0.4424 - accuracy: 0.9553 - val_loss: 0.5879 - val_accuracy: 0.9692\n",
      "Epoch 3/5\n",
      "2/2 [==============================] - 0s 23ms/step - loss: 0.3654 - accuracy: 0.9560 - val_loss: 0.6147 - val_accuracy: 0.9692\n",
      "Epoch 4/5\n",
      "2/2 [==============================] - 0s 25ms/step - loss: 0.2487 - accuracy: 0.9598 - val_loss: 0.6217 - val_accuracy: 0.9692\n",
      "Epoch 5/5\n",
      "2/2 [==============================] - 0s 29ms/step - loss: 0.1618 - accuracy: 0.9709 - val_loss: 0.6263 - val_accuracy: 0.9692\n"
     ]
    }
   ],
   "source": [
    "history = model.fit(X_train,y_train,epochs=5,batch_size=512,validation_data=(X_test, y_test))"
   ]
  },
  {
   "cell_type": "code",
   "execution_count": 302,
   "metadata": {},
   "outputs": [],
   "source": [
    "data_com = []\n",
    "for i in test1:\n",
    "    data_list = []\n",
    "    tree = ET.parse(mypath +'Test_E/' + i)\n",
    "    root = tree.getroot()\n",
    "    for j in range(1):\n",
    "        data = root[2][26+j][1][0].text\n",
    "        data = data.split(' ')\n",
    "        data = data[1:4999]\n",
    "        for k in range(len(data)):\n",
    "            data[k] = int(data[k])\n",
    "        data_list.append(np.array(data))\n",
    "    data_com.append(np.array(data_list))"
   ]
  },
  {
   "cell_type": "code",
   "execution_count": 303,
   "metadata": {},
   "outputs": [
    {
     "data": {
      "text/plain": [
       "(197, 1, 4998)"
      ]
     },
     "execution_count": 303,
     "metadata": {},
     "output_type": "execute_result"
    }
   ],
   "source": [
    "test = np.array(data_com)\n",
    "test.shape"
   ]
  },
  {
   "cell_type": "code",
   "execution_count": 304,
   "metadata": {},
   "outputs": [
    {
     "data": {
      "text/plain": [
       "(197, 4998)"
      ]
     },
     "execution_count": 304,
     "metadata": {},
     "output_type": "execute_result"
    }
   ],
   "source": [
    "test = test.reshape((len(test),1*4998))\n",
    "test.shape"
   ]
  },
  {
   "cell_type": "code",
   "execution_count": 305,
   "metadata": {},
   "outputs": [
    {
     "data": {
      "text/plain": [
       "array([[ 0.22713318,  0.20458297,  0.19478928, ...,  0.00918369,\n",
       "         0.00171541, -0.04627156],\n",
       "       [ 0.34098874,  0.39247502,  0.36019224, ...,  0.00918369,\n",
       "         0.00171541, -0.00502497],\n",
       "       [ 0.34098874,  0.298529  ,  0.27749076, ...,  0.22456309,\n",
       "         0.21292581,  0.20120799],\n",
       "       ...,\n",
       "       [ 0.91026655,  0.6743131 ,  0.52559521, ...,  0.99992893,\n",
       "         1.05776738,  0.94364664],\n",
       "       [ 0.22713318,  0.298529  ,  0.36019224, ...,  0.87070129,\n",
       "         0.84655699,  0.81990687],\n",
       "       [ 0.4548443 ,  0.39247502,  0.44289373, ...,  0.35379073,\n",
       "         0.33965204,  0.28370118]])"
      ]
     },
     "execution_count": 305,
     "metadata": {},
     "output_type": "execute_result"
    }
   ],
   "source": [
    "scaler = preprocessing.StandardScaler().fit(test)\n",
    "X_scaled_test = scaler.transform(test)\n",
    "X_scaled_test"
   ]
  },
  {
   "cell_type": "code",
   "execution_count": 306,
   "metadata": {},
   "outputs": [
    {
     "data": {
      "text/plain": [
       "array([0, 0, 0, 0, 0, 0, 0, 0, 0, 0, 0, 0, 0, 0, 0, 0, 0, 0, 0, 0, 0, 0,\n",
       "       0, 0, 0, 0, 0, 0, 0, 0, 0, 0, 0, 0, 0, 0, 0, 0, 0, 0, 0, 0, 0, 0,\n",
       "       0, 0, 0, 0, 0, 0, 0, 0, 0, 0, 0, 0, 0, 0, 0, 0, 0, 0, 0, 0, 0, 0,\n",
       "       0, 0, 0, 0, 0, 0, 0, 0, 0, 0, 0, 0, 0, 0, 0, 0, 0, 0, 0, 0, 0, 0,\n",
       "       0, 0, 0, 0, 0, 0, 0, 0, 0, 0, 0, 0, 0, 0, 0, 0, 0, 0, 0, 0, 0, 0,\n",
       "       0, 0, 0, 0, 0, 0, 0, 0, 0, 0, 0, 0, 0, 0, 0, 0, 0, 0, 0, 0, 0, 0,\n",
       "       0, 0, 0, 0, 0, 0, 0, 0, 0, 0, 0, 0, 0, 0, 0, 0, 0, 0, 0, 0, 0, 0,\n",
       "       0, 0, 0, 0, 0, 0, 0, 0, 0, 0, 0, 0, 0, 0, 0, 0, 0, 0, 0, 0, 0, 0,\n",
       "       0, 0, 0, 0, 0, 0, 0, 0, 0, 0, 0, 0, 0, 0, 0, 0, 0, 0, 0, 0, 0],\n",
       "      dtype=int64)"
      ]
     },
     "execution_count": 306,
     "metadata": {},
     "output_type": "execute_result"
    }
   ],
   "source": [
    "model.predict_classes(X_scaled_test)"
   ]
  },
  {
   "cell_type": "code",
   "execution_count": 316,
   "metadata": {},
   "outputs": [
    {
     "name": "stdout",
     "output_type": "stream",
     "text": [
      "7/7 [==============================] - 0s 3ms/step - loss: 1.1270 - accuracy: 0.0000e+00\n"
     ]
    },
    {
     "data": {
      "text/plain": [
       "[1.1270421743392944, 0.0]"
      ]
     },
     "execution_count": 316,
     "metadata": {},
     "output_type": "execute_result"
    }
   ],
   "source": [
    "label_list = [1]* len(test)\n",
    "test_labels = to_categorical(label_list)\n",
    "model.evaluate(X_scaled_test,test_labels)"
   ]
  },
  {
   "cell_type": "markdown",
   "metadata": {},
   "source": [
    "# ECG Lead 2, 500~1000데이터만 사용"
   ]
  },
  {
   "cell_type": "code",
   "execution_count": 426,
   "metadata": {},
   "outputs": [],
   "source": [
    "onlyfiles = [f for f in listdir(mypath+'Train_E/') if isfile(join(mypath+'Train_E/', f))]\n",
    "data_com = []\n",
    "for i in onlyfiles:\n",
    "    data_list = []\n",
    "    tree = ET.parse(mypath +'Train_E/' + i)\n",
    "    root = tree.getroot()\n",
    "    for j in range(1):\n",
    "        data = root[5][j+6][10].text\n",
    "        data = data.split(',')\n",
    "        data = data[500:1500]\n",
    "        for k in range(len(data)):\n",
    "            data[k] = int(data[k])\n",
    "        data_list.append(np.array(data))\n",
    "    data_com.append(np.array(data_list))\n",
    "    \n",
    "onlyfiles = [f for f in listdir(mypath+'Train_NoE/') if isfile(join(mypath+'Train_NoE/', f))]\n",
    "random.seed(10)\n",
    "# for i in random.sample(onlyfiles,33):\n",
    "for i in onlyfiles:\n",
    "    tree = ET.parse(mypath +'Train_NoE/' + i)\n",
    "    root = tree.getroot()\n",
    "    data_list = []\n",
    "    for j in range(1):\n",
    "        data = root[5][j+6][10].text\n",
    "        data = data.split(',')\n",
    "        data = data[500:1500]\n",
    "        for k in range(len(data)):\n",
    "            data[k] = int(data[k])\n",
    "        data_list.append(np.array(data))\n",
    "    data_com.append(np.array(data_list))"
   ]
  },
  {
   "cell_type": "code",
   "execution_count": 427,
   "metadata": {},
   "outputs": [
    {
     "data": {
      "text/plain": [
       "(646, 1, 1000)"
      ]
     },
     "execution_count": 427,
     "metadata": {},
     "output_type": "execute_result"
    }
   ],
   "source": [
    "# 첫번째 Lead 만 사용함으로 shape가 1로 바뀐것을 볼수있다.\n",
    "train = np.array(data_com)\n",
    "train.shape"
   ]
  },
  {
   "cell_type": "code",
   "execution_count": 428,
   "metadata": {},
   "outputs": [
    {
     "data": {
      "text/plain": [
       "(646, 1000)"
      ]
     },
     "execution_count": 428,
     "metadata": {},
     "output_type": "execute_result"
    }
   ],
   "source": [
    "train = train.reshape((646,1*1000))\n",
    "train.shape"
   ]
  },
  {
   "cell_type": "code",
   "execution_count": 429,
   "metadata": {},
   "outputs": [
    {
     "data": {
      "text/plain": [
       "array([[-1.69409896e-01, -1.65602598e-01, -1.58348256e-01, ...,\n",
       "        -2.29919630e-02, -2.62538201e-02, -2.67073092e-02],\n",
       "       [ 2.14064377e+00,  1.80889318e+00,  1.56647207e+00, ...,\n",
       "        -4.47357909e-01, -5.59762740e-01, -5.69431670e-01],\n",
       "       [-9.06580660e-02, -8.33319405e-02, -1.30528573e-01, ...,\n",
       "        -1.64447278e-01, -2.22809738e-01, -1.69529509e-01],\n",
       "       ...,\n",
       "       [-9.06580660e-02, -1.10755493e-01, -1.02708890e-01, ...,\n",
       "        -4.75648972e-01, -4.19365656e-01, -3.98045030e-01],\n",
       "       [-1.19062364e-02, -1.06128299e-03,  8.56984032e-03, ...,\n",
       "         5.29910004e-03,  1.82559676e-03,  1.85713078e-03],\n",
       "       [-3.53164165e-01, -3.57567466e-01, -3.53086034e-01, ...,\n",
       "        -2.49320467e-01, -2.50889155e-01, -2.55222829e-01]])"
      ]
     },
     "execution_count": 429,
     "metadata": {},
     "output_type": "execute_result"
    }
   ],
   "source": [
    "scaler = preprocessing.StandardScaler().fit(train)\n",
    "X_scaled = scaler.transform(train)\n",
    "X_scaled"
   ]
  },
  {
   "cell_type": "code",
   "execution_count": 430,
   "metadata": {},
   "outputs": [],
   "source": [
    "label_list = [1]*27\n",
    "label_list1 = [0]*619\n",
    "\n",
    "for i in label_list1 :\n",
    "    label_list.append(i)"
   ]
  },
  {
   "cell_type": "code",
   "execution_count": 431,
   "metadata": {},
   "outputs": [
    {
     "name": "stdout",
     "output_type": "stream",
     "text": [
      "Counter({0: 619, 1: 27})\n",
      "Counter({1: 619, 0: 619})\n"
     ]
    }
   ],
   "source": [
    "X = X_scaled\n",
    "y = label_list\n",
    "# 처음 Y 값 계산\n",
    "counter = Counter(y)\n",
    "print(counter)\n",
    "# SMOTE 적용\n",
    "oversample = SMOTE()\n",
    "X, y = oversample.fit_resample(X, y)\n",
    "# 새로구해진 Y값 계산\n",
    "counter = Counter(y)\n",
    "print(counter)"
   ]
  },
  {
   "cell_type": "code",
   "execution_count": 432,
   "metadata": {},
   "outputs": [],
   "source": [
    "train_labels = to_categorical(label_list)"
   ]
  },
  {
   "cell_type": "code",
   "execution_count": 433,
   "metadata": {},
   "outputs": [],
   "source": [
    "X_train, X_test, y_train, y_test = train_test_split(train, train_labels,test_size=0.15, random_state=4)"
   ]
  },
  {
   "cell_type": "code",
   "execution_count": 434,
   "metadata": {},
   "outputs": [],
   "source": [
    "# 모델의 처음 Input Shape 변경\n",
    "model = models.Sequential()\n",
    "model.add(layers.Dense(128, activation='relu',input_shape=(1*1000,)))\n",
    "model.add(layers.Dense(128, activation='relu'))\n",
    "model.add(layers.Dense(128, activation='relu'))\n",
    "model.add(layers.Dense(128, activation='relu'))\n",
    "model.add(layers.Dense(128, activation='relu'))\n",
    "model.add(layers.Dense(2, activation='sigmoid'))"
   ]
  },
  {
   "cell_type": "code",
   "execution_count": 435,
   "metadata": {},
   "outputs": [],
   "source": [
    "model.compile(optimizer='adam',\n",
    "              loss='binary_crossentropy',\n",
    "              metrics=['accuracy'])"
   ]
  },
  {
   "cell_type": "code",
   "execution_count": 436,
   "metadata": {},
   "outputs": [
    {
     "name": "stdout",
     "output_type": "stream",
     "text": [
      "Epoch 1/5\n",
      "2/2 [==============================] - 1s 242ms/step - loss: 3.3031 - accuracy: 0.3776 - val_loss: 0.2917 - val_accuracy: 0.9691\n",
      "Epoch 2/5\n",
      "2/2 [==============================] - 0s 22ms/step - loss: 0.6989 - accuracy: 0.9552 - val_loss: 0.4307 - val_accuracy: 0.9691\n",
      "Epoch 3/5\n",
      "2/2 [==============================] - 0s 25ms/step - loss: 0.7991 - accuracy: 0.9552 - val_loss: 0.4810 - val_accuracy: 0.9691\n",
      "Epoch 4/5\n",
      "2/2 [==============================] - 0s 23ms/step - loss: 0.6886 - accuracy: 0.9565 - val_loss: 0.4743 - val_accuracy: 0.9691\n",
      "Epoch 5/5\n",
      "2/2 [==============================] - 0s 17ms/step - loss: 0.5507 - accuracy: 0.9552 - val_loss: 0.4339 - val_accuracy: 0.9691\n"
     ]
    }
   ],
   "source": [
    "history = model.fit(X_train,y_train,epochs=5,batch_size=512,validation_data=(X_test, y_test))"
   ]
  },
  {
   "cell_type": "code",
   "execution_count": 438,
   "metadata": {},
   "outputs": [],
   "source": [
    "data_com = []\n",
    "for i in test1:\n",
    "    data_list = []\n",
    "    tree = ET.parse(mypath +'Test_E/' + i)\n",
    "    root = tree.getroot()\n",
    "    for j in range(1):\n",
    "        data = root[2][27+j][1][0].text\n",
    "        data = data.split(' ')\n",
    "        data = data[500:1500]\n",
    "        for k in range(len(data)):\n",
    "            data[k] = int(data[k])\n",
    "        data_list.append(np.array(data))\n",
    "    data_com.append(np.array(data_list))"
   ]
  },
  {
   "cell_type": "code",
   "execution_count": 439,
   "metadata": {},
   "outputs": [
    {
     "data": {
      "text/plain": [
       "(197, 1, 1000)"
      ]
     },
     "execution_count": 439,
     "metadata": {},
     "output_type": "execute_result"
    }
   ],
   "source": [
    "test = np.array(data_com)\n",
    "test.shape"
   ]
  },
  {
   "cell_type": "code",
   "execution_count": 440,
   "metadata": {},
   "outputs": [
    {
     "data": {
      "text/plain": [
       "(197, 1000)"
      ]
     },
     "execution_count": 440,
     "metadata": {},
     "output_type": "execute_result"
    }
   ],
   "source": [
    "test = test.reshape((len(test),1*1000))\n",
    "test.shape"
   ]
  },
  {
   "cell_type": "code",
   "execution_count": 441,
   "metadata": {},
   "outputs": [
    {
     "data": {
      "text/plain": [
       "array([[ 0.22254568,  0.2110493 ,  0.19644961, ..., -2.84428774,\n",
       "        -3.20707286, -3.78363053],\n",
       "       [ 0.22254568,  0.2110493 ,  0.26084324, ...,  0.82857813,\n",
       "         0.82834913,  0.83455543],\n",
       "       [-0.32471298, -0.36023377, -0.38309308, ..., -0.02198028,\n",
       "        -0.01716786, -0.01211199],\n",
       "       ...,\n",
       "       [-2.08810201, -1.50279991, -0.89824213, ...,  1.09921035,\n",
       "         1.09737726,  1.06546473],\n",
       "       [ 0.52657827,  0.52842879,  0.51841776, ...,  0.40329892,\n",
       "         0.40559064,  0.37273684],\n",
       "       [-3.91229755, -4.86702245, -5.66337086, ...,  0.40329892,\n",
       "         0.40559064,  0.41122172]])"
      ]
     },
     "execution_count": 441,
     "metadata": {},
     "output_type": "execute_result"
    }
   ],
   "source": [
    "scaler = preprocessing.StandardScaler().fit(test)\n",
    "X_scaled_test = scaler.transform(test)\n",
    "X_scaled_test"
   ]
  },
  {
   "cell_type": "code",
   "execution_count": 442,
   "metadata": {},
   "outputs": [
    {
     "data": {
      "text/plain": [
       "array([0, 0, 0, 0, 0, 0, 0, 0, 0, 0, 0, 0, 0, 0, 0, 0, 0, 0, 0, 0, 0, 0,\n",
       "       0, 0, 0, 0, 0, 0, 0, 0, 0, 0, 0, 0, 0, 0, 0, 0, 0, 0, 0, 0, 0, 0,\n",
       "       0, 0, 0, 0, 0, 0, 0, 0, 0, 0, 0, 0, 0, 0, 0, 0, 0, 0, 0, 0, 0, 0,\n",
       "       0, 0, 0, 0, 0, 0, 0, 0, 0, 0, 0, 0, 0, 0, 0, 0, 0, 0, 0, 0, 0, 0,\n",
       "       0, 0, 0, 0, 0, 0, 0, 0, 0, 0, 0, 0, 0, 0, 0, 0, 0, 0, 0, 0, 0, 0,\n",
       "       0, 0, 0, 0, 0, 0, 0, 0, 0, 0, 0, 0, 0, 0, 0, 0, 0, 0, 0, 0, 0, 0,\n",
       "       0, 0, 0, 0, 0, 0, 0, 0, 0, 0, 0, 0, 0, 0, 0, 0, 0, 0, 0, 0, 0, 0,\n",
       "       0, 0, 0, 0, 0, 0, 0, 0, 0, 0, 0, 0, 0, 0, 0, 0, 0, 0, 0, 0, 0, 0,\n",
       "       0, 0, 0, 0, 0, 0, 0, 0, 0, 0, 0, 0, 0, 0, 0, 0, 0, 0, 0, 0, 0],\n",
       "      dtype=int64)"
      ]
     },
     "execution_count": 442,
     "metadata": {},
     "output_type": "execute_result"
    }
   ],
   "source": [
    "model.predict_classes(X_scaled_test)"
   ]
  },
  {
   "cell_type": "code",
   "execution_count": 443,
   "metadata": {},
   "outputs": [
    {
     "name": "stdout",
     "output_type": "stream",
     "text": [
      "7/7 [==============================] - 0s 1ms/step - loss: 1.1237 - accuracy: 0.0000e+00\n"
     ]
    },
    {
     "data": {
      "text/plain": [
       "[1.1236571073532104, 0.0]"
      ]
     },
     "execution_count": 443,
     "metadata": {},
     "output_type": "execute_result"
    }
   ],
   "source": [
    "label_list = [1]* len(test)\n",
    "test_labels = to_categorical(label_list)\n",
    "model.evaluate(X_scaled_test,test_labels)"
   ]
  },
  {
   "cell_type": "code",
   "execution_count": null,
   "metadata": {},
   "outputs": [],
   "source": []
  },
  {
   "cell_type": "code",
   "execution_count": null,
   "metadata": {},
   "outputs": [],
   "source": []
  },
  {
   "cell_type": "code",
   "execution_count": null,
   "metadata": {},
   "outputs": [],
   "source": []
  },
  {
   "cell_type": "code",
   "execution_count": null,
   "metadata": {},
   "outputs": [],
   "source": []
  }
 ],
 "metadata": {
  "kernelspec": {
   "display_name": "Python 3",
   "language": "python",
   "name": "python3"
  },
  "language_info": {
   "codemirror_mode": {
    "name": "ipython",
    "version": 3
   },
   "file_extension": ".py",
   "mimetype": "text/x-python",
   "name": "python",
   "nbconvert_exporter": "python",
   "pygments_lexer": "ipython3",
   "version": "3.8.5"
  }
 },
 "nbformat": 4,
 "nbformat_minor": 4
}
